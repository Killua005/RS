{
 "cells": [
  {
   "cell_type": "code",
   "execution_count": 1,
   "id": "258ab193",
   "metadata": {},
   "outputs": [],
   "source": [
    "# Importing python libraries\n",
    "import numpy as np\n",
    "import pandas as pd\n",
    "import matplotlib.pyplot as plt\n",
    "import seaborn as sns\n",
    "\n",
    "# To make all outputs show\n",
    "from IPython.core.interactiveshell import InteractiveShell\n",
    "InteractiveShell.ast_node_interactivity = \"all\""
   ]
  },
  {
   "cell_type": "code",
   "execution_count": 2,
   "id": "68d9babd",
   "metadata": {},
   "outputs": [],
   "source": [
    "file_1= r'D:\\Project\\Project_material\\Accident_Information.csv'\n",
    "file_2= r'D:\\Project\\Project_material\\Vehicle_Information.csv'\n",
    "\n",
    "report_1 = pd.read_csv(file_1,  encoding='unicode_escape',index_col = 0, low_memory = False)\n",
    "report_2 = pd.read_csv(file_2, encoding = 'unicode_escape', index_col = 0, low_memory = False)"
   ]
  },
  {
   "cell_type": "code",
   "execution_count": 3,
   "id": "0e021e1c",
   "metadata": {},
   "outputs": [
    {
     "data": {
      "text/html": [
       "<div>\n",
       "<style scoped>\n",
       "    .dataframe tbody tr th:only-of-type {\n",
       "        vertical-align: middle;\n",
       "    }\n",
       "\n",
       "    .dataframe tbody tr th {\n",
       "        vertical-align: top;\n",
       "    }\n",
       "\n",
       "    .dataframe thead th {\n",
       "        text-align: right;\n",
       "    }\n",
       "</style>\n",
       "<table border=\"1\" class=\"dataframe\">\n",
       "  <thead>\n",
       "    <tr style=\"text-align: right;\">\n",
       "      <th></th>\n",
       "      <th>1st_Road_Class</th>\n",
       "      <th>1st_Road_Number</th>\n",
       "      <th>2nd_Road_Class</th>\n",
       "      <th>2nd_Road_Number</th>\n",
       "      <th>Accident_Severity</th>\n",
       "      <th>Carriageway_Hazards</th>\n",
       "      <th>Date</th>\n",
       "      <th>Day_of_Week</th>\n",
       "      <th>Did_Police_Officer_Attend_Scene_of_Accident</th>\n",
       "      <th>Junction_Control</th>\n",
       "      <th>...</th>\n",
       "      <th>Police_Force</th>\n",
       "      <th>Road_Surface_Conditions</th>\n",
       "      <th>Road_Type</th>\n",
       "      <th>Special_Conditions_at_Site</th>\n",
       "      <th>Speed_limit</th>\n",
       "      <th>Time</th>\n",
       "      <th>Urban_or_Rural_Area</th>\n",
       "      <th>Weather_Conditions</th>\n",
       "      <th>Year</th>\n",
       "      <th>InScotland</th>\n",
       "    </tr>\n",
       "    <tr>\n",
       "      <th>Accident_Index</th>\n",
       "      <th></th>\n",
       "      <th></th>\n",
       "      <th></th>\n",
       "      <th></th>\n",
       "      <th></th>\n",
       "      <th></th>\n",
       "      <th></th>\n",
       "      <th></th>\n",
       "      <th></th>\n",
       "      <th></th>\n",
       "      <th></th>\n",
       "      <th></th>\n",
       "      <th></th>\n",
       "      <th></th>\n",
       "      <th></th>\n",
       "      <th></th>\n",
       "      <th></th>\n",
       "      <th></th>\n",
       "      <th></th>\n",
       "      <th></th>\n",
       "      <th></th>\n",
       "    </tr>\n",
       "  </thead>\n",
       "  <tbody>\n",
       "    <tr>\n",
       "      <th>200501BS00001</th>\n",
       "      <td>A</td>\n",
       "      <td>3218.0</td>\n",
       "      <td>NaN</td>\n",
       "      <td>0.0</td>\n",
       "      <td>Serious</td>\n",
       "      <td>None</td>\n",
       "      <td>2005-01-04</td>\n",
       "      <td>Tuesday</td>\n",
       "      <td>1.0</td>\n",
       "      <td>Data missing or out of range</td>\n",
       "      <td>...</td>\n",
       "      <td>Metropolitan Police</td>\n",
       "      <td>Wet or damp</td>\n",
       "      <td>Single carriageway</td>\n",
       "      <td>None</td>\n",
       "      <td>30.0</td>\n",
       "      <td>17:42</td>\n",
       "      <td>Urban</td>\n",
       "      <td>Raining no high winds</td>\n",
       "      <td>2005</td>\n",
       "      <td>No</td>\n",
       "    </tr>\n",
       "    <tr>\n",
       "      <th>200501BS00002</th>\n",
       "      <td>B</td>\n",
       "      <td>450.0</td>\n",
       "      <td>C</td>\n",
       "      <td>0.0</td>\n",
       "      <td>Slight</td>\n",
       "      <td>None</td>\n",
       "      <td>2005-01-05</td>\n",
       "      <td>Wednesday</td>\n",
       "      <td>1.0</td>\n",
       "      <td>Auto traffic signal</td>\n",
       "      <td>...</td>\n",
       "      <td>Metropolitan Police</td>\n",
       "      <td>Dry</td>\n",
       "      <td>Dual carriageway</td>\n",
       "      <td>None</td>\n",
       "      <td>30.0</td>\n",
       "      <td>17:36</td>\n",
       "      <td>Urban</td>\n",
       "      <td>Fine no high winds</td>\n",
       "      <td>2005</td>\n",
       "      <td>No</td>\n",
       "    </tr>\n",
       "    <tr>\n",
       "      <th>200501BS00003</th>\n",
       "      <td>C</td>\n",
       "      <td>0.0</td>\n",
       "      <td>NaN</td>\n",
       "      <td>0.0</td>\n",
       "      <td>Slight</td>\n",
       "      <td>None</td>\n",
       "      <td>2005-01-06</td>\n",
       "      <td>Thursday</td>\n",
       "      <td>1.0</td>\n",
       "      <td>Data missing or out of range</td>\n",
       "      <td>...</td>\n",
       "      <td>Metropolitan Police</td>\n",
       "      <td>Dry</td>\n",
       "      <td>Single carriageway</td>\n",
       "      <td>None</td>\n",
       "      <td>30.0</td>\n",
       "      <td>00:15</td>\n",
       "      <td>Urban</td>\n",
       "      <td>Fine no high winds</td>\n",
       "      <td>2005</td>\n",
       "      <td>No</td>\n",
       "    </tr>\n",
       "    <tr>\n",
       "      <th>200501BS00004</th>\n",
       "      <td>A</td>\n",
       "      <td>3220.0</td>\n",
       "      <td>NaN</td>\n",
       "      <td>0.0</td>\n",
       "      <td>Slight</td>\n",
       "      <td>None</td>\n",
       "      <td>2005-01-07</td>\n",
       "      <td>Friday</td>\n",
       "      <td>1.0</td>\n",
       "      <td>Data missing or out of range</td>\n",
       "      <td>...</td>\n",
       "      <td>Metropolitan Police</td>\n",
       "      <td>Dry</td>\n",
       "      <td>Single carriageway</td>\n",
       "      <td>None</td>\n",
       "      <td>30.0</td>\n",
       "      <td>10:35</td>\n",
       "      <td>Urban</td>\n",
       "      <td>Fine no high winds</td>\n",
       "      <td>2005</td>\n",
       "      <td>No</td>\n",
       "    </tr>\n",
       "  </tbody>\n",
       "</table>\n",
       "<p>4 rows × 33 columns</p>\n",
       "</div>"
      ],
      "text/plain": [
       "               1st_Road_Class  1st_Road_Number 2nd_Road_Class  \\\n",
       "Accident_Index                                                  \n",
       "200501BS00001               A           3218.0            NaN   \n",
       "200501BS00002               B            450.0              C   \n",
       "200501BS00003               C              0.0            NaN   \n",
       "200501BS00004               A           3220.0            NaN   \n",
       "\n",
       "                2nd_Road_Number Accident_Severity Carriageway_Hazards  \\\n",
       "Accident_Index                                                          \n",
       "200501BS00001               0.0           Serious                None   \n",
       "200501BS00002               0.0            Slight                None   \n",
       "200501BS00003               0.0            Slight                None   \n",
       "200501BS00004               0.0            Slight                None   \n",
       "\n",
       "                      Date Day_of_Week  \\\n",
       "Accident_Index                           \n",
       "200501BS00001   2005-01-04     Tuesday   \n",
       "200501BS00002   2005-01-05   Wednesday   \n",
       "200501BS00003   2005-01-06    Thursday   \n",
       "200501BS00004   2005-01-07      Friday   \n",
       "\n",
       "                Did_Police_Officer_Attend_Scene_of_Accident  \\\n",
       "Accident_Index                                                \n",
       "200501BS00001                                           1.0   \n",
       "200501BS00002                                           1.0   \n",
       "200501BS00003                                           1.0   \n",
       "200501BS00004                                           1.0   \n",
       "\n",
       "                            Junction_Control  ...         Police_Force  \\\n",
       "Accident_Index                                ...                        \n",
       "200501BS00001   Data missing or out of range  ...  Metropolitan Police   \n",
       "200501BS00002            Auto traffic signal  ...  Metropolitan Police   \n",
       "200501BS00003   Data missing or out of range  ...  Metropolitan Police   \n",
       "200501BS00004   Data missing or out of range  ...  Metropolitan Police   \n",
       "\n",
       "                Road_Surface_Conditions           Road_Type  \\\n",
       "Accident_Index                                                \n",
       "200501BS00001               Wet or damp  Single carriageway   \n",
       "200501BS00002                       Dry    Dual carriageway   \n",
       "200501BS00003                       Dry  Single carriageway   \n",
       "200501BS00004                       Dry  Single carriageway   \n",
       "\n",
       "               Special_Conditions_at_Site Speed_limit   Time  \\\n",
       "Accident_Index                                                 \n",
       "200501BS00001                        None        30.0  17:42   \n",
       "200501BS00002                        None        30.0  17:36   \n",
       "200501BS00003                        None        30.0  00:15   \n",
       "200501BS00004                        None        30.0  10:35   \n",
       "\n",
       "                Urban_or_Rural_Area     Weather_Conditions  Year  InScotland  \n",
       "Accident_Index                                                                \n",
       "200501BS00001                 Urban  Raining no high winds  2005          No  \n",
       "200501BS00002                 Urban     Fine no high winds  2005          No  \n",
       "200501BS00003                 Urban     Fine no high winds  2005          No  \n",
       "200501BS00004                 Urban     Fine no high winds  2005          No  \n",
       "\n",
       "[4 rows x 33 columns]"
      ]
     },
     "execution_count": 3,
     "metadata": {},
     "output_type": "execute_result"
    },
    {
     "data": {
      "text/html": [
       "<div>\n",
       "<style scoped>\n",
       "    .dataframe tbody tr th:only-of-type {\n",
       "        vertical-align: middle;\n",
       "    }\n",
       "\n",
       "    .dataframe tbody tr th {\n",
       "        vertical-align: top;\n",
       "    }\n",
       "\n",
       "    .dataframe thead th {\n",
       "        text-align: right;\n",
       "    }\n",
       "</style>\n",
       "<table border=\"1\" class=\"dataframe\">\n",
       "  <thead>\n",
       "    <tr style=\"text-align: right;\">\n",
       "      <th></th>\n",
       "      <th>Age_Band_of_Driver</th>\n",
       "      <th>Age_of_Vehicle</th>\n",
       "      <th>Driver_Home_Area_Type</th>\n",
       "      <th>Driver_IMD_Decile</th>\n",
       "      <th>Engine_Capacity_.CC.</th>\n",
       "      <th>Hit_Object_in_Carriageway</th>\n",
       "      <th>Hit_Object_off_Carriageway</th>\n",
       "      <th>Journey_Purpose_of_Driver</th>\n",
       "      <th>Junction_Location</th>\n",
       "      <th>make</th>\n",
       "      <th>...</th>\n",
       "      <th>Skidding_and_Overturning</th>\n",
       "      <th>Towing_and_Articulation</th>\n",
       "      <th>Vehicle_Leaving_Carriageway</th>\n",
       "      <th>Vehicle_Location.Restricted_Lane</th>\n",
       "      <th>Vehicle_Manoeuvre</th>\n",
       "      <th>Vehicle_Reference</th>\n",
       "      <th>Vehicle_Type</th>\n",
       "      <th>Was_Vehicle_Left_Hand_Drive</th>\n",
       "      <th>X1st_Point_of_Impact</th>\n",
       "      <th>Year</th>\n",
       "    </tr>\n",
       "    <tr>\n",
       "      <th>Accident_Index</th>\n",
       "      <th></th>\n",
       "      <th></th>\n",
       "      <th></th>\n",
       "      <th></th>\n",
       "      <th></th>\n",
       "      <th></th>\n",
       "      <th></th>\n",
       "      <th></th>\n",
       "      <th></th>\n",
       "      <th></th>\n",
       "      <th></th>\n",
       "      <th></th>\n",
       "      <th></th>\n",
       "      <th></th>\n",
       "      <th></th>\n",
       "      <th></th>\n",
       "      <th></th>\n",
       "      <th></th>\n",
       "      <th></th>\n",
       "      <th></th>\n",
       "      <th></th>\n",
       "    </tr>\n",
       "  </thead>\n",
       "  <tbody>\n",
       "    <tr>\n",
       "      <th>200401BS00001</th>\n",
       "      <td>26 - 35</td>\n",
       "      <td>3.0</td>\n",
       "      <td>Urban area</td>\n",
       "      <td>4.0</td>\n",
       "      <td>1588.0</td>\n",
       "      <td>None</td>\n",
       "      <td>None</td>\n",
       "      <td>Data missing or out of range</td>\n",
       "      <td>Data missing or out of range</td>\n",
       "      <td>ROVER</td>\n",
       "      <td>...</td>\n",
       "      <td>None</td>\n",
       "      <td>No tow/articulation</td>\n",
       "      <td>Did not leave carriageway</td>\n",
       "      <td>0.0</td>\n",
       "      <td>Going ahead other</td>\n",
       "      <td>2</td>\n",
       "      <td>109</td>\n",
       "      <td>Data missing or out of range</td>\n",
       "      <td>Front</td>\n",
       "      <td>2004</td>\n",
       "    </tr>\n",
       "    <tr>\n",
       "      <th>200401BS00002</th>\n",
       "      <td>26 - 35</td>\n",
       "      <td>NaN</td>\n",
       "      <td>Urban area</td>\n",
       "      <td>3.0</td>\n",
       "      <td>NaN</td>\n",
       "      <td>None</td>\n",
       "      <td>None</td>\n",
       "      <td>Data missing or out of range</td>\n",
       "      <td>Data missing or out of range</td>\n",
       "      <td>BMW</td>\n",
       "      <td>...</td>\n",
       "      <td>None</td>\n",
       "      <td>No tow/articulation</td>\n",
       "      <td>Did not leave carriageway</td>\n",
       "      <td>0.0</td>\n",
       "      <td>Going ahead other</td>\n",
       "      <td>1</td>\n",
       "      <td>109</td>\n",
       "      <td>Data missing or out of range</td>\n",
       "      <td>Front</td>\n",
       "      <td>2004</td>\n",
       "    </tr>\n",
       "    <tr>\n",
       "      <th>200401BS00003</th>\n",
       "      <td>26 - 35</td>\n",
       "      <td>4.0</td>\n",
       "      <td>Data missing or out of range</td>\n",
       "      <td>NaN</td>\n",
       "      <td>998.0</td>\n",
       "      <td>None</td>\n",
       "      <td>None</td>\n",
       "      <td>Data missing or out of range</td>\n",
       "      <td>Data missing or out of range</td>\n",
       "      <td>NISSAN</td>\n",
       "      <td>...</td>\n",
       "      <td>None</td>\n",
       "      <td>No tow/articulation</td>\n",
       "      <td>Did not leave carriageway</td>\n",
       "      <td>0.0</td>\n",
       "      <td>Turning right</td>\n",
       "      <td>1</td>\n",
       "      <td>109</td>\n",
       "      <td>Data missing or out of range</td>\n",
       "      <td>Front</td>\n",
       "      <td>2004</td>\n",
       "    </tr>\n",
       "    <tr>\n",
       "      <th>200401BS00003</th>\n",
       "      <td>66 - 75</td>\n",
       "      <td>NaN</td>\n",
       "      <td>Data missing or out of range</td>\n",
       "      <td>NaN</td>\n",
       "      <td>NaN</td>\n",
       "      <td>None</td>\n",
       "      <td>None</td>\n",
       "      <td>Data missing or out of range</td>\n",
       "      <td>Data missing or out of range</td>\n",
       "      <td>LONDON TAXIS INT</td>\n",
       "      <td>...</td>\n",
       "      <td>None</td>\n",
       "      <td>No tow/articulation</td>\n",
       "      <td>Did not leave carriageway</td>\n",
       "      <td>0.0</td>\n",
       "      <td>Going ahead other</td>\n",
       "      <td>2</td>\n",
       "      <td>109</td>\n",
       "      <td>Data missing or out of range</td>\n",
       "      <td>Front</td>\n",
       "      <td>2004</td>\n",
       "    </tr>\n",
       "  </tbody>\n",
       "</table>\n",
       "<p>4 rows × 23 columns</p>\n",
       "</div>"
      ],
      "text/plain": [
       "               Age_Band_of_Driver  Age_of_Vehicle  \\\n",
       "Accident_Index                                      \n",
       "200401BS00001             26 - 35             3.0   \n",
       "200401BS00002             26 - 35             NaN   \n",
       "200401BS00003             26 - 35             4.0   \n",
       "200401BS00003             66 - 75             NaN   \n",
       "\n",
       "                       Driver_Home_Area_Type  Driver_IMD_Decile  \\\n",
       "Accident_Index                                                    \n",
       "200401BS00001                     Urban area                4.0   \n",
       "200401BS00002                     Urban area                3.0   \n",
       "200401BS00003   Data missing or out of range                NaN   \n",
       "200401BS00003   Data missing or out of range                NaN   \n",
       "\n",
       "                Engine_Capacity_.CC. Hit_Object_in_Carriageway  \\\n",
       "Accident_Index                                                   \n",
       "200401BS00001                 1588.0                      None   \n",
       "200401BS00002                    NaN                      None   \n",
       "200401BS00003                  998.0                      None   \n",
       "200401BS00003                    NaN                      None   \n",
       "\n",
       "               Hit_Object_off_Carriageway     Journey_Purpose_of_Driver  \\\n",
       "Accident_Index                                                            \n",
       "200401BS00001                        None  Data missing or out of range   \n",
       "200401BS00002                        None  Data missing or out of range   \n",
       "200401BS00003                        None  Data missing or out of range   \n",
       "200401BS00003                        None  Data missing or out of range   \n",
       "\n",
       "                           Junction_Location              make  ...  \\\n",
       "Accident_Index                                                  ...   \n",
       "200401BS00001   Data missing or out of range             ROVER  ...   \n",
       "200401BS00002   Data missing or out of range               BMW  ...   \n",
       "200401BS00003   Data missing or out of range            NISSAN  ...   \n",
       "200401BS00003   Data missing or out of range  LONDON TAXIS INT  ...   \n",
       "\n",
       "               Skidding_and_Overturning Towing_and_Articulation  \\\n",
       "Accident_Index                                                    \n",
       "200401BS00001                      None     No tow/articulation   \n",
       "200401BS00002                      None     No tow/articulation   \n",
       "200401BS00003                      None     No tow/articulation   \n",
       "200401BS00003                      None     No tow/articulation   \n",
       "\n",
       "               Vehicle_Leaving_Carriageway Vehicle_Location.Restricted_Lane  \\\n",
       "Accident_Index                                                                \n",
       "200401BS00001    Did not leave carriageway                              0.0   \n",
       "200401BS00002    Did not leave carriageway                              0.0   \n",
       "200401BS00003    Did not leave carriageway                              0.0   \n",
       "200401BS00003    Did not leave carriageway                              0.0   \n",
       "\n",
       "                Vehicle_Manoeuvre Vehicle_Reference  Vehicle_Type  \\\n",
       "Accident_Index                                                      \n",
       "200401BS00001   Going ahead other                 2           109   \n",
       "200401BS00002   Going ahead other                 1           109   \n",
       "200401BS00003       Turning right                 1           109   \n",
       "200401BS00003   Going ahead other                 2           109   \n",
       "\n",
       "                 Was_Vehicle_Left_Hand_Drive  X1st_Point_of_Impact  Year  \n",
       "Accident_Index                                                            \n",
       "200401BS00001   Data missing or out of range                 Front  2004  \n",
       "200401BS00002   Data missing or out of range                 Front  2004  \n",
       "200401BS00003   Data missing or out of range                 Front  2004  \n",
       "200401BS00003   Data missing or out of range                 Front  2004  \n",
       "\n",
       "[4 rows x 23 columns]"
      ]
     },
     "execution_count": 3,
     "metadata": {},
     "output_type": "execute_result"
    }
   ],
   "source": [
    "report_1.head(4)\n",
    "report_2.head(4)"
   ]
  },
  {
   "cell_type": "code",
   "execution_count": 4,
   "id": "eb2d0826",
   "metadata": {},
   "outputs": [
    {
     "data": {
      "text/html": [
       "<div>\n",
       "<style scoped>\n",
       "    .dataframe tbody tr th:only-of-type {\n",
       "        vertical-align: middle;\n",
       "    }\n",
       "\n",
       "    .dataframe tbody tr th {\n",
       "        vertical-align: top;\n",
       "    }\n",
       "\n",
       "    .dataframe thead th {\n",
       "        text-align: right;\n",
       "    }\n",
       "</style>\n",
       "<table border=\"1\" class=\"dataframe\">\n",
       "  <thead>\n",
       "    <tr style=\"text-align: right;\">\n",
       "      <th></th>\n",
       "      <th>1st_Road_Class</th>\n",
       "      <th>1st_Road_Number</th>\n",
       "      <th>2nd_Road_Class</th>\n",
       "      <th>2nd_Road_Number</th>\n",
       "      <th>Accident_Severity</th>\n",
       "      <th>Carriageway_Hazards</th>\n",
       "      <th>Date</th>\n",
       "      <th>Day_of_Week</th>\n",
       "      <th>Did_Police_Officer_Attend_Scene_of_Accident</th>\n",
       "      <th>Junction_Control</th>\n",
       "      <th>...</th>\n",
       "      <th>Skidding_and_Overturning</th>\n",
       "      <th>Towing_and_Articulation</th>\n",
       "      <th>Vehicle_Leaving_Carriageway</th>\n",
       "      <th>Vehicle_Location.Restricted_Lane</th>\n",
       "      <th>Vehicle_Manoeuvre</th>\n",
       "      <th>Vehicle_Reference</th>\n",
       "      <th>Vehicle_Type</th>\n",
       "      <th>Was_Vehicle_Left_Hand_Drive</th>\n",
       "      <th>X1st_Point_of_Impact</th>\n",
       "      <th>Year_y</th>\n",
       "    </tr>\n",
       "    <tr>\n",
       "      <th>Accident_Index</th>\n",
       "      <th></th>\n",
       "      <th></th>\n",
       "      <th></th>\n",
       "      <th></th>\n",
       "      <th></th>\n",
       "      <th></th>\n",
       "      <th></th>\n",
       "      <th></th>\n",
       "      <th></th>\n",
       "      <th></th>\n",
       "      <th></th>\n",
       "      <th></th>\n",
       "      <th></th>\n",
       "      <th></th>\n",
       "      <th></th>\n",
       "      <th></th>\n",
       "      <th></th>\n",
       "      <th></th>\n",
       "      <th></th>\n",
       "      <th></th>\n",
       "      <th></th>\n",
       "    </tr>\n",
       "  </thead>\n",
       "  <tbody>\n",
       "    <tr>\n",
       "      <th>200501BS00002</th>\n",
       "      <td>B</td>\n",
       "      <td>450.0</td>\n",
       "      <td>C</td>\n",
       "      <td>0.0</td>\n",
       "      <td>Slight</td>\n",
       "      <td>None</td>\n",
       "      <td>2005-01-05</td>\n",
       "      <td>Wednesday</td>\n",
       "      <td>1.0</td>\n",
       "      <td>Auto traffic signal</td>\n",
       "      <td>...</td>\n",
       "      <td>None</td>\n",
       "      <td>No tow/articulation</td>\n",
       "      <td>Did not leave carriageway</td>\n",
       "      <td>0.0</td>\n",
       "      <td>Slowing or stopping</td>\n",
       "      <td>1</td>\n",
       "      <td>Bus or coach (17 or more pass seats)</td>\n",
       "      <td>No</td>\n",
       "      <td>Nearside</td>\n",
       "      <td>2005</td>\n",
       "    </tr>\n",
       "    <tr>\n",
       "      <th>200501BS00003</th>\n",
       "      <td>C</td>\n",
       "      <td>0.0</td>\n",
       "      <td>NaN</td>\n",
       "      <td>0.0</td>\n",
       "      <td>Slight</td>\n",
       "      <td>None</td>\n",
       "      <td>2005-01-06</td>\n",
       "      <td>Thursday</td>\n",
       "      <td>1.0</td>\n",
       "      <td>Data missing or out of range</td>\n",
       "      <td>...</td>\n",
       "      <td>None</td>\n",
       "      <td>No tow/articulation</td>\n",
       "      <td>Did not leave carriageway</td>\n",
       "      <td>0.0</td>\n",
       "      <td>Going ahead right-hand bend</td>\n",
       "      <td>1</td>\n",
       "      <td>Bus or coach (17 or more pass seats)</td>\n",
       "      <td>No</td>\n",
       "      <td>Nearside</td>\n",
       "      <td>2005</td>\n",
       "    </tr>\n",
       "    <tr>\n",
       "      <th>200501BS00004</th>\n",
       "      <td>A</td>\n",
       "      <td>3220.0</td>\n",
       "      <td>NaN</td>\n",
       "      <td>0.0</td>\n",
       "      <td>Slight</td>\n",
       "      <td>None</td>\n",
       "      <td>2005-01-07</td>\n",
       "      <td>Friday</td>\n",
       "      <td>1.0</td>\n",
       "      <td>Data missing or out of range</td>\n",
       "      <td>...</td>\n",
       "      <td>None</td>\n",
       "      <td>No tow/articulation</td>\n",
       "      <td>Did not leave carriageway</td>\n",
       "      <td>0.0</td>\n",
       "      <td>Going ahead other</td>\n",
       "      <td>1</td>\n",
       "      <td>Car</td>\n",
       "      <td>No</td>\n",
       "      <td>Front</td>\n",
       "      <td>2005</td>\n",
       "    </tr>\n",
       "    <tr>\n",
       "      <th>200501BS00005</th>\n",
       "      <td>Unclassified</td>\n",
       "      <td>0.0</td>\n",
       "      <td>NaN</td>\n",
       "      <td>0.0</td>\n",
       "      <td>Slight</td>\n",
       "      <td>None</td>\n",
       "      <td>2005-01-10</td>\n",
       "      <td>Monday</td>\n",
       "      <td>1.0</td>\n",
       "      <td>Data missing or out of range</td>\n",
       "      <td>...</td>\n",
       "      <td>Skidded</td>\n",
       "      <td>No tow/articulation</td>\n",
       "      <td>Did not leave carriageway</td>\n",
       "      <td>0.0</td>\n",
       "      <td>Going ahead other</td>\n",
       "      <td>1</td>\n",
       "      <td>Motorcycle 125cc and under</td>\n",
       "      <td>No</td>\n",
       "      <td>Front</td>\n",
       "      <td>2005</td>\n",
       "    </tr>\n",
       "    <tr>\n",
       "      <th>200501BS00006</th>\n",
       "      <td>Unclassified</td>\n",
       "      <td>0.0</td>\n",
       "      <td>NaN</td>\n",
       "      <td>0.0</td>\n",
       "      <td>Slight</td>\n",
       "      <td>None</td>\n",
       "      <td>2005-01-11</td>\n",
       "      <td>Tuesday</td>\n",
       "      <td>1.0</td>\n",
       "      <td>Data missing or out of range</td>\n",
       "      <td>...</td>\n",
       "      <td>None</td>\n",
       "      <td>No tow/articulation</td>\n",
       "      <td>Did not leave carriageway</td>\n",
       "      <td>0.0</td>\n",
       "      <td>Moving off</td>\n",
       "      <td>1</td>\n",
       "      <td>Car</td>\n",
       "      <td>No</td>\n",
       "      <td>Did not impact</td>\n",
       "      <td>2005</td>\n",
       "    </tr>\n",
       "  </tbody>\n",
       "</table>\n",
       "<p>5 rows × 56 columns</p>\n",
       "</div>"
      ],
      "text/plain": [
       "               1st_Road_Class  1st_Road_Number 2nd_Road_Class  \\\n",
       "Accident_Index                                                  \n",
       "200501BS00002               B            450.0              C   \n",
       "200501BS00003               C              0.0            NaN   \n",
       "200501BS00004               A           3220.0            NaN   \n",
       "200501BS00005    Unclassified              0.0            NaN   \n",
       "200501BS00006    Unclassified              0.0            NaN   \n",
       "\n",
       "                2nd_Road_Number Accident_Severity Carriageway_Hazards  \\\n",
       "Accident_Index                                                          \n",
       "200501BS00002               0.0            Slight                None   \n",
       "200501BS00003               0.0            Slight                None   \n",
       "200501BS00004               0.0            Slight                None   \n",
       "200501BS00005               0.0            Slight                None   \n",
       "200501BS00006               0.0            Slight                None   \n",
       "\n",
       "                      Date Day_of_Week  \\\n",
       "Accident_Index                           \n",
       "200501BS00002   2005-01-05   Wednesday   \n",
       "200501BS00003   2005-01-06    Thursday   \n",
       "200501BS00004   2005-01-07      Friday   \n",
       "200501BS00005   2005-01-10      Monday   \n",
       "200501BS00006   2005-01-11     Tuesday   \n",
       "\n",
       "                Did_Police_Officer_Attend_Scene_of_Accident  \\\n",
       "Accident_Index                                                \n",
       "200501BS00002                                           1.0   \n",
       "200501BS00003                                           1.0   \n",
       "200501BS00004                                           1.0   \n",
       "200501BS00005                                           1.0   \n",
       "200501BS00006                                           1.0   \n",
       "\n",
       "                            Junction_Control  ... Skidding_and_Overturning  \\\n",
       "Accident_Index                                ...                            \n",
       "200501BS00002            Auto traffic signal  ...                     None   \n",
       "200501BS00003   Data missing or out of range  ...                     None   \n",
       "200501BS00004   Data missing or out of range  ...                     None   \n",
       "200501BS00005   Data missing or out of range  ...                  Skidded   \n",
       "200501BS00006   Data missing or out of range  ...                     None   \n",
       "\n",
       "                Towing_and_Articulation Vehicle_Leaving_Carriageway  \\\n",
       "Accident_Index                                                        \n",
       "200501BS00002       No tow/articulation   Did not leave carriageway   \n",
       "200501BS00003       No tow/articulation   Did not leave carriageway   \n",
       "200501BS00004       No tow/articulation   Did not leave carriageway   \n",
       "200501BS00005       No tow/articulation   Did not leave carriageway   \n",
       "200501BS00006       No tow/articulation   Did not leave carriageway   \n",
       "\n",
       "               Vehicle_Location.Restricted_Lane            Vehicle_Manoeuvre  \\\n",
       "Accident_Index                                                                 \n",
       "200501BS00002                               0.0          Slowing or stopping   \n",
       "200501BS00003                               0.0  Going ahead right-hand bend   \n",
       "200501BS00004                               0.0            Going ahead other   \n",
       "200501BS00005                               0.0            Going ahead other   \n",
       "200501BS00006                               0.0                   Moving off   \n",
       "\n",
       "                Vehicle_Reference                          Vehicle_Type  \\\n",
       "Accident_Index                                                            \n",
       "200501BS00002                   1  Bus or coach (17 or more pass seats)   \n",
       "200501BS00003                   1  Bus or coach (17 or more pass seats)   \n",
       "200501BS00004                   1                                   Car   \n",
       "200501BS00005                   1            Motorcycle 125cc and under   \n",
       "200501BS00006                   1                                   Car   \n",
       "\n",
       "                Was_Vehicle_Left_Hand_Drive X1st_Point_of_Impact  Year_y  \n",
       "Accident_Index                                                            \n",
       "200501BS00002                            No             Nearside    2005  \n",
       "200501BS00003                            No             Nearside    2005  \n",
       "200501BS00004                            No                Front    2005  \n",
       "200501BS00005                            No                Front    2005  \n",
       "200501BS00006                            No       Did not impact    2005  \n",
       "\n",
       "[5 rows x 56 columns]"
      ]
     },
     "execution_count": 4,
     "metadata": {},
     "output_type": "execute_result"
    }
   ],
   "source": [
    "# Inner merge the 2 files into 1 dataset (on Accident_Index column)\n",
    "dataset = report_1.merge(report_2, on='Accident_Index', how='inner')\n",
    "dataset.head()"
   ]
  },
  {
   "cell_type": "code",
   "execution_count": 5,
   "id": "4965a585",
   "metadata": {},
   "outputs": [
    {
     "data": {
      "text/html": [
       "<div>\n",
       "<style scoped>\n",
       "    .dataframe tbody tr th:only-of-type {\n",
       "        vertical-align: middle;\n",
       "    }\n",
       "\n",
       "    .dataframe tbody tr th {\n",
       "        vertical-align: top;\n",
       "    }\n",
       "\n",
       "    .dataframe thead th {\n",
       "        text-align: right;\n",
       "    }\n",
       "</style>\n",
       "<table border=\"1\" class=\"dataframe\">\n",
       "  <thead>\n",
       "    <tr style=\"text-align: right;\">\n",
       "      <th></th>\n",
       "      <th>1st_Road_Class</th>\n",
       "      <th>1st_Road_Number</th>\n",
       "      <th>2nd_Road_Class</th>\n",
       "      <th>2nd_Road_Number</th>\n",
       "      <th>Accident_Severity</th>\n",
       "      <th>Carriageway_Hazards</th>\n",
       "      <th>Date</th>\n",
       "      <th>Day_of_Week</th>\n",
       "      <th>Did_Police_Officer_Attend_Scene_of_Accident</th>\n",
       "      <th>Junction_Control</th>\n",
       "      <th>...</th>\n",
       "      <th>Skidding_and_Overturning</th>\n",
       "      <th>Towing_and_Articulation</th>\n",
       "      <th>Vehicle_Leaving_Carriageway</th>\n",
       "      <th>Vehicle_Location.Restricted_Lane</th>\n",
       "      <th>Vehicle_Manoeuvre</th>\n",
       "      <th>Vehicle_Reference</th>\n",
       "      <th>Vehicle_Type</th>\n",
       "      <th>Was_Vehicle_Left_Hand_Drive</th>\n",
       "      <th>X1st_Point_of_Impact</th>\n",
       "      <th>Year_y</th>\n",
       "    </tr>\n",
       "  </thead>\n",
       "  <tbody>\n",
       "    <tr>\n",
       "      <th>0</th>\n",
       "      <td>B</td>\n",
       "      <td>450.0</td>\n",
       "      <td>C</td>\n",
       "      <td>0.0</td>\n",
       "      <td>Slight</td>\n",
       "      <td>None</td>\n",
       "      <td>2005-01-05</td>\n",
       "      <td>Wednesday</td>\n",
       "      <td>1.0</td>\n",
       "      <td>Auto traffic signal</td>\n",
       "      <td>...</td>\n",
       "      <td>None</td>\n",
       "      <td>No tow/articulation</td>\n",
       "      <td>Did not leave carriageway</td>\n",
       "      <td>0.0</td>\n",
       "      <td>Slowing or stopping</td>\n",
       "      <td>1</td>\n",
       "      <td>Bus or coach (17 or more pass seats)</td>\n",
       "      <td>No</td>\n",
       "      <td>Nearside</td>\n",
       "      <td>2005</td>\n",
       "    </tr>\n",
       "    <tr>\n",
       "      <th>1</th>\n",
       "      <td>C</td>\n",
       "      <td>0.0</td>\n",
       "      <td>NaN</td>\n",
       "      <td>0.0</td>\n",
       "      <td>Slight</td>\n",
       "      <td>None</td>\n",
       "      <td>2005-01-06</td>\n",
       "      <td>Thursday</td>\n",
       "      <td>1.0</td>\n",
       "      <td>Data missing or out of range</td>\n",
       "      <td>...</td>\n",
       "      <td>None</td>\n",
       "      <td>No tow/articulation</td>\n",
       "      <td>Did not leave carriageway</td>\n",
       "      <td>0.0</td>\n",
       "      <td>Going ahead right-hand bend</td>\n",
       "      <td>1</td>\n",
       "      <td>Bus or coach (17 or more pass seats)</td>\n",
       "      <td>No</td>\n",
       "      <td>Nearside</td>\n",
       "      <td>2005</td>\n",
       "    </tr>\n",
       "    <tr>\n",
       "      <th>2</th>\n",
       "      <td>A</td>\n",
       "      <td>3220.0</td>\n",
       "      <td>NaN</td>\n",
       "      <td>0.0</td>\n",
       "      <td>Slight</td>\n",
       "      <td>None</td>\n",
       "      <td>2005-01-07</td>\n",
       "      <td>Friday</td>\n",
       "      <td>1.0</td>\n",
       "      <td>Data missing or out of range</td>\n",
       "      <td>...</td>\n",
       "      <td>None</td>\n",
       "      <td>No tow/articulation</td>\n",
       "      <td>Did not leave carriageway</td>\n",
       "      <td>0.0</td>\n",
       "      <td>Going ahead other</td>\n",
       "      <td>1</td>\n",
       "      <td>Car</td>\n",
       "      <td>No</td>\n",
       "      <td>Front</td>\n",
       "      <td>2005</td>\n",
       "    </tr>\n",
       "    <tr>\n",
       "      <th>3</th>\n",
       "      <td>Unclassified</td>\n",
       "      <td>0.0</td>\n",
       "      <td>NaN</td>\n",
       "      <td>0.0</td>\n",
       "      <td>Slight</td>\n",
       "      <td>None</td>\n",
       "      <td>2005-01-10</td>\n",
       "      <td>Monday</td>\n",
       "      <td>1.0</td>\n",
       "      <td>Data missing or out of range</td>\n",
       "      <td>...</td>\n",
       "      <td>Skidded</td>\n",
       "      <td>No tow/articulation</td>\n",
       "      <td>Did not leave carriageway</td>\n",
       "      <td>0.0</td>\n",
       "      <td>Going ahead other</td>\n",
       "      <td>1</td>\n",
       "      <td>Motorcycle 125cc and under</td>\n",
       "      <td>No</td>\n",
       "      <td>Front</td>\n",
       "      <td>2005</td>\n",
       "    </tr>\n",
       "    <tr>\n",
       "      <th>4</th>\n",
       "      <td>Unclassified</td>\n",
       "      <td>0.0</td>\n",
       "      <td>NaN</td>\n",
       "      <td>0.0</td>\n",
       "      <td>Slight</td>\n",
       "      <td>None</td>\n",
       "      <td>2005-01-11</td>\n",
       "      <td>Tuesday</td>\n",
       "      <td>1.0</td>\n",
       "      <td>Data missing or out of range</td>\n",
       "      <td>...</td>\n",
       "      <td>None</td>\n",
       "      <td>No tow/articulation</td>\n",
       "      <td>Did not leave carriageway</td>\n",
       "      <td>0.0</td>\n",
       "      <td>Moving off</td>\n",
       "      <td>1</td>\n",
       "      <td>Car</td>\n",
       "      <td>No</td>\n",
       "      <td>Did not impact</td>\n",
       "      <td>2005</td>\n",
       "    </tr>\n",
       "  </tbody>\n",
       "</table>\n",
       "<p>5 rows × 56 columns</p>\n",
       "</div>"
      ],
      "text/plain": [
       "  1st_Road_Class  1st_Road_Number 2nd_Road_Class  2nd_Road_Number  \\\n",
       "0              B            450.0              C              0.0   \n",
       "1              C              0.0            NaN              0.0   \n",
       "2              A           3220.0            NaN              0.0   \n",
       "3   Unclassified              0.0            NaN              0.0   \n",
       "4   Unclassified              0.0            NaN              0.0   \n",
       "\n",
       "  Accident_Severity Carriageway_Hazards        Date Day_of_Week  \\\n",
       "0            Slight                None  2005-01-05   Wednesday   \n",
       "1            Slight                None  2005-01-06    Thursday   \n",
       "2            Slight                None  2005-01-07      Friday   \n",
       "3            Slight                None  2005-01-10      Monday   \n",
       "4            Slight                None  2005-01-11     Tuesday   \n",
       "\n",
       "   Did_Police_Officer_Attend_Scene_of_Accident              Junction_Control  \\\n",
       "0                                          1.0           Auto traffic signal   \n",
       "1                                          1.0  Data missing or out of range   \n",
       "2                                          1.0  Data missing or out of range   \n",
       "3                                          1.0  Data missing or out of range   \n",
       "4                                          1.0  Data missing or out of range   \n",
       "\n",
       "   ... Skidding_and_Overturning  Towing_and_Articulation  \\\n",
       "0  ...                     None      No tow/articulation   \n",
       "1  ...                     None      No tow/articulation   \n",
       "2  ...                     None      No tow/articulation   \n",
       "3  ...                  Skidded      No tow/articulation   \n",
       "4  ...                     None      No tow/articulation   \n",
       "\n",
       "  Vehicle_Leaving_Carriageway Vehicle_Location.Restricted_Lane  \\\n",
       "0   Did not leave carriageway                              0.0   \n",
       "1   Did not leave carriageway                              0.0   \n",
       "2   Did not leave carriageway                              0.0   \n",
       "3   Did not leave carriageway                              0.0   \n",
       "4   Did not leave carriageway                              0.0   \n",
       "\n",
       "             Vehicle_Manoeuvre  Vehicle_Reference  \\\n",
       "0          Slowing or stopping                  1   \n",
       "1  Going ahead right-hand bend                  1   \n",
       "2            Going ahead other                  1   \n",
       "3            Going ahead other                  1   \n",
       "4                   Moving off                  1   \n",
       "\n",
       "                           Vehicle_Type  Was_Vehicle_Left_Hand_Drive  \\\n",
       "0  Bus or coach (17 or more pass seats)                           No   \n",
       "1  Bus or coach (17 or more pass seats)                           No   \n",
       "2                                   Car                           No   \n",
       "3            Motorcycle 125cc and under                           No   \n",
       "4                                   Car                           No   \n",
       "\n",
       "  X1st_Point_of_Impact  Year_y  \n",
       "0             Nearside    2005  \n",
       "1             Nearside    2005  \n",
       "2                Front    2005  \n",
       "3                Front    2005  \n",
       "4       Did not impact    2005  \n",
       "\n",
       "[5 rows x 56 columns]"
      ]
     },
     "execution_count": 5,
     "metadata": {},
     "output_type": "execute_result"
    },
    {
     "data": {
      "text/plain": [
       "(2058408, 56)"
      ]
     },
     "execution_count": 5,
     "metadata": {},
     "output_type": "execute_result"
    }
   ],
   "source": [
    "# Getting rid of the accident index, as it is irrelevant to the analysis\n",
    "dataset.reset_index(inplace = True, drop = True)\n",
    "dataset.head()\n",
    "dataset.shape"
   ]
  },
  {
   "cell_type": "markdown",
   "id": "a5b72e48",
   "metadata": {},
   "source": [
    "Data contains over 2 million records!"
   ]
  },
  {
   "cell_type": "code",
   "execution_count": 6,
   "id": "f4f93ea1",
   "metadata": {},
   "outputs": [
    {
     "name": "stdout",
     "output_type": "stream",
     "text": [
      "<class 'pandas.core.frame.DataFrame'>\n",
      "RangeIndex: 2058408 entries, 0 to 2058407\n",
      "Data columns (total 56 columns):\n",
      " #   Column                                       Dtype  \n",
      "---  ------                                       -----  \n",
      " 0   1st_Road_Class                               object \n",
      " 1   1st_Road_Number                              float64\n",
      " 2   2nd_Road_Class                               object \n",
      " 3   2nd_Road_Number                              float64\n",
      " 4   Accident_Severity                            object \n",
      " 5   Carriageway_Hazards                          object \n",
      " 6   Date                                         object \n",
      " 7   Day_of_Week                                  object \n",
      " 8   Did_Police_Officer_Attend_Scene_of_Accident  float64\n",
      " 9   Junction_Control                             object \n",
      " 10  Junction_Detail                              object \n",
      " 11  Latitude                                     float64\n",
      " 12  Light_Conditions                             object \n",
      " 13  Local_Authority_(District)                   object \n",
      " 14  Local_Authority_(Highway)                    object \n",
      " 15  Location_Easting_OSGR                        float64\n",
      " 16  Location_Northing_OSGR                       float64\n",
      " 17  Longitude                                    float64\n",
      " 18  LSOA_of_Accident_Location                    object \n",
      " 19  Number_of_Casualties                         int64  \n",
      " 20  Number_of_Vehicles                           int64  \n",
      " 21  Pedestrian_Crossing-Human_Control            float64\n",
      " 22  Pedestrian_Crossing-Physical_Facilities      float64\n",
      " 23  Police_Force                                 object \n",
      " 24  Road_Surface_Conditions                      object \n",
      " 25  Road_Type                                    object \n",
      " 26  Special_Conditions_at_Site                   object \n",
      " 27  Speed_limit                                  float64\n",
      " 28  Time                                         object \n",
      " 29  Urban_or_Rural_Area                          object \n",
      " 30  Weather_Conditions                           object \n",
      " 31  Year_x                                       int64  \n",
      " 32  InScotland                                   object \n",
      " 33  Age_Band_of_Driver                           object \n",
      " 34  Age_of_Vehicle                               float64\n",
      " 35  Driver_Home_Area_Type                        object \n",
      " 36  Driver_IMD_Decile                            float64\n",
      " 37  Engine_Capacity_.CC.                         float64\n",
      " 38  Hit_Object_in_Carriageway                    object \n",
      " 39  Hit_Object_off_Carriageway                   object \n",
      " 40  Journey_Purpose_of_Driver                    object \n",
      " 41  Junction_Location                            object \n",
      " 42  make                                         object \n",
      " 43  model                                        object \n",
      " 44  Propulsion_Code                              object \n",
      " 45  Sex_of_Driver                                object \n",
      " 46  Skidding_and_Overturning                     object \n",
      " 47  Towing_and_Articulation                      object \n",
      " 48  Vehicle_Leaving_Carriageway                  object \n",
      " 49  Vehicle_Location.Restricted_Lane             float64\n",
      " 50  Vehicle_Manoeuvre                            object \n",
      " 51  Vehicle_Reference                            int64  \n",
      " 52  Vehicle_Type                                 object \n",
      " 53  Was_Vehicle_Left_Hand_Drive                  object \n",
      " 54  X1st_Point_of_Impact                         object \n",
      " 55  Year_y                                       int64  \n",
      "dtypes: float64(14), int64(5), object(37)\n",
      "memory usage: 879.4+ MB\n"
     ]
    }
   ],
   "source": [
    "#let's take a general look at the variables involved\n",
    "dataset.info()"
   ]
  },
  {
   "cell_type": "code",
   "execution_count": 7,
   "id": "af102c43",
   "metadata": {},
   "outputs": [
    {
     "data": {
      "text/plain": [
       "1st_Road_Number                                     1\n",
       "2nd_Road_Class                                 827937\n",
       "2nd_Road_Number                                 18927\n",
       "Did_Police_Officer_Attend_Scene_of_Accident       114\n",
       "Latitude                                          124\n",
       "Location_Easting_OSGR                             124\n",
       "Location_Northing_OSGR                            124\n",
       "Longitude                                         125\n",
       "LSOA_of_Accident_Location                      139207\n",
       "Pedestrian_Crossing-Human_Control                 654\n",
       "Pedestrian_Crossing-Physical_Facilities          1370\n",
       "Speed_limit                                        65\n",
       "Time                                              146\n",
       "InScotland                                         44\n",
       "Age_of_Vehicle                                 337962\n",
       "Driver_IMD_Decile                              689290\n",
       "Engine_Capacity_.CC.                           250317\n",
       "make                                           110845\n",
       "model                                          299357\n",
       "Propulsion_Code                                233598\n",
       "Vehicle_Location.Restricted_Lane                 1124\n",
       "dtype: int64"
      ]
     },
     "execution_count": 7,
     "metadata": {},
     "output_type": "execute_result"
    }
   ],
   "source": [
    "#let's take a closer look at nulls within columns\n",
    "null_columns=dataset.columns[dataset.isnull().any()]\n",
    "dataset[null_columns].isnull().sum()"
   ]
  },
  {
   "cell_type": "code",
   "execution_count": 8,
   "id": "25f024a6",
   "metadata": {},
   "outputs": [],
   "source": [
    "#drop variables that are unnecessary\n",
    "dataset.drop(\"1st_Road_Number\", axis=1, inplace=True)\n",
    "dataset.drop(\"2nd_Road_Number\", axis=1, inplace=True)\n",
    "dataset.drop(\"LSOA_of_Accident_Location\", axis=1, inplace=True)\n",
    "dataset.drop(\"Location_Easting_OSGR\", axis=1, inplace=True)\n"
   ]
  },
  {
   "cell_type": "code",
   "execution_count": 9,
   "id": "bd9df830",
   "metadata": {},
   "outputs": [
    {
     "ename": "KeyError",
     "evalue": "\"['Hit_Object_off_Carriageway '] not found in axis\"",
     "output_type": "error",
     "traceback": [
      "\u001b[1;31m---------------------------------------------------------------------------\u001b[0m",
      "\u001b[1;31mKeyError\u001b[0m                                  Traceback (most recent call last)",
      "\u001b[1;32m~\\AppData\\Local\\Temp\\ipykernel_11332\\738037852.py\u001b[0m in \u001b[0;36m<module>\u001b[1;34m\u001b[0m\n\u001b[0;32m      2\u001b[0m \u001b[0mdataset\u001b[0m\u001b[1;33m.\u001b[0m\u001b[0mdrop\u001b[0m\u001b[1;33m(\u001b[0m\u001b[1;34m\"Special_Conditions_at_Site\"\u001b[0m\u001b[1;33m,\u001b[0m \u001b[0maxis\u001b[0m\u001b[1;33m=\u001b[0m\u001b[1;36m1\u001b[0m\u001b[1;33m,\u001b[0m \u001b[0minplace\u001b[0m\u001b[1;33m=\u001b[0m\u001b[1;32mTrue\u001b[0m\u001b[1;33m)\u001b[0m\u001b[1;33m\u001b[0m\u001b[1;33m\u001b[0m\u001b[0m\n\u001b[0;32m      3\u001b[0m \u001b[0mdataset\u001b[0m\u001b[1;33m.\u001b[0m\u001b[0mdrop\u001b[0m\u001b[1;33m(\u001b[0m\u001b[1;34m\"Hit_Object_in_Carriageway\"\u001b[0m\u001b[1;33m,\u001b[0m \u001b[0maxis\u001b[0m\u001b[1;33m=\u001b[0m\u001b[1;36m1\u001b[0m\u001b[1;33m,\u001b[0m \u001b[0minplace\u001b[0m\u001b[1;33m=\u001b[0m\u001b[1;32mTrue\u001b[0m\u001b[1;33m)\u001b[0m\u001b[1;33m\u001b[0m\u001b[1;33m\u001b[0m\u001b[0m\n\u001b[1;32m----> 4\u001b[1;33m \u001b[0mdataset\u001b[0m\u001b[1;33m.\u001b[0m\u001b[0mdrop\u001b[0m\u001b[1;33m(\u001b[0m\u001b[1;34m\"Hit_Object_off_Carriageway \"\u001b[0m\u001b[1;33m,\u001b[0m \u001b[0maxis\u001b[0m\u001b[1;33m=\u001b[0m\u001b[1;36m1\u001b[0m\u001b[1;33m,\u001b[0m \u001b[0minplace\u001b[0m\u001b[1;33m=\u001b[0m\u001b[1;32mTrue\u001b[0m\u001b[1;33m)\u001b[0m\u001b[1;33m\u001b[0m\u001b[1;33m\u001b[0m\u001b[0m\n\u001b[0m\u001b[0;32m      5\u001b[0m \u001b[1;33m\u001b[0m\u001b[0m\n",
      "\u001b[1;32mc:\\Users\\hccha\\anaconda3\\lib\\site-packages\\pandas\\util\\_decorators.py\u001b[0m in \u001b[0;36mwrapper\u001b[1;34m(*args, **kwargs)\u001b[0m\n\u001b[0;32m    309\u001b[0m                     \u001b[0mstacklevel\u001b[0m\u001b[1;33m=\u001b[0m\u001b[0mstacklevel\u001b[0m\u001b[1;33m,\u001b[0m\u001b[1;33m\u001b[0m\u001b[1;33m\u001b[0m\u001b[0m\n\u001b[0;32m    310\u001b[0m                 )\n\u001b[1;32m--> 311\u001b[1;33m             \u001b[1;32mreturn\u001b[0m \u001b[0mfunc\u001b[0m\u001b[1;33m(\u001b[0m\u001b[1;33m*\u001b[0m\u001b[0margs\u001b[0m\u001b[1;33m,\u001b[0m \u001b[1;33m**\u001b[0m\u001b[0mkwargs\u001b[0m\u001b[1;33m)\u001b[0m\u001b[1;33m\u001b[0m\u001b[1;33m\u001b[0m\u001b[0m\n\u001b[0m\u001b[0;32m    312\u001b[0m \u001b[1;33m\u001b[0m\u001b[0m\n\u001b[0;32m    313\u001b[0m         \u001b[1;32mreturn\u001b[0m \u001b[0mwrapper\u001b[0m\u001b[1;33m\u001b[0m\u001b[1;33m\u001b[0m\u001b[0m\n",
      "\u001b[1;32mc:\\Users\\hccha\\anaconda3\\lib\\site-packages\\pandas\\core\\frame.py\u001b[0m in \u001b[0;36mdrop\u001b[1;34m(self, labels, axis, index, columns, level, inplace, errors)\u001b[0m\n\u001b[0;32m   4955\u001b[0m                 \u001b[0mweight\u001b[0m  \u001b[1;36m1.0\u001b[0m     \u001b[1;36m0.8\u001b[0m\u001b[1;33m\u001b[0m\u001b[1;33m\u001b[0m\u001b[0m\n\u001b[0;32m   4956\u001b[0m         \"\"\"\n\u001b[1;32m-> 4957\u001b[1;33m         return super().drop(\n\u001b[0m\u001b[0;32m   4958\u001b[0m             \u001b[0mlabels\u001b[0m\u001b[1;33m=\u001b[0m\u001b[0mlabels\u001b[0m\u001b[1;33m,\u001b[0m\u001b[1;33m\u001b[0m\u001b[1;33m\u001b[0m\u001b[0m\n\u001b[0;32m   4959\u001b[0m             \u001b[0maxis\u001b[0m\u001b[1;33m=\u001b[0m\u001b[0maxis\u001b[0m\u001b[1;33m,\u001b[0m\u001b[1;33m\u001b[0m\u001b[1;33m\u001b[0m\u001b[0m\n",
      "\u001b[1;32mc:\\Users\\hccha\\anaconda3\\lib\\site-packages\\pandas\\core\\generic.py\u001b[0m in \u001b[0;36mdrop\u001b[1;34m(self, labels, axis, index, columns, level, inplace, errors)\u001b[0m\n\u001b[0;32m   4265\u001b[0m         \u001b[1;32mfor\u001b[0m \u001b[0maxis\u001b[0m\u001b[1;33m,\u001b[0m \u001b[0mlabels\u001b[0m \u001b[1;32min\u001b[0m \u001b[0maxes\u001b[0m\u001b[1;33m.\u001b[0m\u001b[0mitems\u001b[0m\u001b[1;33m(\u001b[0m\u001b[1;33m)\u001b[0m\u001b[1;33m:\u001b[0m\u001b[1;33m\u001b[0m\u001b[1;33m\u001b[0m\u001b[0m\n\u001b[0;32m   4266\u001b[0m             \u001b[1;32mif\u001b[0m \u001b[0mlabels\u001b[0m \u001b[1;32mis\u001b[0m \u001b[1;32mnot\u001b[0m \u001b[1;32mNone\u001b[0m\u001b[1;33m:\u001b[0m\u001b[1;33m\u001b[0m\u001b[1;33m\u001b[0m\u001b[0m\n\u001b[1;32m-> 4267\u001b[1;33m                 \u001b[0mobj\u001b[0m \u001b[1;33m=\u001b[0m \u001b[0mobj\u001b[0m\u001b[1;33m.\u001b[0m\u001b[0m_drop_axis\u001b[0m\u001b[1;33m(\u001b[0m\u001b[0mlabels\u001b[0m\u001b[1;33m,\u001b[0m \u001b[0maxis\u001b[0m\u001b[1;33m,\u001b[0m \u001b[0mlevel\u001b[0m\u001b[1;33m=\u001b[0m\u001b[0mlevel\u001b[0m\u001b[1;33m,\u001b[0m \u001b[0merrors\u001b[0m\u001b[1;33m=\u001b[0m\u001b[0merrors\u001b[0m\u001b[1;33m)\u001b[0m\u001b[1;33m\u001b[0m\u001b[1;33m\u001b[0m\u001b[0m\n\u001b[0m\u001b[0;32m   4268\u001b[0m \u001b[1;33m\u001b[0m\u001b[0m\n\u001b[0;32m   4269\u001b[0m         \u001b[1;32mif\u001b[0m \u001b[0minplace\u001b[0m\u001b[1;33m:\u001b[0m\u001b[1;33m\u001b[0m\u001b[1;33m\u001b[0m\u001b[0m\n",
      "\u001b[1;32mc:\\Users\\hccha\\anaconda3\\lib\\site-packages\\pandas\\core\\generic.py\u001b[0m in \u001b[0;36m_drop_axis\u001b[1;34m(self, labels, axis, level, errors, consolidate, only_slice)\u001b[0m\n\u001b[0;32m   4309\u001b[0m                 \u001b[0mnew_axis\u001b[0m \u001b[1;33m=\u001b[0m \u001b[0maxis\u001b[0m\u001b[1;33m.\u001b[0m\u001b[0mdrop\u001b[0m\u001b[1;33m(\u001b[0m\u001b[0mlabels\u001b[0m\u001b[1;33m,\u001b[0m \u001b[0mlevel\u001b[0m\u001b[1;33m=\u001b[0m\u001b[0mlevel\u001b[0m\u001b[1;33m,\u001b[0m \u001b[0merrors\u001b[0m\u001b[1;33m=\u001b[0m\u001b[0merrors\u001b[0m\u001b[1;33m)\u001b[0m\u001b[1;33m\u001b[0m\u001b[1;33m\u001b[0m\u001b[0m\n\u001b[0;32m   4310\u001b[0m             \u001b[1;32melse\u001b[0m\u001b[1;33m:\u001b[0m\u001b[1;33m\u001b[0m\u001b[1;33m\u001b[0m\u001b[0m\n\u001b[1;32m-> 4311\u001b[1;33m                 \u001b[0mnew_axis\u001b[0m \u001b[1;33m=\u001b[0m \u001b[0maxis\u001b[0m\u001b[1;33m.\u001b[0m\u001b[0mdrop\u001b[0m\u001b[1;33m(\u001b[0m\u001b[0mlabels\u001b[0m\u001b[1;33m,\u001b[0m \u001b[0merrors\u001b[0m\u001b[1;33m=\u001b[0m\u001b[0merrors\u001b[0m\u001b[1;33m)\u001b[0m\u001b[1;33m\u001b[0m\u001b[1;33m\u001b[0m\u001b[0m\n\u001b[0m\u001b[0;32m   4312\u001b[0m             \u001b[0mindexer\u001b[0m \u001b[1;33m=\u001b[0m \u001b[0maxis\u001b[0m\u001b[1;33m.\u001b[0m\u001b[0mget_indexer\u001b[0m\u001b[1;33m(\u001b[0m\u001b[0mnew_axis\u001b[0m\u001b[1;33m)\u001b[0m\u001b[1;33m\u001b[0m\u001b[1;33m\u001b[0m\u001b[0m\n\u001b[0;32m   4313\u001b[0m \u001b[1;33m\u001b[0m\u001b[0m\n",
      "\u001b[1;32mc:\\Users\\hccha\\anaconda3\\lib\\site-packages\\pandas\\core\\indexes\\base.py\u001b[0m in \u001b[0;36mdrop\u001b[1;34m(self, labels, errors)\u001b[0m\n\u001b[0;32m   6659\u001b[0m         \u001b[1;32mif\u001b[0m \u001b[0mmask\u001b[0m\u001b[1;33m.\u001b[0m\u001b[0many\u001b[0m\u001b[1;33m(\u001b[0m\u001b[1;33m)\u001b[0m\u001b[1;33m:\u001b[0m\u001b[1;33m\u001b[0m\u001b[1;33m\u001b[0m\u001b[0m\n\u001b[0;32m   6660\u001b[0m             \u001b[1;32mif\u001b[0m \u001b[0merrors\u001b[0m \u001b[1;33m!=\u001b[0m \u001b[1;34m\"ignore\"\u001b[0m\u001b[1;33m:\u001b[0m\u001b[1;33m\u001b[0m\u001b[1;33m\u001b[0m\u001b[0m\n\u001b[1;32m-> 6661\u001b[1;33m                 \u001b[1;32mraise\u001b[0m \u001b[0mKeyError\u001b[0m\u001b[1;33m(\u001b[0m\u001b[1;34mf\"{list(labels[mask])} not found in axis\"\u001b[0m\u001b[1;33m)\u001b[0m\u001b[1;33m\u001b[0m\u001b[1;33m\u001b[0m\u001b[0m\n\u001b[0m\u001b[0;32m   6662\u001b[0m             \u001b[0mindexer\u001b[0m \u001b[1;33m=\u001b[0m \u001b[0mindexer\u001b[0m\u001b[1;33m[\u001b[0m\u001b[1;33m~\u001b[0m\u001b[0mmask\u001b[0m\u001b[1;33m]\u001b[0m\u001b[1;33m\u001b[0m\u001b[1;33m\u001b[0m\u001b[0m\n\u001b[0;32m   6663\u001b[0m         \u001b[1;32mreturn\u001b[0m \u001b[0mself\u001b[0m\u001b[1;33m.\u001b[0m\u001b[0mdelete\u001b[0m\u001b[1;33m(\u001b[0m\u001b[0mindexer\u001b[0m\u001b[1;33m)\u001b[0m\u001b[1;33m\u001b[0m\u001b[1;33m\u001b[0m\u001b[0m\n",
      "\u001b[1;31mKeyError\u001b[0m: \"['Hit_Object_off_Carriageway '] not found in axis\""
     ]
    }
   ],
   "source": [
    "dataset.drop(\"Carriageway_Hazards\", axis=1, inplace=True)\n",
    "dataset.drop(\"Special_Conditions_at_Site\", axis=1, inplace=True)\n",
    "dataset.drop(\"Hit_Object_in_Carriageway\", axis=1, inplace=True)\n",
    "dataset.drop(\"Hit_Object_off_Carriageway \", axis=1, inplace=True)\n",
    "\n"
   ]
  },
  {
   "cell_type": "code",
   "execution_count": 10,
   "id": "65da42d2",
   "metadata": {},
   "outputs": [
    {
     "data": {
      "text/plain": [
       "2nd_Road_Class                                 827937\n",
       "Did_Police_Officer_Attend_Scene_of_Accident       114\n",
       "Latitude                                          124\n",
       "Location_Northing_OSGR                            124\n",
       "Longitude                                         125\n",
       "Pedestrian_Crossing-Human_Control                 654\n",
       "Pedestrian_Crossing-Physical_Facilities          1370\n",
       "Speed_limit                                        65\n",
       "Time                                              146\n",
       "InScotland                                         44\n",
       "Age_of_Vehicle                                 337962\n",
       "Driver_IMD_Decile                              689290\n",
       "Engine_Capacity_.CC.                           250317\n",
       "make                                           110845\n",
       "model                                          299357\n",
       "Propulsion_Code                                233598\n",
       "Vehicle_Location.Restricted_Lane                 1124\n",
       "dtype: int64"
      ]
     },
     "execution_count": 10,
     "metadata": {},
     "output_type": "execute_result"
    }
   ],
   "source": [
    "null_columns=dataset.columns[dataset.isnull().any()]\n",
    "dataset[null_columns].isnull().sum()"
   ]
  },
  {
   "cell_type": "code",
   "execution_count": 10,
   "id": "70756dc0",
   "metadata": {},
   "outputs": [],
   "source": [
    "dataset.drop(\"Skidding_and_Overturning\", axis=1, inplace=True)\n",
    "dataset.drop(\"Hit_Object_off_Carriageway\", axis=1, inplace=True)"
   ]
  },
  {
   "cell_type": "code",
   "execution_count": 11,
   "id": "428f6119",
   "metadata": {},
   "outputs": [],
   "source": [
    "dataset.drop(\"2nd_Road_Class\", axis=1, inplace=True)\n",
    "dataset.drop(\"Driver_IMD_Decile\", axis=1, inplace=True)"
   ]
  },
  {
   "cell_type": "code",
   "execution_count": 12,
   "id": "d27f5126",
   "metadata": {},
   "outputs": [
    {
     "data": {
      "text/plain": [
       "Did_Police_Officer_Attend_Scene_of_Accident       114\n",
       "Latitude                                          124\n",
       "Location_Northing_OSGR                            124\n",
       "Longitude                                         125\n",
       "Pedestrian_Crossing-Human_Control                 654\n",
       "Pedestrian_Crossing-Physical_Facilities          1370\n",
       "Speed_limit                                        65\n",
       "Time                                              146\n",
       "InScotland                                         44\n",
       "Age_of_Vehicle                                 337962\n",
       "Engine_Capacity_.CC.                           250317\n",
       "make                                           110845\n",
       "model                                          299357\n",
       "Propulsion_Code                                233598\n",
       "Vehicle_Location.Restricted_Lane                 1124\n",
       "dtype: int64"
      ]
     },
     "execution_count": 12,
     "metadata": {},
     "output_type": "execute_result"
    }
   ],
   "source": [
    "null_columns=dataset.columns[dataset.isnull().any()]\n",
    "dataset[null_columns].isnull().sum()"
   ]
  },
  {
   "cell_type": "code",
   "execution_count": 13,
   "id": "fa32109c",
   "metadata": {},
   "outputs": [
    {
     "data": {
      "text/plain": [
       "(2058408, 45)"
      ]
     },
     "execution_count": 13,
     "metadata": {},
     "output_type": "execute_result"
    }
   ],
   "source": [
    "dataset.shape"
   ]
  },
  {
   "cell_type": "code",
   "execution_count": 14,
   "id": "3cdc11dc",
   "metadata": {},
   "outputs": [],
   "source": [
    "dataset.dropna(how='any',inplace=True)"
   ]
  },
  {
   "cell_type": "code",
   "execution_count": 15,
   "id": "447e4e54",
   "metadata": {},
   "outputs": [
    {
     "data": {
      "text/plain": [
       "(1555129, 45)"
      ]
     },
     "execution_count": 15,
     "metadata": {},
     "output_type": "execute_result"
    }
   ],
   "source": [
    "dataset.shape"
   ]
  },
  {
   "cell_type": "code",
   "execution_count": 16,
   "id": "5ca58ab7",
   "metadata": {},
   "outputs": [
    {
     "name": "stdout",
     "output_type": "stream",
     "text": [
      "<class 'pandas.core.frame.DataFrame'>\n",
      "Int64Index: 1555129 entries, 2 to 2058407\n",
      "Data columns (total 45 columns):\n",
      " #   Column                                       Non-Null Count    Dtype  \n",
      "---  ------                                       --------------    -----  \n",
      " 0   1st_Road_Class                               1555129 non-null  object \n",
      " 1   Accident_Severity                            1555129 non-null  object \n",
      " 2   Date                                         1555129 non-null  object \n",
      " 3   Day_of_Week                                  1555129 non-null  object \n",
      " 4   Did_Police_Officer_Attend_Scene_of_Accident  1555129 non-null  float64\n",
      " 5   Junction_Control                             1555129 non-null  object \n",
      " 6   Junction_Detail                              1555129 non-null  object \n",
      " 7   Latitude                                     1555129 non-null  float64\n",
      " 8   Light_Conditions                             1555129 non-null  object \n",
      " 9   Local_Authority_(District)                   1555129 non-null  object \n",
      " 10  Local_Authority_(Highway)                    1555129 non-null  object \n",
      " 11  Location_Northing_OSGR                       1555129 non-null  float64\n",
      " 12  Longitude                                    1555129 non-null  float64\n",
      " 13  Number_of_Casualties                         1555129 non-null  int64  \n",
      " 14  Number_of_Vehicles                           1555129 non-null  int64  \n",
      " 15  Pedestrian_Crossing-Human_Control            1555129 non-null  float64\n",
      " 16  Pedestrian_Crossing-Physical_Facilities      1555129 non-null  float64\n",
      " 17  Police_Force                                 1555129 non-null  object \n",
      " 18  Road_Surface_Conditions                      1555129 non-null  object \n",
      " 19  Road_Type                                    1555129 non-null  object \n",
      " 20  Speed_limit                                  1555129 non-null  float64\n",
      " 21  Time                                         1555129 non-null  object \n",
      " 22  Urban_or_Rural_Area                          1555129 non-null  object \n",
      " 23  Weather_Conditions                           1555129 non-null  object \n",
      " 24  Year_x                                       1555129 non-null  int64  \n",
      " 25  InScotland                                   1555129 non-null  object \n",
      " 26  Age_Band_of_Driver                           1555129 non-null  object \n",
      " 27  Age_of_Vehicle                               1555129 non-null  float64\n",
      " 28  Driver_Home_Area_Type                        1555129 non-null  object \n",
      " 29  Engine_Capacity_.CC.                         1555129 non-null  float64\n",
      " 30  Journey_Purpose_of_Driver                    1555129 non-null  object \n",
      " 31  Junction_Location                            1555129 non-null  object \n",
      " 32  make                                         1555129 non-null  object \n",
      " 33  model                                        1555129 non-null  object \n",
      " 34  Propulsion_Code                              1555129 non-null  object \n",
      " 35  Sex_of_Driver                                1555129 non-null  object \n",
      " 36  Towing_and_Articulation                      1555129 non-null  object \n",
      " 37  Vehicle_Leaving_Carriageway                  1555129 non-null  object \n",
      " 38  Vehicle_Location.Restricted_Lane             1555129 non-null  float64\n",
      " 39  Vehicle_Manoeuvre                            1555129 non-null  object \n",
      " 40  Vehicle_Reference                            1555129 non-null  int64  \n",
      " 41  Vehicle_Type                                 1555129 non-null  object \n",
      " 42  Was_Vehicle_Left_Hand_Drive                  1555129 non-null  object \n",
      " 43  X1st_Point_of_Impact                         1555129 non-null  object \n",
      " 44  Year_y                                       1555129 non-null  int64  \n",
      "dtypes: float64(10), int64(5), object(30)\n",
      "memory usage: 545.8+ MB\n"
     ]
    }
   ],
   "source": [
    "dataset.info()"
   ]
  },
  {
   "cell_type": "markdown",
   "id": "b5aaad14",
   "metadata": {},
   "source": [
    "Even though about a quarter or our records were dropped, we are still left with 1.5 million records to analyze. This is still a significant amount of data for the purpose of our analysis. Now that our data is clean of nulls, let's examine it in further detail."
   ]
  },
  {
   "cell_type": "code",
   "execution_count": 19,
   "id": "286aa2c2",
   "metadata": {},
   "outputs": [
    {
     "data": {
      "text/html": [
       "<div>\n",
       "<style scoped>\n",
       "    .dataframe tbody tr th:only-of-type {\n",
       "        vertical-align: middle;\n",
       "    }\n",
       "\n",
       "    .dataframe tbody tr th {\n",
       "        vertical-align: top;\n",
       "    }\n",
       "\n",
       "    .dataframe thead th {\n",
       "        text-align: right;\n",
       "    }\n",
       "</style>\n",
       "<table border=\"1\" class=\"dataframe\">\n",
       "  <thead>\n",
       "    <tr style=\"text-align: right;\">\n",
       "      <th></th>\n",
       "      <th>1st_Road_Class</th>\n",
       "      <th>Accident_Severity</th>\n",
       "      <th>Date</th>\n",
       "      <th>Day_of_Week</th>\n",
       "      <th>Did_Police_Officer_Attend_Scene_of_Accident</th>\n",
       "      <th>Junction_Control</th>\n",
       "      <th>Junction_Detail</th>\n",
       "      <th>Latitude</th>\n",
       "      <th>Light_Conditions</th>\n",
       "      <th>Local_Authority_(District)</th>\n",
       "      <th>...</th>\n",
       "      <th>Sex_of_Driver</th>\n",
       "      <th>Towing_and_Articulation</th>\n",
       "      <th>Vehicle_Leaving_Carriageway</th>\n",
       "      <th>Vehicle_Location.Restricted_Lane</th>\n",
       "      <th>Vehicle_Manoeuvre</th>\n",
       "      <th>Vehicle_Reference</th>\n",
       "      <th>Vehicle_Type</th>\n",
       "      <th>Was_Vehicle_Left_Hand_Drive</th>\n",
       "      <th>X1st_Point_of_Impact</th>\n",
       "      <th>Year_y</th>\n",
       "    </tr>\n",
       "  </thead>\n",
       "  <tbody>\n",
       "    <tr>\n",
       "      <th>2</th>\n",
       "      <td>A</td>\n",
       "      <td>Slight</td>\n",
       "      <td>2005-01-07</td>\n",
       "      <td>Friday</td>\n",
       "      <td>1.0</td>\n",
       "      <td>Data missing or out of range</td>\n",
       "      <td>Not at junction or within 20 metres</td>\n",
       "      <td>51.482442</td>\n",
       "      <td>Daylight</td>\n",
       "      <td>Kensington and Chelsea</td>\n",
       "      <td>...</td>\n",
       "      <td>Female</td>\n",
       "      <td>No tow/articulation</td>\n",
       "      <td>Did not leave carriageway</td>\n",
       "      <td>0.0</td>\n",
       "      <td>Going ahead other</td>\n",
       "      <td>1</td>\n",
       "      <td>Car</td>\n",
       "      <td>No</td>\n",
       "      <td>Front</td>\n",
       "      <td>2005</td>\n",
       "    </tr>\n",
       "    <tr>\n",
       "      <th>4</th>\n",
       "      <td>Unclassified</td>\n",
       "      <td>Slight</td>\n",
       "      <td>2005-01-11</td>\n",
       "      <td>Tuesday</td>\n",
       "      <td>1.0</td>\n",
       "      <td>Data missing or out of range</td>\n",
       "      <td>Not at junction or within 20 metres</td>\n",
       "      <td>51.515540</td>\n",
       "      <td>Daylight</td>\n",
       "      <td>Kensington and Chelsea</td>\n",
       "      <td>...</td>\n",
       "      <td>Male</td>\n",
       "      <td>No tow/articulation</td>\n",
       "      <td>Did not leave carriageway</td>\n",
       "      <td>0.0</td>\n",
       "      <td>Moving off</td>\n",
       "      <td>1</td>\n",
       "      <td>Car</td>\n",
       "      <td>No</td>\n",
       "      <td>Did not impact</td>\n",
       "      <td>2005</td>\n",
       "    </tr>\n",
       "    <tr>\n",
       "      <th>5</th>\n",
       "      <td>Unclassified</td>\n",
       "      <td>Slight</td>\n",
       "      <td>2005-01-11</td>\n",
       "      <td>Tuesday</td>\n",
       "      <td>1.0</td>\n",
       "      <td>Data missing or out of range</td>\n",
       "      <td>Not at junction or within 20 metres</td>\n",
       "      <td>51.515540</td>\n",
       "      <td>Daylight</td>\n",
       "      <td>Kensington and Chelsea</td>\n",
       "      <td>...</td>\n",
       "      <td>Female</td>\n",
       "      <td>No tow/articulation</td>\n",
       "      <td>Did not leave carriageway</td>\n",
       "      <td>0.0</td>\n",
       "      <td>Going ahead other</td>\n",
       "      <td>2</td>\n",
       "      <td>Motorcycle 125cc and under</td>\n",
       "      <td>No</td>\n",
       "      <td>Did not impact</td>\n",
       "      <td>2005</td>\n",
       "    </tr>\n",
       "    <tr>\n",
       "      <th>7</th>\n",
       "      <td>C</td>\n",
       "      <td>Slight</td>\n",
       "      <td>2005-01-13</td>\n",
       "      <td>Thursday</td>\n",
       "      <td>1.0</td>\n",
       "      <td>Give way or uncontrolled</td>\n",
       "      <td>T or staggered junction</td>\n",
       "      <td>51.512695</td>\n",
       "      <td>Darkness - lights lit</td>\n",
       "      <td>Kensington and Chelsea</td>\n",
       "      <td>...</td>\n",
       "      <td>Male</td>\n",
       "      <td>No tow/articulation</td>\n",
       "      <td>Did not leave carriageway</td>\n",
       "      <td>0.0</td>\n",
       "      <td>Parked</td>\n",
       "      <td>2</td>\n",
       "      <td>Car</td>\n",
       "      <td>No</td>\n",
       "      <td>Back</td>\n",
       "      <td>2005</td>\n",
       "    </tr>\n",
       "    <tr>\n",
       "      <th>8</th>\n",
       "      <td>A</td>\n",
       "      <td>Slight</td>\n",
       "      <td>2005-01-14</td>\n",
       "      <td>Friday</td>\n",
       "      <td>1.0</td>\n",
       "      <td>Data missing or out of range</td>\n",
       "      <td>Not at junction or within 20 metres</td>\n",
       "      <td>51.502260</td>\n",
       "      <td>Daylight</td>\n",
       "      <td>Kensington and Chelsea</td>\n",
       "      <td>...</td>\n",
       "      <td>Male</td>\n",
       "      <td>No tow/articulation</td>\n",
       "      <td>Nearside</td>\n",
       "      <td>0.0</td>\n",
       "      <td>Going ahead other</td>\n",
       "      <td>1</td>\n",
       "      <td>Car</td>\n",
       "      <td>No</td>\n",
       "      <td>Front</td>\n",
       "      <td>2005</td>\n",
       "    </tr>\n",
       "  </tbody>\n",
       "</table>\n",
       "<p>5 rows × 45 columns</p>\n",
       "</div>"
      ],
      "text/plain": [
       "  1st_Road_Class Accident_Severity        Date Day_of_Week  \\\n",
       "2              A            Slight  2005-01-07      Friday   \n",
       "4   Unclassified            Slight  2005-01-11     Tuesday   \n",
       "5   Unclassified            Slight  2005-01-11     Tuesday   \n",
       "7              C            Slight  2005-01-13    Thursday   \n",
       "8              A            Slight  2005-01-14      Friday   \n",
       "\n",
       "   Did_Police_Officer_Attend_Scene_of_Accident              Junction_Control  \\\n",
       "2                                          1.0  Data missing or out of range   \n",
       "4                                          1.0  Data missing or out of range   \n",
       "5                                          1.0  Data missing or out of range   \n",
       "7                                          1.0      Give way or uncontrolled   \n",
       "8                                          1.0  Data missing or out of range   \n",
       "\n",
       "                       Junction_Detail   Latitude       Light_Conditions  \\\n",
       "2  Not at junction or within 20 metres  51.482442               Daylight   \n",
       "4  Not at junction or within 20 metres  51.515540               Daylight   \n",
       "5  Not at junction or within 20 metres  51.515540               Daylight   \n",
       "7              T or staggered junction  51.512695  Darkness - lights lit   \n",
       "8  Not at junction or within 20 metres  51.502260               Daylight   \n",
       "\n",
       "  Local_Authority_(District)  ... Sex_of_Driver  Towing_and_Articulation  \\\n",
       "2     Kensington and Chelsea  ...        Female      No tow/articulation   \n",
       "4     Kensington and Chelsea  ...          Male      No tow/articulation   \n",
       "5     Kensington and Chelsea  ...        Female      No tow/articulation   \n",
       "7     Kensington and Chelsea  ...          Male      No tow/articulation   \n",
       "8     Kensington and Chelsea  ...          Male      No tow/articulation   \n",
       "\n",
       "   Vehicle_Leaving_Carriageway  Vehicle_Location.Restricted_Lane  \\\n",
       "2    Did not leave carriageway                               0.0   \n",
       "4    Did not leave carriageway                               0.0   \n",
       "5    Did not leave carriageway                               0.0   \n",
       "7    Did not leave carriageway                               0.0   \n",
       "8                     Nearside                               0.0   \n",
       "\n",
       "   Vehicle_Manoeuvre  Vehicle_Reference                Vehicle_Type  \\\n",
       "2  Going ahead other                  1                         Car   \n",
       "4         Moving off                  1                         Car   \n",
       "5  Going ahead other                  2  Motorcycle 125cc and under   \n",
       "7             Parked                  2                         Car   \n",
       "8  Going ahead other                  1                         Car   \n",
       "\n",
       "  Was_Vehicle_Left_Hand_Drive X1st_Point_of_Impact Year_y  \n",
       "2                          No                Front   2005  \n",
       "4                          No       Did not impact   2005  \n",
       "5                          No       Did not impact   2005  \n",
       "7                          No                 Back   2005  \n",
       "8                          No                Front   2005  \n",
       "\n",
       "[5 rows x 45 columns]"
      ]
     },
     "execution_count": 19,
     "metadata": {},
     "output_type": "execute_result"
    }
   ],
   "source": [
    "dataset.head()"
   ]
  },
  {
   "cell_type": "markdown",
   "id": "b633f2bb",
   "metadata": {},
   "source": [
    "Let us look further into some of the categorical data to see if they make sense!"
   ]
  },
  {
   "cell_type": "code",
   "execution_count": 17,
   "id": "ff765f0b",
   "metadata": {},
   "outputs": [
    {
     "data": {
      "text/plain": [
       "array(['A', 'Unclassified', 'C', 'B', 'Motorway', 'A(M)'], dtype=object)"
      ]
     },
     "execution_count": 17,
     "metadata": {},
     "output_type": "execute_result"
    },
    {
     "data": {
      "text/plain": [
       "array(['Slight', 'Serious', 'Fatal'], dtype=object)"
      ]
     },
     "execution_count": 17,
     "metadata": {},
     "output_type": "execute_result"
    },
    {
     "data": {
      "text/plain": [
       "array(['Friday', 'Tuesday', 'Thursday', 'Sunday', 'Saturday', 'Wednesday',\n",
       "       'Monday'], dtype=object)"
      ]
     },
     "execution_count": 17,
     "metadata": {},
     "output_type": "execute_result"
    },
    {
     "data": {
      "text/plain": [
       "array(['Data missing or out of range', 'Give way or uncontrolled',\n",
       "       'Auto traffic signal', 'Stop sign', 'Authorised person',\n",
       "       'Not at junction or within 20 metres'], dtype=object)"
      ]
     },
     "execution_count": 17,
     "metadata": {},
     "output_type": "execute_result"
    },
    {
     "data": {
      "text/plain": [
       "array(['Not at junction or within 20 metres', 'T or staggered junction',\n",
       "       'Crossroads', 'Mini-roundabout', 'Private drive or entrance',\n",
       "       'More than 4 arms (not roundabout)', 'Roundabout',\n",
       "       'Other junction', 'Slip road', 'Data missing or out of range'],\n",
       "      dtype=object)"
      ]
     },
     "execution_count": 17,
     "metadata": {},
     "output_type": "execute_result"
    },
    {
     "data": {
      "text/plain": [
       "array(['Daylight', 'Darkness - lights lit', 'Darkness - lights unlit',\n",
       "       'Darkness - lighting unknown', 'Darkness - no lighting',\n",
       "       'Data missing or out of range'], dtype=object)"
      ]
     },
     "execution_count": 17,
     "metadata": {},
     "output_type": "execute_result"
    },
    {
     "data": {
      "text/plain": [
       "array(['Kensington and Chelsea', 'Hammersmith and Fulham', 'Westminster',\n",
       "       'City of London', 'Hackney', 'Islington', 'Camden', 'Brent',\n",
       "       'Haringey', 'Barnet', 'Richmond upon Thames', 'Ealing',\n",
       "       'Tower Hamlets', 'Hillingdon', 'London Airport (Heathrow)',\n",
       "       'Hounslow', 'Waltham Forest', 'Redbridge', 'Barking and Dagenham',\n",
       "       'Newham', 'Havering', 'Lambeth', 'Southwark', 'Croydon',\n",
       "       'Wandsworth', 'Lewisham', 'Bromley', 'Bexley', 'Harrow',\n",
       "       'Greenwich', 'Enfield', 'Kingston upon Thames', 'Merton', 'Sutton',\n",
       "       'South Lakeland', 'Barrow-in-Furness', 'Carlisle', 'Eden',\n",
       "       'Allerdale', 'Copeland', 'Blackpool', 'Fylde', 'Lancaster',\n",
       "       'Blackburn with Darwen', 'Preston', 'Wyre', 'West Lancashire',\n",
       "       'South Ribble', 'Chorley', 'Hyndburn', 'Ribble Valley', 'Pendle',\n",
       "       'Rossendale', 'Burnley', 'Wirral', 'Sefton', 'Knowsley',\n",
       "       'Liverpool', 'St. Helens', 'Manchester', 'Salford', 'Rochdale',\n",
       "       'Trafford', 'Stockport', 'Wigan', 'Tameside', 'Bolton', 'Bury',\n",
       "       'Oldham', 'Warrington', 'Crewe and Nantwich', 'Halton',\n",
       "       'Ellesmere Port and Neston', 'Vale Royal', 'Chester',\n",
       "       'Macclesfield', 'Congleton', 'Newcastle upon Tyne', 'Sunderland',\n",
       "       'North Tyneside', 'Wansbeck', 'Blyth Valley', 'South Tyneside',\n",
       "       'Tynedale', 'Gateshead', 'Alnwick', 'Castle Morpeth',\n",
       "       'Berwick-upon-Tweed', 'Wear Valley', 'Sedgefield', 'Durham',\n",
       "       'Easington', 'Chester-le-Street', 'Derwentside', 'Teesdale',\n",
       "       'Darlington', 'Ryedale', 'York', 'Craven', 'Scarborough',\n",
       "       'Hambleton', 'Harrogate', 'Selby', 'Richmondshire', 'Kirklees',\n",
       "       'Leeds', 'Bradford', 'Wakefield', 'Calderdale', 'Doncaster',\n",
       "       'Barnsley', 'Sheffield', 'Rotherham', 'North East Lincolnshire',\n",
       "       'North Lincolnshire', 'East Riding of Yorkshire',\n",
       "       'Kingston upon Hull, City of', 'Hartlepool',\n",
       "       'Redcar and Cleveland', 'Middlesbrough', 'Stockton-on-Tees',\n",
       "       'Birmingham', 'Wolverhampton', 'Walsall', 'Dudley', 'Sandwell',\n",
       "       'Solihull', 'Coventry', 'Stoke-on-Trent', 'Newcastle-under-Lyme',\n",
       "       'Stafford', 'Staffordshire Moorlands', 'East Staffordshire',\n",
       "       'Cannock Chase', 'South Staffordshire', 'Lichfield', 'Tamworth',\n",
       "       'Worcester', 'Wychavon', 'Malvern Hills', 'Wyre Forest',\n",
       "       'Bromsgrove', 'Redditch', 'Herefordshire, County of',\n",
       "       'Shrewsbury and Atcham', 'Oswestry', 'Telford and Wrekin',\n",
       "       'South Shropshire', 'Bridgnorth', 'North Shropshire',\n",
       "       'Stratford-upon-Avon', 'Warwick', 'North Warwickshire',\n",
       "       'Nuneaton and Bedworth', 'Rugby', 'Amber Valley', 'Erewash',\n",
       "       'Bolsover', 'Derbyshire Dales', 'High Peak',\n",
       "       'North East Derbyshire', 'Chesterfield', 'South Derbyshire',\n",
       "       'Derby', 'Mansfield', 'Ashfield', 'Bassetlaw',\n",
       "       'Newark and Sherwood', 'Rushcliffe', 'Nottingham', 'Gedling',\n",
       "       'Broxtowe', 'South Kesteven', 'South Holland', 'North Kesteven',\n",
       "       'East Lindsey', 'West Lindsey', 'Boston', 'Lincoln', 'Harborough',\n",
       "       'Leicester', 'Charnwood', 'North West Leicestershire', 'Rutland',\n",
       "       'Blaby', 'Oadby and Wigston', 'Melton', 'Hinckley and Bosworth',\n",
       "       'Kettering', 'Corby', 'East Northamptonshire', 'Daventry',\n",
       "       'South Northamptonshire', 'Northampton', 'Wellingborough',\n",
       "       'South Cambridgeshire', 'Huntingdonshire', 'Peterborough',\n",
       "       'East Cambridgeshire', 'Cambridge', 'Fenland', 'Great Yarmouth',\n",
       "       \"King's Lynn and West Norfolk\", 'Broadland', 'South Norfolk',\n",
       "       'Breckland', 'Norwich', 'North Norfolk', 'St. Edmundsbury',\n",
       "       'Suffolk Coastal', 'Babergh', 'Mid Suffolk', 'Forest Heath',\n",
       "       'Ipswich', 'Waveney', 'Bedford', 'Mid Bedfordshire', 'Luton',\n",
       "       'South Bedfordshire', 'East Hertfordshire', 'North Hertfordshire',\n",
       "       'Welwyn Hatfield', 'Broxbourne', 'Watford', 'Hertsmere',\n",
       "       'Three Rivers', 'Dacorum', 'Stevenage', 'St. Albans', 'Uttlesford',\n",
       "       'Braintree', 'Colchester', 'Epping Forest', 'Basildon',\n",
       "       'Chelmsford', 'Thurrock', 'Maldon', 'Brentwood', 'Tendring',\n",
       "       'Harlow', 'Southend-on-Sea', 'Castle Point', 'Rochford',\n",
       "       'Aylesbury Vale', 'Wycombe', 'South Bucks', 'Milton Keynes',\n",
       "       'Chiltern', 'Slough', 'Cherwell', 'Vale of White Horse',\n",
       "       'South Oxfordshire', 'West Oxfordshire', 'Oxford',\n",
       "       'West Berkshire', 'Bracknell Forest', 'Reading',\n",
       "       'Windsor and Maidenhead', 'Wokingham', 'Gosport', 'Winchester',\n",
       "       'Isle of Wight', 'New Forest', 'Fareham', 'Test Valley',\n",
       "       'Rushmoor', 'Basingstoke and Deane', 'Havant', 'Portsmouth',\n",
       "       'Eastleigh', 'Hart', 'East Hampshire', 'Southampton', 'Elmbridge',\n",
       "       'Runnymede', 'Spelthorne', 'Guildford', 'Mole Valley',\n",
       "       'Epsom and Ewell', 'Reigate and Banstead', 'Woking',\n",
       "       'Surrey Heath', 'Waverley', 'Tandridge', 'Medway', 'Dartford',\n",
       "       'Sevenoaks', 'Dover', 'Shepway', 'Canterbury', 'Tunbridge Wells',\n",
       "       'Tonbridge and Malling', 'Maidstone', 'Swale', 'Ashford', 'Thanet',\n",
       "       'Gravesham', 'Wealden', 'Eastbourne', 'Rother',\n",
       "       'Brighton and Hove', 'Mid Sussex', 'Chichester', 'Worthing',\n",
       "       'Arun', 'Lewes', 'Crawley', 'Adur', 'Hastings', 'Horsham',\n",
       "       'Kerrier', 'Carrick', 'Penwith', 'Restormel', 'North Cornwall',\n",
       "       'West Devon', 'Caradon', 'Torridge', 'North Devon', 'Exeter',\n",
       "       'East Devon', 'Teignbridge', 'Mid Devon', 'Plymouth', 'South Hams',\n",
       "       'Torbay', 'Bristol, City of', 'Sedgemoor',\n",
       "       'Bath and North East Somerset', 'Mendip', 'South Gloucestershire',\n",
       "       'Taunton Deane', 'South Somerset', 'North Somerset',\n",
       "       'West Somerset', 'Stroud', 'Gloucester', 'Tewkesbury',\n",
       "       'Forest of Dean', 'Cotswold', 'Cheltenham', 'Salisbury', 'Kennet',\n",
       "       'West Wiltshire', 'North Wiltshire', 'Swindon', 'Bournemouth',\n",
       "       'Poole', 'North Dorset', 'East Dorset', 'Christchurch', 'Purbeck',\n",
       "       'West Dorset', 'Weymouth and Portland', 'Isle of Anglesey',\n",
       "       'Conwy', 'Denbighshire', 'Flintshire', 'Gwynedd', 'Wrexham',\n",
       "       'Caerphilly', 'Monmouthshire', 'Torfaen', 'Blaenau Gwent',\n",
       "       'Newport', 'Swansea', 'Bridgend', 'Cardiff', 'Neath Port Talbot',\n",
       "       'Merthyr Tydfil', 'The Vale of Glamorgan', 'Rhondda, Cynon, Taff',\n",
       "       'Carmarthenshire', 'Ceredigion', 'Pembrokeshire', 'Powys',\n",
       "       'Highland', 'Western Isles', 'Orkney Islands', 'Shetland Islands',\n",
       "       'Aberdeen City', 'Aberdeenshire', 'Moray', 'Perth and Kinross',\n",
       "       'Angus', 'Dundee City', 'Fife', 'Edinburgh, City of',\n",
       "       'Scottish Borders', 'West Lothian', 'Midlothian', 'East Lothian',\n",
       "       'Stirling', 'Falkirk', 'Clackmannanshire', 'Glasgow City',\n",
       "       'East Dunbartonshire', 'East Renfrewshire', 'Renfrewshire',\n",
       "       'Inverclyde', 'West Dunbartonshire', 'Argyll and Bute',\n",
       "       'North Lanarkshire', 'South Lanarkshire', 'North Ayrshire',\n",
       "       'East Ayrshire', 'South Ayrshire', 'Dumfries and Galloway',\n",
       "       'Cheshire East', 'Cheshire West and Chester', 'Northumberland',\n",
       "       'County Durham', 'Shropshire', 'Central Bedfordshire', 'Cornwall',\n",
       "       'Wiltshire'], dtype=object)"
      ]
     },
     "execution_count": 17,
     "metadata": {},
     "output_type": "execute_result"
    },
    {
     "data": {
      "text/plain": [
       "array(['Kensington and Chelsea', 'Hammersmith and Fulham', 'Westminster',\n",
       "       'City of London', 'Hackney', 'Islington', 'Camden', 'Brent',\n",
       "       'Haringey', 'Barnet', 'Richmond upon Thames', 'Ealing',\n",
       "       'Tower Hamlets', 'Hillingdon', 'London Airport (Heathrow)',\n",
       "       'Hounslow', 'Waltham Forest', 'Redbridge', 'Barking and Dagenham',\n",
       "       'Newham', 'Havering', 'Lambeth', 'Southwark', 'Croydon',\n",
       "       'Wandsworth', 'Lewisham', 'Bromley', 'Bexley', 'Harrow',\n",
       "       'Greenwich', 'Enfield', 'Kingston upon Thames', 'Merton', 'Sutton',\n",
       "       'Cumbria', 'Blackpool', 'Lancashire', 'Blackburn with Darwen',\n",
       "       'Wirral', 'Sefton', 'Knowsley', 'Liverpool', 'St. Helens',\n",
       "       'Manchester', 'Salford', 'Rochdale', 'Trafford', 'Stockport',\n",
       "       'Wigan', 'Tameside', 'Bolton', 'Bury', 'Oldham', 'Warrington',\n",
       "       'Cheshire East', 'Halton', 'Cheshire West and Chester',\n",
       "       'Newcastle upon Tyne', 'Sunderland', 'North Tyneside',\n",
       "       'Northumberland', 'South Tyneside', 'Gateshead', 'County Durham',\n",
       "       'Darlington', 'North Yorkshire', 'York', 'Kirklees', 'Leeds',\n",
       "       'Bradford', 'Wakefield', 'Calderdale', 'Doncaster', 'Barnsley',\n",
       "       'Sheffield', 'Rotherham', 'North East Lincolnshire',\n",
       "       'North Lincolnshire', 'East Riding of Yorkshire',\n",
       "       'Kingston upon Hull, City of', 'Hartlepool',\n",
       "       'Redcar and Cleveland', 'Middlesbrough', 'Stockton-on-Tees',\n",
       "       'Birmingham', 'Wolverhampton', 'Walsall', 'Dudley', 'Sandwell',\n",
       "       'Solihull', 'Coventry', 'Stoke-on-Trent', 'Staffordshire',\n",
       "       'Worcestershire', 'Herefordshire, County of', 'Shropshire',\n",
       "       'Telford and Wrekin', 'Warwickshire', 'Derbyshire', 'Derby',\n",
       "       'Nottinghamshire', 'Nottingham', 'Lincolnshire', 'Leicestershire',\n",
       "       'Leicester', 'Rutland', 'Northamptonshire', 'Cambridgeshire',\n",
       "       'Peterborough', 'Norfolk', 'Suffolk', 'Bedford',\n",
       "       'Central Bedfordshire', 'Luton', 'Hertfordshire', 'Essex',\n",
       "       'Thurrock', 'Southend-on-Sea', 'Buckinghamshire', 'Milton Keynes',\n",
       "       'Slough', 'Oxfordshire', 'West Berkshire', 'Bracknell Forest',\n",
       "       'Reading', 'Windsor and Maidenhead', 'Wokingham', 'Hampshire',\n",
       "       'Isle of Wight', 'Portsmouth', 'Southampton', 'Surrey', 'Medway',\n",
       "       'Kent', 'East Sussex', 'Brighton and Hove', 'West Sussex',\n",
       "       'Cornwall', 'Devon', 'Plymouth', 'Torbay', 'Bristol, City of',\n",
       "       'Somerset', 'Bath and North East Somerset',\n",
       "       'South Gloucestershire', 'North Somerset', 'Gloucestershire',\n",
       "       'Wiltshire', 'Swindon', 'Bournemouth', 'Poole', 'Dorset',\n",
       "       'Isle of Anglesey', 'Conwy', 'Denbighshire', 'Flintshire',\n",
       "       'Gwynedd', 'Wrexham', 'Caerphilly', 'Monmouthshire', 'Torfaen',\n",
       "       'Blaenau Gwent', 'Newport', 'Swansea', 'Bridgend', 'Cardiff',\n",
       "       'Neath Port Talbot', 'Merthyr Tydfil', 'The Vale of Glamorgan',\n",
       "       'Rhondda, Cynon, Taff', 'Carmarthenshire', 'Ceredigion',\n",
       "       'Pembrokeshire', 'Powys', 'Highland',\n",
       "       'Na h-Eileanan an Iar (Western Isles)', 'Orkney Islands',\n",
       "       'Shetland Islands', 'Aberdeen City', 'Aberdeenshire', 'Moray',\n",
       "       'Perth and Kinross', 'Angus', 'Dundee City', 'Fife',\n",
       "       'Edinburgh, City of', 'Scottish Borders', 'West Lothian',\n",
       "       'Midlothian', 'East Lothian', 'Stirling', 'Falkirk',\n",
       "       'Clackmannanshire', 'Glasgow City', 'East Dunbartonshire',\n",
       "       'East Renfrewshire', 'Renfrewshire', 'Inverclyde',\n",
       "       'West Dunbartonshire', 'Argyll & Bute', 'North Lanarkshire',\n",
       "       'South Lanarkshire', 'North Ayrshire', 'East Ayrshire',\n",
       "       'South Ayrshire', 'Dumfries & Galloway', 'Isles of Scilly'],\n",
       "      dtype=object)"
      ]
     },
     "execution_count": 17,
     "metadata": {},
     "output_type": "execute_result"
    },
    {
     "data": {
      "text/plain": [
       "array(['Metropolitan Police', 'City of London', 'Cumbria', 'Lancashire',\n",
       "       'Merseyside', 'Greater Manchester', 'Cheshire', 'Northumbria',\n",
       "       'Durham', 'North Yorkshire', 'West Yorkshire', 'South Yorkshire',\n",
       "       'Humberside', 'Cleveland', 'West Midlands', 'Staffordshire',\n",
       "       'West Mercia', 'Warwickshire', 'Derbyshire', 'Nottinghamshire',\n",
       "       'Lincolnshire', 'Leicestershire', 'Northamptonshire',\n",
       "       'Cambridgeshire', 'Norfolk', 'Suffolk', 'Bedfordshire',\n",
       "       'Hertfordshire', 'Essex', 'Thames Valley', 'Hampshire', 'Surrey',\n",
       "       'Kent', 'Sussex', 'Devon and Cornwall', 'Avon and Somerset',\n",
       "       'Gloucestershire', 'Wiltshire', 'Dorset', 'North Wales', 'Gwent',\n",
       "       'South Wales', 'Dyfed-Powys', 'Northern', 'Grampian', 'Tayside',\n",
       "       'Fife', 'Lothian and Borders', 'Central', 'Strathclyde',\n",
       "       'Dumfries and Galloway'], dtype=object)"
      ]
     },
     "execution_count": 17,
     "metadata": {},
     "output_type": "execute_result"
    },
    {
     "data": {
      "text/plain": [
       "array(['Dry', 'Wet or damp', 'Snow', 'Frost or ice',\n",
       "       'Flood over 3cm. deep', 'Data missing or out of range'],\n",
       "      dtype=object)"
      ]
     },
     "execution_count": 17,
     "metadata": {},
     "output_type": "execute_result"
    },
    {
     "data": {
      "text/plain": [
       "array(['Single carriageway', 'Dual carriageway', 'One way street',\n",
       "       'Roundabout', 'Slip road', 'Unknown'], dtype=object)"
      ]
     },
     "execution_count": 17,
     "metadata": {},
     "output_type": "execute_result"
    },
    {
     "data": {
      "text/plain": [
       "array(['Urban', 'Rural', 'Unallocated'], dtype=object)"
      ]
     },
     "execution_count": 17,
     "metadata": {},
     "output_type": "execute_result"
    },
    {
     "data": {
      "text/plain": [
       "array(['Fine no high winds', 'Raining no high winds',\n",
       "       'Snowing no high winds', 'Fine + high winds', 'Other', 'Unknown',\n",
       "       'Raining + high winds', 'Fog or mist', 'Snowing + high winds',\n",
       "       'Data missing or out of range'], dtype=object)"
      ]
     },
     "execution_count": 17,
     "metadata": {},
     "output_type": "execute_result"
    },
    {
     "data": {
      "text/plain": [
       "array(['No', 'Yes'], dtype=object)"
      ]
     },
     "execution_count": 17,
     "metadata": {},
     "output_type": "execute_result"
    },
    {
     "data": {
      "text/plain": [
       "array(['46 - 55', '26 - 35', '36 - 45', '66 - 75', '16 - 20', '56 - 65',\n",
       "       'Data missing or out of range', '21 - 25', 'Over 75', '11 - 15',\n",
       "       '6 - 10', '0 - 5'], dtype=object)"
      ]
     },
     "execution_count": 17,
     "metadata": {},
     "output_type": "execute_result"
    },
    {
     "data": {
      "text/plain": [
       "array(['Urban area', 'Data missing or out of range', 'Small town',\n",
       "       'Rural'], dtype=object)"
      ]
     },
     "execution_count": 17,
     "metadata": {},
     "output_type": "execute_result"
    },
    {
     "data": {
      "text/plain": [
       "array(['Other/Not known (2005-10)', 'Journey as part of work',\n",
       "       'Commuting to/from work', 'Pupil riding to/from school',\n",
       "       'Taking pupil to/from school', 'Data missing or out of range',\n",
       "       'Not known', 'Other'], dtype=object)"
      ]
     },
     "execution_count": 17,
     "metadata": {},
     "output_type": "execute_result"
    },
    {
     "data": {
      "text/plain": [
       "array(['Not at or within 20 metres of junction',\n",
       "       'Approaching junction or waiting/parked at junction approach',\n",
       "       'Mid Junction - on roundabout or on main road',\n",
       "       'Cleared junction or waiting/parked at junction exit',\n",
       "       'Leaving roundabout', 'Entering main road',\n",
       "       'Entering from slip road', 'Leaving main road',\n",
       "       'Entering roundabout', 'Data missing or out of range'],\n",
       "      dtype=object)"
      ]
     },
     "execution_count": 17,
     "metadata": {},
     "output_type": "execute_result"
    },
    {
     "data": {
      "text/plain": [
       "array(['NISSAN', 'AUDI', 'PIAGGIO', 'MERCEDES', 'JAGUAR', 'FORD', 'MCC',\n",
       "       'BMW', 'PEUGEOT', 'HONDA', 'VAUXHALL', 'ROVER', 'LOTUS', 'SUZUKI',\n",
       "       'SAAB', 'LONDON TAXIS INT', 'SUBARU', 'KAWASAKI', 'HYUNDAI',\n",
       "       'LAND ROVER', 'VOLKSWAGEN', 'CITROEN', 'MINI', 'DUCATI', 'DAEWOO',\n",
       "       'FIAT', 'METROCAB', 'YAMAHA', 'GILERA', 'RENAULT', 'MITSUBISHI',\n",
       "       'TOYOTA', 'BUELL', 'TRIUMPH', 'PORSCHE', 'VOLVO', 'JEEP',\n",
       "       'ASTON MARTIN', 'ALFA ROMEO', 'MG', 'TVR', 'SEAT', 'KIA',\n",
       "       'CHRYSLER', 'SMART', 'SKODA', 'TAIWAN GOLDEN BEE', 'TAISHAN',\n",
       "       'PROTON', 'MAZDA', 'HARLEY-DAVIDSON', 'KYMCO', 'LEXUS', 'KTM',\n",
       "       'ISUZU TRUCKS', 'MOTO ROMA', 'CCM', 'MALAGUTI', 'JIALING', 'SYM',\n",
       "       'ISUZU', 'DAIHATSU', 'DAF TRUCKS', 'BRANSON', 'PGO', 'LDV',\n",
       "       'BENTLEY', 'AUSTIN', 'LADA', 'AUTO-TRAIL', 'PERODUA', 'Z Y MOTOR',\n",
       "       'HILLMAN', 'DATSUN', 'LEYLAND DAF', 'APRILIA', 'CAGIVA',\n",
       "       'CHEVROLET GMC', 'ITALJET', 'BAOTIAN', 'MASERATI', 'MORRIS',\n",
       "       'DAIMLER', 'OPEL', 'IVECO', 'MOTOR HISPANIA', 'HER CHE', 'RELIANT',\n",
       "       'LEYLAND CARS', 'SANTANA', 'SSANGYONG', 'CHITUMA', 'JINLUN',\n",
       "       'ALL WHEEL DRIVE', 'MBK', 'ROYAL ENFIELD', 'EASY RIDER', 'TALBOT',\n",
       "       'FSO CARS', 'MV AGUSTA', 'TATA', 'MICROCAR', 'SACHS', 'OPTARE',\n",
       "       'GAS GAS', 'FMC', 'LANCIA', 'DAELIM', 'FREIGHT ROVER', 'MORGAN',\n",
       "       'MOTO GUZZI', 'SUKIDA', 'SHERCO', 'RIEJU', 'FERRARI', 'HIMO',\n",
       "       'ZASTAVA', 'KINLON', 'IVECO FORD', 'BEDFORD', 'AUSTIN MORRIS',\n",
       "       'BENELLI', 'BAJAJ', 'ADLY', 'ROLLS ROYCE', 'HONGYI', 'IRIS.BUS',\n",
       "       'CHEVROLET', 'GIANTCO', 'MODENAS', 'HYOSUNG', 'DAF', 'EVT',\n",
       "       'CADILLAC', 'SMC', 'DAJIANG', 'LIFAN', 'AIXAM', 'ASIA', 'WOLSELEY',\n",
       "       'CPI', 'MAXUS', 'JENSEN', 'KAZUMA', 'URAL', 'KEEN', 'SHE LUNG',\n",
       "       'LAMBRETTA', 'LAVERDA', 'YIBEN MEIDUC', 'CKR', 'VICTORY', 'VOR',\n",
       "       'AXR', 'DIRT PRO', 'GEELY', 'DODGE (USA)', 'BETTER', 'DERBI',\n",
       "       'SKYTEAM', 'THUMPSTAR', 'QINGQI', 'XINGYUE', 'KINROAD', 'AJS',\n",
       "       'HAOTIAN', 'YIYING', 'SHINERAY', 'LINHAI', 'LONGJIA',\n",
       "       'BRITISH TRACKSTAR', 'NORTON', 'RHON', 'VENTURI', 'HARTFORD',\n",
       "       'SIMCA', 'KAISAR', 'SUPERBYKE', 'TAMORETTI', 'WANGYE', 'KEEWAY',\n",
       "       'SONIK', 'SKYGO', 'MOTO MORINI', 'HUSQVARNA', 'HUATIAN', 'HONGDOU',\n",
       "       'ROVIGO', 'WUYANG', 'BASHAN', 'HUMMER', 'FYM', 'HUSABERG',\n",
       "       'MITSUBISHI FUSO', 'CARBODIES', 'LONCIN', 'LML', 'SINSKI',\n",
       "       'RENAULT TRUCKS', 'URBAN', 'HUONIAO', 'MZ', 'GENERIC', 'SANBEN',\n",
       "       'MEGELLI', 'TEC', 'POLARIS', 'DINLI', 'SIAMOTO', 'LAMBORGHINI',\n",
       "       'ZENNCO', 'ZONGSHEN', 'NEOPLAN', 'BARON', 'BUICK', 'QUADZILLA',\n",
       "       'VESPA (DOUGLAS)', 'ZNEN', 'SITCAR', 'LEYLAND', 'JINCHENG', 'POR',\n",
       "       'BOVA', 'VULCAN', 'BAROSSA', 'ABARTH', 'SFMM', 'CAN-AM', 'BEELINE',\n",
       "       'SANYA', 'XINLING', 'PULSE', 'JM STAR', 'LEXMOTO', 'LEIKE',\n",
       "       'LINCOLN', 'LIGIER', 'DAYUN', 'YUAN', 'NECHT', 'FEIYING',\n",
       "       'PIONEER', 'HUMBER', 'WARTBURG', 'RILEY', 'CSR', 'INFINITI',\n",
       "       'WK BIKES', 'WRIGHTBUS', 'CF MOTO', 'WHITE KNUCKLE', 'JOHN DEERE',\n",
       "       'ZONTES', 'BRISTOL', 'CAETANO', 'SKYJET', 'HANWAY', 'NECO',\n",
       "       'SUZUKO', 'DACIA', 'FOSTI', 'NIPPONIA', 'SFM', 'CTM', 'JIANSHE',\n",
       "       'MGXPOWER', 'JCM', 'SINNIS', 'CHUNLAN', 'VAN HOOL',\n",
       "       'HERALD MOTOR COMPANY', 'JCB', 'KSR MOTO', 'VDL', 'HONLEY',\n",
       "       'MOTOBI', 'BETA', 'JAWA', 'BOND', 'REWACO', 'IRIZAR', 'JONWAY',\n",
       "       'NIPPI', 'TM', 'MAHINDRA', 'BIMOTA', 'INDIAN', 'OTHER BRITISH',\n",
       "       'LONDON TAXIS INT.', 'ALEXANDER DENNIS', 'MAN', 'SCANIA', 'DODGE',\n",
       "       'DENNIS', 'IVECO-FORD', 'TGB', 'OTHER ITALIAN',\n",
       "       'JOHNSTON SWEEPERS', 'TOMOS', 'DS', 'TRANSBUS INT', 'MAYBACH',\n",
       "       'SANLI', 'OTHER FRENCH', 'MOTORHISPANIA', 'XGJAO', 'HINO',\n",
       "       'ZHONGYU', 'FODEN', 'NEW HOLLAND', 'AUSTIN HEALEY', 'AVIA',\n",
       "       'SCOMADI', 'KASEA', 'BSA', 'BARONI', 'MANITOU', 'SAME', 'SCORPA',\n",
       "       'RIS BUS', 'ERF', 'NORTON VILLIERS', 'YUTONG', 'CLAAS',\n",
       "       'CASE INTERNATIONAL', 'OTHER AGRIC/CONSTRUCTIONAL', 'LIEBHERR',\n",
       "       'ETON', 'MOTORINI', 'BMC', 'DENNIS FIRE', 'SCAMMELL', 'MATCHLESS',\n",
       "       'SECMA', 'ACCESS', 'ISEKI', 'KUBOTA', 'MCCORMICK', 'MERLO',\n",
       "       'JINLIN', 'TAFE', 'SETRA', 'YIBEN MEIDUO', 'CHAMP',\n",
       "       'OTHER COUNTRIES', 'ZETOR', 'BTM', 'SEDDON/ATKINSON', 'LANDINI',\n",
       "       'DEUTZ FAHR', 'ENFIELD', 'DFSK', 'GARELLI', 'BRISTOL (BLMC)',\n",
       "       'ACURA', 'ZHONGNENG', 'OTHER US/AUST/CAN', 'MASSEY FERGUSON',\n",
       "       'JIM STAR', 'HUONIAU', 'CZ', 'CIMOTORHOME', 'VELOCETTE', 'HYMER',\n",
       "       'BOMBARDIER', 'PANTHER', 'KATO', 'R-VISION', 'CATERHAM', 'BULTACO',\n",
       "       'SUNBEAM', 'OTHER JAPANESE/ASIAN', 'ERIK BUELL RACING', 'FARBOUD'],\n",
       "      dtype=object)"
      ]
     },
     "execution_count": 17,
     "metadata": {},
     "output_type": "execute_result"
    },
    {
     "data": {
      "text/plain": [
       "array(['ALMERA SE AUTO', 'A4 SPORT CABRIOLET AUTO', 'VESPA ET4', ...,\n",
       "       'FA XF95.430', 'DAILY 35 C14 MWB', 'STRALIS AD260S33Y/PS S-A'],\n",
       "      dtype=object)"
      ]
     },
     "execution_count": 17,
     "metadata": {},
     "output_type": "execute_result"
    },
    {
     "data": {
      "text/plain": [
       "array(['Petrol', 'Heavy oil', 'Hybrid electric', 'Gas/Bi-fuel',\n",
       "       'Petrol/Gas (LPG)', 'Gas', 'New fuel technology', 'Gas Diesel',\n",
       "       'Electric diesel'], dtype=object)"
      ]
     },
     "execution_count": 17,
     "metadata": {},
     "output_type": "execute_result"
    },
    {
     "data": {
      "text/plain": [
       "array(['Female', 'Male', 'Not known', 'Data missing or out of range'],\n",
       "      dtype=object)"
      ]
     },
     "execution_count": 17,
     "metadata": {},
     "output_type": "execute_result"
    },
    {
     "data": {
      "text/plain": [
       "array(['No tow/articulation', 'Other tow', 'Single trailer',\n",
       "       'Articulated vehicle', 'Caravan', 'Double or multiple trailer',\n",
       "       'Data missing or out of range'], dtype=object)"
      ]
     },
     "execution_count": 17,
     "metadata": {},
     "output_type": "execute_result"
    },
    {
     "data": {
      "text/plain": [
       "array(['Did not leave carriageway', 'Nearside', 'Offside',\n",
       "       'Straight ahead at junction', 'Offside on to central reservation',\n",
       "       'Offside - crossed central reservation',\n",
       "       'Offside on to centrl res + rebounded', 'Nearside and rebounded',\n",
       "       'Offside and rebounded', 'Data missing or out of range'],\n",
       "      dtype=object)"
      ]
     },
     "execution_count": 17,
     "metadata": {},
     "output_type": "execute_result"
    },
    {
     "data": {
      "text/plain": [
       "array(['Going ahead other', 'Moving off', 'Parked', 'Turning left',\n",
       "       'Turning right', 'Overtaking moving vehicle - offside', 'U-turn',\n",
       "       'Waiting to go - held up', 'Overtaking static vehicle - offside',\n",
       "       'Waiting to turn right', 'Going ahead left-hand bend',\n",
       "       'Changing lane to right', 'Slowing or stopping',\n",
       "       'Changing lane to left', 'Reversing', 'Overtaking - nearside',\n",
       "       'Going ahead right-hand bend', 'Waiting to turn left',\n",
       "       'Data missing or out of range'], dtype=object)"
      ]
     },
     "execution_count": 17,
     "metadata": {},
     "output_type": "execute_result"
    },
    {
     "data": {
      "text/plain": [
       "array(['Car', 'Motorcycle 125cc and under', 'Motorcycle over 500cc',\n",
       "       'Motorcycle over 125cc and up to 500cc', 'Taxi/Private hire car',\n",
       "       'Motorcycle 50cc and under', 'Van / Goods 3.5 tonnes mgw or under',\n",
       "       'Minibus (8 - 16 passenger seats)',\n",
       "       'Goods 7.5 tonnes mgw and over', 'Goods over 3.5t. and under 7.5t',\n",
       "       'Other vehicle', 'Bus or coach (17 or more pass seats)',\n",
       "       'Agricultural vehicle', 'Motorcycle - unknown cc',\n",
       "       'Goods vehicle - unknown weight', 'Electric motorcycle'],\n",
       "      dtype=object)"
      ]
     },
     "execution_count": 17,
     "metadata": {},
     "output_type": "execute_result"
    },
    {
     "data": {
      "text/plain": [
       "array(['No', 'Yes', 'Data missing or out of range'], dtype=object)"
      ]
     },
     "execution_count": 17,
     "metadata": {},
     "output_type": "execute_result"
    },
    {
     "data": {
      "text/plain": [
       "array(['Front', 'Did not impact', 'Back', 'Offside', 'Nearside',\n",
       "       'Data missing or out of range'], dtype=object)"
      ]
     },
     "execution_count": 17,
     "metadata": {},
     "output_type": "execute_result"
    }
   ],
   "source": [
    "dataset[\"1st_Road_Class\"].unique()  #unknowns: 'Unclassified'\n",
    "dataset[\"Accident_Severity\"].unique() #need to reclassify into binary variable for model simplification\n",
    "dataset[\"Day_of_Week\"].unique()\n",
    "dataset[\"Junction_Control\"].unique() #unknowns: 'Data missing or out of range'\n",
    "dataset[\"Junction_Detail\"].unique() #unknowns: 'Data missing or out of range'\n",
    "dataset[\"Light_Conditions\"].unique() #unknowns: 'Data missing or out of range'\n",
    "dataset[\"Local_Authority_(District)\"].unique() #too many categories! might be unnecessary\n",
    "dataset[\"Local_Authority_(Highway)\"].unique() #too many categories! might be unnecessary\n",
    "dataset[\"Police_Force\"].unique()\n",
    "dataset[\"Road_Surface_Conditions\"].unique() #unknowns: 'Data missing or out of range'\n",
    "dataset[\"Road_Type\"].unique() #unknowns: 'Unknown'\n",
    "dataset[\"Urban_or_Rural_Area\"].unique() #unknowns: 'Unallocated' ... is that really unknown?\n",
    "dataset[\"Weather_Conditions\"].unique() #unknowns: 'Other', 'Unknown','Data missing or out of range'\n",
    "dataset[\"InScotland\"].unique() #might be an unnecessary location column\n",
    "dataset[\"Age_Band_of_Driver\"].unique() #unknowns/non-sensical data: 'Data missing or out of range','11 - 15','6 - 10', '0 - 5'\n",
    "dataset[\"Driver_Home_Area_Type\"].unique() #unknowns: 'Data missing or out of range'\n",
    "dataset[\"Journey_Purpose_of_Driver\"].unique() #unknowns: 'Other/Not known (2005-10)','Data missing or out of range','Not known','Other'\n",
    "dataset[\"Junction_Location\"].unique() #unknowns: 'Data missing or out of range'\n",
    "dataset[\"make\"].unique() #too many categories!\n",
    "dataset[\"model\"].unique() #too many categories!\n",
    "dataset[\"Propulsion_Code\"].unique()\n",
    "dataset[\"Sex_of_Driver\"].unique() #unknowns: 'Not known', 'Data missing or out of range'\n",
    "dataset[\"Towing_and_Articulation\"].unique() #unknowns: 'Data missing or out of range'\n",
    "dataset[\"Vehicle_Leaving_Carriageway\"].unique() #unknowns: 'Data missing or out of range'\n",
    "dataset[\"Vehicle_Manoeuvre\"].unique() #unknowns: 'Data missing or out of range'\n",
    "dataset[\"Vehicle_Type\"].unique()\n",
    "dataset[\"Was_Vehicle_Left_Hand_Drive\"].unique() #unknowns: 'Data missing or out of range'\n",
    "dataset[\"X1st_Point_of_Impact\"].unique() #unknowns: 'Data missing or out of range'"
   ]
  },
  {
   "cell_type": "code",
   "execution_count": 18,
   "id": "fe8fc2f9",
   "metadata": {},
   "outputs": [
    {
     "name": "stdout",
     "output_type": "stream",
     "text": [
      "1st_Road_Class : 412850\n",
      "Junction_Control : 558205\n",
      "Junction_Detail : 30\n",
      "Light_Conditions : 9\n",
      "Road_Surface_Conditions : 2022\n",
      "Road_Type : 7320\n",
      "Urban_or_Rural_Area : 15\n",
      "Weather_Conditions : 58394\n",
      "Age_Band_of_Driver : 107721\n",
      "Driver_Home_Area_Type : 196154\n",
      "Journey_Purpose_of_Driver : 1157832\n",
      "Junction_Location : 1955\n",
      "Sex_of_Driver : 41936\n",
      "Towing_and_Articulation : 167\n",
      "Vehicle_Leaving_Carriageway : 66\n",
      "Vehicle_Manoeuvre : 234\n",
      "Was_Vehicle_Left_Hand_Drive : 5784\n",
      "X1st_Point_of_Impact : 279\n"
     ]
    }
   ],
   "source": [
    "print(\"1st_Road_Class\",\":\",(dataset[\"1st_Road_Class\"]=='Unclassified').sum())\n",
    "print(\"Junction_Control\",\":\",(dataset[\"Junction_Control\"]=='Data missing or out of range').sum())\n",
    "print(\"Junction_Detail\",\":\",(dataset[\"Junction_Detail\"]=='Data missing or out of range').sum())\n",
    "print(\"Light_Conditions\",\":\",(dataset[\"Light_Conditions\"]=='Data missing or out of range').sum())\n",
    "print(\"Road_Surface_Conditions\",\":\",(dataset[\"Road_Surface_Conditions\"]=='Data missing or out of range').sum())\n",
    "print(\"Road_Type\",\":\",(dataset[\"Road_Type\"]=='Unknown').sum()\n",
    "print(\"Urban_or_Rural_Area\",\":\",(dataset[\"Urban_or_Rural_Area\"]=='Unallocated').sum())\n",
    "print(\"Weather_Conditions\",\":\",(dataset[\"Weather_Conditions\"].isin(['Other','Unknown','Data missing or out of range'])).sum())\n",
    "print(\"Age_Band_of_Driver\",\":\",(dataset[\"Age_Band_of_Driver\"].isin(['Data missing or out of range','11 - 15','6 - 10','0 - 5'])).sum())\n",
    "print(\"Driver_Home_Area_Type\",\":\",(dataset[\"Driver_Home_Area_Type\"]=='Data missing or out of range').sum())\n",
    "print(\"Journey_Purpose_of_Driver\",\":\",(dataset[\"Journey_Purpose_of_Driver\"].isin(['Other/Not known (2005-10)','Data missing or out of range','Not known','Other'])).sum())\n",
    "print(\"Junction_Location\",\":\",(dataset[\"Junction_Location\"]=='Data missing or out of range').sum())\n",
    "print(\"Sex_of_Driver\",\":\",(dataset[\"Sex_of_Driver\"].isin(['Not known','Data missing or out of range'])).sum())\n",
    "print(\"Towing_and_Articulation\",\":\",(dataset[\"Towing_and_Articulation\"]=='Data missing or out of range').sum())\n",
    "print(\"Vehicle_Leaving_Carriageway\",\":\",(dataset[\"Vehicle_Leaving_Carriageway\"]=='Data missing or out of range').sum())\n",
    "print(\"Vehicle_Manoeuvre\",\":\",(dataset[\"Vehicle_Manoeuvre\"]=='Data missing or out of range').sum())\n",
    "print(\"Was_Vehicle_Left_Hand_Drive\",\":\",(dataset[\"Was_Vehicle_Left_Hand_Drive\"]=='Data missing or out of range').sum())\n",
    "print(\"X1st_Point_of_Impact\",\":\",(dataset[\"X1st_Point_of_Impact\"]=='Data missing or out of range').sum())"
   ]
  },
  {
   "cell_type": "markdown",
   "id": "1d02cdf2",
   "metadata": {},
   "source": [
    "As with nulls, we will delete columns that contain mostly meaningless data. Otherwise, we will remove records with remaining meaningless values."
   ]
  },
  {
   "cell_type": "code",
   "execution_count": 19,
   "id": "7d89c99b",
   "metadata": {},
   "outputs": [],
   "source": [
    "#drop variables that are unnecessary\n",
    "dataset.drop(\"1st_Road_Class\", axis=1, inplace=True)\n",
    "dataset.drop(\"Junction_Control\", axis=1, inplace=True)\n",
    "dataset.drop(\"Journey_Purpose_of_Driver\", axis=1, inplace=True)"
   ]
  },
  {
   "cell_type": "code",
   "execution_count": 23,
   "id": "0dca1f08",
   "metadata": {},
   "outputs": [
    {
     "data": {
      "text/plain": [
       "(1555129, 42)"
      ]
     },
     "execution_count": 23,
     "metadata": {},
     "output_type": "execute_result"
    }
   ],
   "source": [
    "dataset.shape"
   ]
  },
  {
   "cell_type": "code",
   "execution_count": 20,
   "id": "430e4aad",
   "metadata": {},
   "outputs": [],
   "source": [
    "#otherwise drop records with meaningless data\n",
    "#dataset=dataset[dataset[\"Carriageway_Hazards\"]!='Data missing or out of range']\n",
    "dataset=dataset[dataset[\"Junction_Detail\"]!='Data missing or out of range']\n",
    "dataset=dataset[dataset[\"Light_Conditions\"]!='Data missing or out of range']\n",
    "dataset=dataset[dataset[\"Road_Surface_Conditions\"]!='Data missing or out of range']\n",
    "dataset=dataset[dataset[\"Road_Type\"]!='Unknown']\n",
    "#dataset=dataset[dataset[\"Special_Conditions_at_Site\"]!='Data missing or out of range']\n",
    "dataset=dataset[dataset[\"Urban_or_Rural_Area\"]!='Unallocated']\n",
    "dataset=dataset[~dataset[\"Weather_Conditions\"].isin(['Other','Unknown','Data missing or out of range'])]\n",
    "dataset=dataset[~dataset[\"Age_Band_of_Driver\"].isin(['Data missing or out of range','11 - 15','6 - 10','0 - 5'])]\n",
    "dataset=dataset[dataset[\"Driver_Home_Area_Type\"]!='Data missing or out of range']\n",
    "#dataset=dataset[dataset[\"Hit_Object_in_Carriageway\"]!='Data missing or out of range']\n",
    "#dataset=dataset[dataset[\"Hit_Object_off_Carriageway\"]!='Data missing or out of range']\n",
    "dataset=dataset[dataset[\"Junction_Location\"]!='Data missing or out of range']\n",
    "dataset=dataset[~dataset[\"Sex_of_Driver\"].isin(['Not known','Data missing or out of range'])]\n",
    "#dataset=dataset[dataset[\"Skidding_and_Overturning\"]!='Data missing or out of range']\n",
    "dataset=dataset[dataset[\"Towing_and_Articulation\"]!='Data missing or out of range']\n",
    "dataset=dataset[dataset[\"Vehicle_Leaving_Carriageway\"]!='Data missing or out of range']\n",
    "dataset=dataset[dataset[\"Vehicle_Manoeuvre\"]!='Data missing or out of range']\n",
    "dataset=dataset[dataset[\"Was_Vehicle_Left_Hand_Drive\"]!='Data missing or out of range']\n",
    "dataset=dataset[dataset[\"X1st_Point_of_Impact\"]!='Data missing or out of range']"
   ]
  },
  {
   "cell_type": "code",
   "execution_count": 25,
   "id": "6b32ceec",
   "metadata": {},
   "outputs": [
    {
     "data": {
      "text/plain": [
       "(1263198, 42)"
      ]
     },
     "execution_count": 25,
     "metadata": {},
     "output_type": "execute_result"
    }
   ],
   "source": [
    "dataset.shape"
   ]
  },
  {
   "cell_type": "code",
   "execution_count": 26,
   "id": "7bf11044",
   "metadata": {},
   "outputs": [
    {
     "name": "stdout",
     "output_type": "stream",
     "text": [
      "<class 'pandas.core.frame.DataFrame'>\n",
      "Int64Index: 1263198 entries, 2 to 2058407\n",
      "Data columns (total 42 columns):\n",
      " #   Column                                       Non-Null Count    Dtype  \n",
      "---  ------                                       --------------    -----  \n",
      " 0   Accident_Severity                            1263198 non-null  object \n",
      " 1   Date                                         1263198 non-null  object \n",
      " 2   Day_of_Week                                  1263198 non-null  object \n",
      " 3   Did_Police_Officer_Attend_Scene_of_Accident  1263198 non-null  float64\n",
      " 4   Junction_Detail                              1263198 non-null  object \n",
      " 5   Latitude                                     1263198 non-null  float64\n",
      " 6   Light_Conditions                             1263198 non-null  object \n",
      " 7   Local_Authority_(District)                   1263198 non-null  object \n",
      " 8   Local_Authority_(Highway)                    1263198 non-null  object \n",
      " 9   Location_Northing_OSGR                       1263198 non-null  float64\n",
      " 10  Longitude                                    1263198 non-null  float64\n",
      " 11  Number_of_Casualties                         1263198 non-null  int64  \n",
      " 12  Number_of_Vehicles                           1263198 non-null  int64  \n",
      " 13  Pedestrian_Crossing-Human_Control            1263198 non-null  float64\n",
      " 14  Pedestrian_Crossing-Physical_Facilities      1263198 non-null  float64\n",
      " 15  Police_Force                                 1263198 non-null  object \n",
      " 16  Road_Surface_Conditions                      1263198 non-null  object \n",
      " 17  Road_Type                                    1263198 non-null  object \n",
      " 18  Speed_limit                                  1263198 non-null  float64\n",
      " 19  Time                                         1263198 non-null  object \n",
      " 20  Urban_or_Rural_Area                          1263198 non-null  object \n",
      " 21  Weather_Conditions                           1263198 non-null  object \n",
      " 22  Year_x                                       1263198 non-null  int64  \n",
      " 23  InScotland                                   1263198 non-null  object \n",
      " 24  Age_Band_of_Driver                           1263198 non-null  object \n",
      " 25  Age_of_Vehicle                               1263198 non-null  float64\n",
      " 26  Driver_Home_Area_Type                        1263198 non-null  object \n",
      " 27  Engine_Capacity_.CC.                         1263198 non-null  float64\n",
      " 28  Junction_Location                            1263198 non-null  object \n",
      " 29  make                                         1263198 non-null  object \n",
      " 30  model                                        1263198 non-null  object \n",
      " 31  Propulsion_Code                              1263198 non-null  object \n",
      " 32  Sex_of_Driver                                1263198 non-null  object \n",
      " 33  Towing_and_Articulation                      1263198 non-null  object \n",
      " 34  Vehicle_Leaving_Carriageway                  1263198 non-null  object \n",
      " 35  Vehicle_Location.Restricted_Lane             1263198 non-null  float64\n",
      " 36  Vehicle_Manoeuvre                            1263198 non-null  object \n",
      " 37  Vehicle_Reference                            1263198 non-null  int64  \n",
      " 38  Vehicle_Type                                 1263198 non-null  object \n",
      " 39  Was_Vehicle_Left_Hand_Drive                  1263198 non-null  object \n",
      " 40  X1st_Point_of_Impact                         1263198 non-null  object \n",
      " 41  Year_y                                       1263198 non-null  int64  \n",
      "dtypes: float64(10), int64(5), object(27)\n",
      "memory usage: 414.4+ MB\n"
     ]
    }
   ],
   "source": [
    "dataset.info()"
   ]
  },
  {
   "cell_type": "code",
   "execution_count": 21,
   "id": "d8dece2e",
   "metadata": {},
   "outputs": [],
   "source": [
    "  #create a new target variable - Reduced target class from a multi-class classification to a binary classification \n",
    "# problem to handle the imbalanced dataset and simplify analysis\n",
    " \n",
    "\n",
    "dataset.loc[dataset.Accident_Severity !='Slight', 'Target_Severe_Indicator'] = 1\n",
    "dataset.loc[dataset.Accident_Severity =='Slight', 'Target_Severe_Indicator'] = 0"
   ]
  },
  {
   "cell_type": "code",
   "execution_count": 22,
   "id": "3153802b",
   "metadata": {},
   "outputs": [
    {
     "data": {
      "text/plain": [
       "0.0    1084718\n",
       "1.0     178480\n",
       "Name: Target_Severe_Indicator, dtype: int64"
      ]
     },
     "execution_count": 22,
     "metadata": {},
     "output_type": "execute_result"
    },
    {
     "data": {
      "text/plain": [
       "Slight     1084718\n",
       "Serious     162452\n",
       "Fatal        16028\n",
       "Name: Accident_Severity, dtype: int64"
      ]
     },
     "execution_count": 22,
     "metadata": {},
     "output_type": "execute_result"
    }
   ],
   "source": [
    "dataset[\"Target_Severe_Indicator\"].value_counts()\n",
    "dataset[\"Accident_Severity\"].value_counts()\n"
   ]
  },
  {
   "cell_type": "markdown",
   "id": "eddf4deb",
   "metadata": {},
   "source": [
    "We see a slight improvement in the unique class counts"
   ]
  },
  {
   "cell_type": "code",
   "execution_count": 23,
   "id": "543c497d",
   "metadata": {},
   "outputs": [
    {
     "data": {
      "text/html": [
       "<div>\n",
       "<style scoped>\n",
       "    .dataframe tbody tr th:only-of-type {\n",
       "        vertical-align: middle;\n",
       "    }\n",
       "\n",
       "    .dataframe tbody tr th {\n",
       "        vertical-align: top;\n",
       "    }\n",
       "\n",
       "    .dataframe thead th {\n",
       "        text-align: right;\n",
       "    }\n",
       "</style>\n",
       "<table border=\"1\" class=\"dataframe\">\n",
       "  <thead>\n",
       "    <tr style=\"text-align: right;\">\n",
       "      <th></th>\n",
       "      <th>Time</th>\n",
       "      <th>Hour</th>\n",
       "      <th>Daytime</th>\n",
       "    </tr>\n",
       "  </thead>\n",
       "  <tbody>\n",
       "    <tr>\n",
       "      <th>2</th>\n",
       "      <td>10:35</td>\n",
       "      <td>10</td>\n",
       "      <td>office hours (10-15)</td>\n",
       "    </tr>\n",
       "    <tr>\n",
       "      <th>4</th>\n",
       "      <td>12:40</td>\n",
       "      <td>12</td>\n",
       "      <td>office hours (10-15)</td>\n",
       "    </tr>\n",
       "    <tr>\n",
       "      <th>5</th>\n",
       "      <td>12:40</td>\n",
       "      <td>12</td>\n",
       "      <td>office hours (10-15)</td>\n",
       "    </tr>\n",
       "    <tr>\n",
       "      <th>7</th>\n",
       "      <td>20:40</td>\n",
       "      <td>20</td>\n",
       "      <td>evening (19-23)</td>\n",
       "    </tr>\n",
       "    <tr>\n",
       "      <th>8</th>\n",
       "      <td>17:35</td>\n",
       "      <td>17</td>\n",
       "      <td>afternoon rush (15-19)</td>\n",
       "    </tr>\n",
       "    <tr>\n",
       "      <th>9</th>\n",
       "      <td>00:42</td>\n",
       "      <td>0</td>\n",
       "      <td>night (23-5)</td>\n",
       "    </tr>\n",
       "    <tr>\n",
       "      <th>11</th>\n",
       "      <td>05:01</td>\n",
       "      <td>5</td>\n",
       "      <td>morning rush (5-10)</td>\n",
       "    </tr>\n",
       "    <tr>\n",
       "      <th>12</th>\n",
       "      <td>05:01</td>\n",
       "      <td>5</td>\n",
       "      <td>morning rush (5-10)</td>\n",
       "    </tr>\n",
       "  </tbody>\n",
       "</table>\n",
       "</div>"
      ],
      "text/plain": [
       "     Time  Hour                 Daytime\n",
       "2   10:35    10    office hours (10-15)\n",
       "4   12:40    12    office hours (10-15)\n",
       "5   12:40    12    office hours (10-15)\n",
       "7   20:40    20         evening (19-23)\n",
       "8   17:35    17  afternoon rush (15-19)\n",
       "9   00:42     0            night (23-5)\n",
       "11  05:01     5     morning rush (5-10)\n",
       "12  05:01     5     morning rush (5-10)"
      ]
     },
     "execution_count": 23,
     "metadata": {},
     "output_type": "execute_result"
    }
   ],
   "source": [
    "# Create new column for time of day category\n",
    "\n",
    "# Define a function that turns the hours into daytime groups\n",
    "\n",
    "def when_was_it(hour):\n",
    "    if hour >= 5 and hour < 10:\n",
    "        return \"morning rush (5-10)\"\n",
    "    elif hour >= 10 and hour < 15:\n",
    "        return \"office hours (10-15)\"\n",
    "    elif hour >= 15 and hour < 19:\n",
    "        return \"afternoon rush (15-19)\"\n",
    "    elif hour >= 19 and hour < 23:\n",
    "        return \"evening (19-23)\"\n",
    "    else:\n",
    "        return \"night (23-5)\"\n",
    "    \n",
    "# slice first and second string from time column\n",
    "dataset['Hour'] = dataset['Time'].str[0:2]\n",
    "\n",
    "# convert new column to numeric datetype\n",
    "dataset['Hour'] = pd.to_numeric(dataset['Hour'])\n",
    "\n",
    "# drop null values in our new column\n",
    "dataset = dataset.dropna(subset=['Hour'])\n",
    "\n",
    "# cast to integer values\n",
    "dataset['Hour'] = dataset['Hour'].astype('int')\n",
    "\n",
    "# apply thus function to our temporary hour column\n",
    "dataset['Daytime'] = dataset['Hour'].apply(when_was_it)\n",
    "dataset[['Time', 'Hour', 'Daytime']].head(8)"
   ]
  },
  {
   "cell_type": "code",
   "execution_count": 24,
   "id": "5b64b24a",
   "metadata": {},
   "outputs": [],
   "source": [
    "#drop Did_Police_Officer_Attend_Scene_of_Accident and Police_Force, as they are irrelevant. The dataset to begin\n",
    "# with represents only those accidents reported by the police\n",
    "dataset.drop(\"Did_Police_Officer_Attend_Scene_of_Accident\", axis=1, inplace=True)\n",
    "dataset.drop(\"Police_Force\", axis=1, inplace=True)\n",
    "\n",
    "#drop Time as Daytime is sufficient \n",
    "dataset.drop(\"Time\", axis=1, inplace=True)\n",
    "\n",
    "\n",
    "#drop Year_y as there is already a column called year_x containing the same info\n",
    "dataset.drop(\"Year_y\", axis=1, inplace=True)"
   ]
  },
  {
   "cell_type": "code",
   "execution_count": 25,
   "id": "9b90375d",
   "metadata": {},
   "outputs": [],
   "source": [
    "#since 'model' is a more detailed version of 'make', drop 'model' and keep 'make'\n",
    "dataset.drop(\"model\", axis=1, inplace=True)\n",
    "\n",
    "#we can drop inscotland, as the data contained in this column is higly skewed and will not proivde much info\n",
    "dataset.drop(\"InScotland\", axis=1, inplace=True)\n",
    "\n",
    "#we can drop 'Vehicle_reference', due to high correlation with 'Number_of_Vehicles'\n",
    "dataset.drop(\"Vehicle_Reference\", axis=1, inplace=True)\n",
    "\n",
    "#we can drop 'Local_Authority_(District)' since it is a more detailed version of 'Local_Authority_(Highway)'\n",
    "dataset.drop(\"Local_Authority_(District)\", axis=1, inplace=True)"
   ]
  },
  {
   "cell_type": "code",
   "execution_count": 26,
   "id": "4dc2430c",
   "metadata": {},
   "outputs": [
    {
     "data": {
      "text/plain": [
       "(1263198, 37)"
      ]
     },
     "execution_count": 26,
     "metadata": {},
     "output_type": "execute_result"
    }
   ],
   "source": [
    "dataset.shape"
   ]
  },
  {
   "cell_type": "code",
   "execution_count": 27,
   "id": "b65d8e70",
   "metadata": {},
   "outputs": [
    {
     "data": {
      "text/plain": [
       "array([[ 1.        , -0.00107397],\n",
       "       [-0.00107397,  1.        ]])"
      ]
     },
     "execution_count": 27,
     "metadata": {},
     "output_type": "execute_result"
    }
   ],
   "source": [
    "#check correlation between 'Was_Vehicle_Left_Hand_Drive' and  'Target_Severe_Indicator'\n",
    "\n",
    "dataset.loc[dataset['Was_Vehicle_Left_Hand_Drive'] == 'Yes', 'Was_Vehicle_Left_Hand_Drive_test'] = 1\n",
    "dataset.loc[dataset['Was_Vehicle_Left_Hand_Drive'] == 'No', 'Was_Vehicle_Left_Hand_Drive_test'] = 0\n",
    "\n",
    "x=dataset['Target_Severe_Indicator'].values\n",
    "y=dataset['Was_Vehicle_Left_Hand_Drive_test'].values\n",
    "\n",
    "np.corrcoef(x,y)\n"
   ]
  },
  {
   "cell_type": "code",
   "execution_count": 28,
   "id": "cba9b351",
   "metadata": {},
   "outputs": [],
   "source": [
    "# Due to the low correlation with the target variable and high imbalance in values, we drop 'Was_Vehicle_Left_Hand_Drive'\n",
    "dataset.drop(\"Was_Vehicle_Left_Hand_Drive\", axis=1, inplace=True)"
   ]
  },
  {
   "cell_type": "code",
   "execution_count": 34,
   "id": "6ecd3f26",
   "metadata": {},
   "outputs": [
    {
     "data": {
      "text/plain": [
       "(1263198, 41)"
      ]
     },
     "execution_count": 34,
     "metadata": {},
     "output_type": "execute_result"
    }
   ],
   "source": [
    "dataset.shape"
   ]
  },
  {
   "cell_type": "code",
   "execution_count": 35,
   "id": "8dcfd361",
   "metadata": {},
   "outputs": [
    {
     "name": "stdout",
     "output_type": "stream",
     "text": [
      "<class 'pandas.core.frame.DataFrame'>\n",
      "Int64Index: 1263198 entries, 2 to 2058407\n",
      "Data columns (total 41 columns):\n",
      " #   Column                                   Non-Null Count    Dtype  \n",
      "---  ------                                   --------------    -----  \n",
      " 0   Accident_Severity                        1263198 non-null  object \n",
      " 1   Date                                     1263198 non-null  object \n",
      " 2   Day_of_Week                              1263198 non-null  object \n",
      " 3   Junction_Detail                          1263198 non-null  object \n",
      " 4   Latitude                                 1263198 non-null  float64\n",
      " 5   Light_Conditions                         1263198 non-null  object \n",
      " 6   Local_Authority_(District)               1263198 non-null  object \n",
      " 7   Local_Authority_(Highway)                1263198 non-null  object \n",
      " 8   Location_Northing_OSGR                   1263198 non-null  float64\n",
      " 9   Longitude                                1263198 non-null  float64\n",
      " 10  Number_of_Casualties                     1263198 non-null  int64  \n",
      " 11  Number_of_Vehicles                       1263198 non-null  int64  \n",
      " 12  Pedestrian_Crossing-Human_Control        1263198 non-null  float64\n",
      " 13  Pedestrian_Crossing-Physical_Facilities  1263198 non-null  float64\n",
      " 14  Road_Surface_Conditions                  1263198 non-null  object \n",
      " 15  Road_Type                                1263198 non-null  object \n",
      " 16  Speed_limit                              1263198 non-null  float64\n",
      " 17  Urban_or_Rural_Area                      1263198 non-null  object \n",
      " 18  Weather_Conditions                       1263198 non-null  object \n",
      " 19  Year_x                                   1263198 non-null  int64  \n",
      " 20  InScotland                               1263198 non-null  object \n",
      " 21  Age_Band_of_Driver                       1263198 non-null  object \n",
      " 22  Age_of_Vehicle                           1263198 non-null  float64\n",
      " 23  Driver_Home_Area_Type                    1263198 non-null  object \n",
      " 24  Engine_Capacity_.CC.                     1263198 non-null  float64\n",
      " 25  Junction_Location                        1263198 non-null  object \n",
      " 26  make                                     1263198 non-null  object \n",
      " 27  model                                    1263198 non-null  object \n",
      " 28  Propulsion_Code                          1263198 non-null  object \n",
      " 29  Sex_of_Driver                            1263198 non-null  object \n",
      " 30  Towing_and_Articulation                  1263198 non-null  object \n",
      " 31  Vehicle_Leaving_Carriageway              1263198 non-null  object \n",
      " 32  Vehicle_Location.Restricted_Lane         1263198 non-null  float64\n",
      " 33  Vehicle_Manoeuvre                        1263198 non-null  object \n",
      " 34  Vehicle_Reference                        1263198 non-null  int64  \n",
      " 35  Vehicle_Type                             1263198 non-null  object \n",
      " 36  X1st_Point_of_Impact                     1263198 non-null  object \n",
      " 37  Target_Severe_Indicator                  1263198 non-null  float64\n",
      " 38  Hour                                     1263198 non-null  int32  \n",
      " 39  Daytime                                  1263198 non-null  object \n",
      " 40  Was_Vehicle_Left_Hand_Drive_test         1263198 non-null  float64\n",
      "dtypes: float64(11), int32(1), int64(4), object(25)\n",
      "memory usage: 400.0+ MB\n"
     ]
    }
   ],
   "source": [
    "dataset.info()"
   ]
  },
  {
   "cell_type": "code",
   "execution_count": 29,
   "id": "4302eb54",
   "metadata": {},
   "outputs": [],
   "source": [
    "# change numeric values in pedestrian crossing variables to categoric\n",
    "# Converting numerical values present in these columns to a more meaninful form using data obtained from the data_dictionary\n",
    "\n",
    "dataset.loc[dataset['Pedestrian_Crossing-Human_Control'] ==0, 'Ped_Cross_Human'] = 'None within 50 metres'\n",
    "dataset.loc[dataset['Pedestrian_Crossing-Human_Control'] ==1, 'Ped_Cross_Human'] = 'Control by school crossing patrol'\n",
    "dataset.loc[dataset['Pedestrian_Crossing-Human_Control'] ==2, 'Ped_Cross_Human'] = 'Control by other authorised person'\n",
    "\n",
    "\n",
    "dataset.loc[dataset['Pedestrian_Crossing-Physical_Facilities'] ==0, 'Ped_Cross_Physical'] = 'No physical crossing facilities within 50 metres'\n",
    "dataset.loc[dataset['Pedestrian_Crossing-Physical_Facilities'] ==1, 'Ped_Cross_Physical'] = 'Zebra'\n",
    "dataset.loc[dataset['Pedestrian_Crossing-Physical_Facilities'] ==4, 'Ped_Cross_Physical'] = 'Pelican, puffin, toucan or similar non-junction pedestrian light crossing'\n",
    "dataset.loc[dataset['Pedestrian_Crossing-Physical_Facilities'] ==5, 'Ped_Cross_Physical'] = 'Pedestrian phase at traffic signal junction'\n",
    "dataset.loc[dataset['Pedestrian_Crossing-Physical_Facilities'] ==7, 'Ped_Cross_Physical'] = 'Footbridge or subway'\n",
    "dataset.loc[dataset['Pedestrian_Crossing-Physical_Facilities'] ==8, 'Ped_Cross_Physical'] = 'Central refuge'\n",
    "\n"
   ]
  },
  {
   "cell_type": "code",
   "execution_count": 30,
   "id": "9b501ae8",
   "metadata": {},
   "outputs": [],
   "source": [
    "#and then we can drop the original pedestrian crossing variables\n",
    "dataset.drop(\"Pedestrian_Crossing-Human_Control\", axis=1, inplace=True)\n",
    "dataset.drop(\"Pedestrian_Crossing-Physical_Facilities\", axis=1, inplace=True)"
   ]
  },
  {
   "cell_type": "code",
   "execution_count": 31,
   "id": "e3968a58",
   "metadata": {},
   "outputs": [
    {
     "name": "stdout",
     "output_type": "stream",
     "text": [
      "<class 'pandas.core.frame.DataFrame'>\n",
      "Int64Index: 1263198 entries, 2 to 2058407\n",
      "Data columns (total 37 columns):\n",
      " #   Column                            Non-Null Count    Dtype  \n",
      "---  ------                            --------------    -----  \n",
      " 0   Accident_Severity                 1263198 non-null  object \n",
      " 1   Date                              1263198 non-null  object \n",
      " 2   Day_of_Week                       1263198 non-null  object \n",
      " 3   Junction_Detail                   1263198 non-null  object \n",
      " 4   Latitude                          1263198 non-null  float64\n",
      " 5   Light_Conditions                  1263198 non-null  object \n",
      " 6   Local_Authority_(Highway)         1263198 non-null  object \n",
      " 7   Location_Northing_OSGR            1263198 non-null  float64\n",
      " 8   Longitude                         1263198 non-null  float64\n",
      " 9   Number_of_Casualties              1263198 non-null  int64  \n",
      " 10  Number_of_Vehicles                1263198 non-null  int64  \n",
      " 11  Road_Surface_Conditions           1263198 non-null  object \n",
      " 12  Road_Type                         1263198 non-null  object \n",
      " 13  Speed_limit                       1263198 non-null  float64\n",
      " 14  Urban_or_Rural_Area               1263198 non-null  object \n",
      " 15  Weather_Conditions                1263198 non-null  object \n",
      " 16  Year_x                            1263198 non-null  int64  \n",
      " 17  Age_Band_of_Driver                1263198 non-null  object \n",
      " 18  Age_of_Vehicle                    1263198 non-null  float64\n",
      " 19  Driver_Home_Area_Type             1263198 non-null  object \n",
      " 20  Engine_Capacity_.CC.              1263198 non-null  float64\n",
      " 21  Junction_Location                 1263198 non-null  object \n",
      " 22  make                              1263198 non-null  object \n",
      " 23  Propulsion_Code                   1263198 non-null  object \n",
      " 24  Sex_of_Driver                     1263198 non-null  object \n",
      " 25  Towing_and_Articulation           1263198 non-null  object \n",
      " 26  Vehicle_Leaving_Carriageway       1263198 non-null  object \n",
      " 27  Vehicle_Location.Restricted_Lane  1263198 non-null  float64\n",
      " 28  Vehicle_Manoeuvre                 1263198 non-null  object \n",
      " 29  Vehicle_Type                      1263198 non-null  object \n",
      " 30  X1st_Point_of_Impact              1263198 non-null  object \n",
      " 31  Target_Severe_Indicator           1263198 non-null  float64\n",
      " 32  Hour                              1263198 non-null  int32  \n",
      " 33  Daytime                           1263198 non-null  object \n",
      " 34  Was_Vehicle_Left_Hand_Drive_test  1263198 non-null  float64\n",
      " 35  Ped_Cross_Human                   1263198 non-null  object \n",
      " 36  Ped_Cross_Physical                1263198 non-null  object \n",
      "dtypes: float64(9), int32(1), int64(3), object(24)\n",
      "memory usage: 361.4+ MB\n"
     ]
    }
   ],
   "source": [
    "dataset.info()"
   ]
  },
  {
   "cell_type": "code",
   "execution_count": 32,
   "id": "e8e48f05",
   "metadata": {},
   "outputs": [
    {
     "data": {
      "text/plain": [
       "array(['46 - 55', '26 - 35', '36 - 45', '66 - 75', '56 - 65', '21 - 25',\n",
       "       '16 - 20', 'Over 75'], dtype=object)"
      ]
     },
     "execution_count": 32,
     "metadata": {},
     "output_type": "execute_result"
    }
   ],
   "source": [
    "#Change categorical variables with order to numeric\n",
    "dataset['Age_Band_of_Driver'].unique()\n"
   ]
  },
  {
   "cell_type": "code",
   "execution_count": 33,
   "id": "c2698d1c",
   "metadata": {},
   "outputs": [],
   "source": [
    "dataset.loc[dataset['Age_Band_of_Driver'] =='16 - 20', 'Age_Band_of_Driver_order'] = 1\n",
    "dataset.loc[dataset['Age_Band_of_Driver'] =='21 - 25', 'Age_Band_of_Driver_order'] = 2\n",
    "dataset.loc[dataset['Age_Band_of_Driver'] =='26 - 35', 'Age_Band_of_Driver_order'] = 3\n",
    "dataset.loc[dataset['Age_Band_of_Driver'] =='36 - 45', 'Age_Band_of_Driver_order'] = 4\n",
    "dataset.loc[dataset['Age_Band_of_Driver'] =='46 - 55', 'Age_Band_of_Driver_order'] = 5\n",
    "dataset.loc[dataset['Age_Band_of_Driver'] =='56 - 65', 'Age_Band_of_Driver_order'] = 6\n",
    "dataset.loc[dataset['Age_Band_of_Driver'] =='66 - 75', 'Age_Band_of_Driver_order'] = 7\n",
    "dataset.loc[dataset['Age_Band_of_Driver'] =='Over 75', 'Age_Band_of_Driver_order'] = 8"
   ]
  },
  {
   "cell_type": "code",
   "execution_count": 34,
   "id": "763f06dd",
   "metadata": {},
   "outputs": [],
   "source": [
    "dataset.drop(\"Age_Band_of_Driver\", axis=1, inplace=True)"
   ]
  },
  {
   "cell_type": "code",
   "execution_count": 41,
   "id": "b4232ff2",
   "metadata": {},
   "outputs": [
    {
     "data": {
      "text/plain": [
       "(1263198, 41)"
      ]
     },
     "execution_count": 41,
     "metadata": {},
     "output_type": "execute_result"
    }
   ],
   "source": [
    "dataset.shape"
   ]
  },
  {
   "cell_type": "code",
   "execution_count": 35,
   "id": "e015bea3",
   "metadata": {},
   "outputs": [],
   "source": [
    "eda_data_1=dataset.copy()"
   ]
  },
  {
   "cell_type": "markdown",
   "id": "5dfdab34",
   "metadata": {},
   "source": [
    "Next we carry out some descriptive analysis, to gain insights about our data"
   ]
  },
  {
   "cell_type": "markdown",
   "id": "66354463",
   "metadata": {},
   "source": [
    "# EDA"
   ]
  },
  {
   "cell_type": "markdown",
   "id": "52590096",
   "metadata": {},
   "source": [
    "## Time Series Analysis"
   ]
  },
  {
   "cell_type": "markdown",
   "id": "9fa21670",
   "metadata": {},
   "source": [
    "###Total Number of Accidents per Year"
   ]
  },
  {
   "cell_type": "code",
   "execution_count": 36,
   "id": "9db47678",
   "metadata": {},
   "outputs": [],
   "source": [
    "# Covert 'Date' to proper datetime format\n",
    "eda_data_1['Date']= pd.to_datetime(eda_data_1['Date'], format=\"%Y-%m-%d\")"
   ]
  },
  {
   "cell_type": "code",
   "execution_count": 37,
   "id": "b99ad023",
   "metadata": {},
   "outputs": [
    {
     "name": "stdout",
     "output_type": "stream",
     "text": [
      "<class 'pandas.core.frame.DataFrame'>\n",
      "Int64Index: 1263198 entries, 2 to 2058407\n",
      "Data columns (total 37 columns):\n",
      " #   Column                            Non-Null Count    Dtype         \n",
      "---  ------                            --------------    -----         \n",
      " 0   Accident_Severity                 1263198 non-null  object        \n",
      " 1   Date                              1263198 non-null  datetime64[ns]\n",
      " 2   Day_of_Week                       1263198 non-null  object        \n",
      " 3   Junction_Detail                   1263198 non-null  object        \n",
      " 4   Latitude                          1263198 non-null  float64       \n",
      " 5   Light_Conditions                  1263198 non-null  object        \n",
      " 6   Local_Authority_(Highway)         1263198 non-null  object        \n",
      " 7   Location_Northing_OSGR            1263198 non-null  float64       \n",
      " 8   Longitude                         1263198 non-null  float64       \n",
      " 9   Number_of_Casualties              1263198 non-null  int64         \n",
      " 10  Number_of_Vehicles                1263198 non-null  int64         \n",
      " 11  Road_Surface_Conditions           1263198 non-null  object        \n",
      " 12  Road_Type                         1263198 non-null  object        \n",
      " 13  Speed_limit                       1263198 non-null  float64       \n",
      " 14  Urban_or_Rural_Area               1263198 non-null  object        \n",
      " 15  Weather_Conditions                1263198 non-null  object        \n",
      " 16  Year_x                            1263198 non-null  int64         \n",
      " 17  Age_of_Vehicle                    1263198 non-null  float64       \n",
      " 18  Driver_Home_Area_Type             1263198 non-null  object        \n",
      " 19  Engine_Capacity_.CC.              1263198 non-null  float64       \n",
      " 20  Junction_Location                 1263198 non-null  object        \n",
      " 21  make                              1263198 non-null  object        \n",
      " 22  Propulsion_Code                   1263198 non-null  object        \n",
      " 23  Sex_of_Driver                     1263198 non-null  object        \n",
      " 24  Towing_and_Articulation           1263198 non-null  object        \n",
      " 25  Vehicle_Leaving_Carriageway       1263198 non-null  object        \n",
      " 26  Vehicle_Location.Restricted_Lane  1263198 non-null  float64       \n",
      " 27  Vehicle_Manoeuvre                 1263198 non-null  object        \n",
      " 28  Vehicle_Type                      1263198 non-null  object        \n",
      " 29  X1st_Point_of_Impact              1263198 non-null  object        \n",
      " 30  Target_Severe_Indicator           1263198 non-null  float64       \n",
      " 31  Hour                              1263198 non-null  int32         \n",
      " 32  Daytime                           1263198 non-null  object        \n",
      " 33  Was_Vehicle_Left_Hand_Drive_test  1263198 non-null  float64       \n",
      " 34  Ped_Cross_Human                   1263198 non-null  object        \n",
      " 35  Ped_Cross_Physical                1263198 non-null  object        \n",
      " 36  Age_Band_of_Driver_order          1263198 non-null  float64       \n",
      "dtypes: datetime64[ns](1), float64(10), int32(1), int64(3), object(22)\n",
      "memory usage: 361.4+ MB\n"
     ]
    }
   ],
   "source": [
    "eda_data_1.info()"
   ]
  },
  {
   "cell_type": "code",
   "execution_count": 38,
   "id": "ce17d228",
   "metadata": {},
   "outputs": [
    {
     "name": "stdout",
     "output_type": "stream",
     "text": [
      "<class 'pandas.core.frame.DataFrame'>\n",
      "Int64Index: 1263198 entries, 2 to 2058407\n",
      "Data columns (total 4 columns):\n",
      " #   Column           Non-Null Count    Dtype         \n",
      "---  ------           --------------    -----         \n",
      " 0   Date             1263198 non-null  datetime64[ns]\n",
      " 1   Day_of_Week      1263198 non-null  object        \n",
      " 2   Junction_Detail  1263198 non-null  object        \n",
      " 3   Latitude         1263198 non-null  float64       \n",
      "dtypes: datetime64[ns](1), float64(1), object(2)\n",
      "memory usage: 48.2+ MB\n"
     ]
    }
   ],
   "source": [
    "eda_data_1.iloc[:, 1:5].info()"
   ]
  },
  {
   "cell_type": "code",
   "execution_count": 39,
   "id": "8e9c1f1b",
   "metadata": {},
   "outputs": [
    {
     "data": {
      "text/plain": [
       "2005     55744\n",
       "2006     59637\n",
       "2007     71157\n",
       "2008     68522\n",
       "2009    118303\n",
       "2010    119198\n",
       "2011    121976\n",
       "2012    118719\n",
       "2013    118229\n",
       "2014    126653\n",
       "2015    135868\n",
       "2016    149192\n",
       "Name: Year_x, dtype: int64"
      ]
     },
     "execution_count": 39,
     "metadata": {},
     "output_type": "execute_result"
    }
   ],
   "source": [
    "# In general terms, the number of accidents have gone up over the years\n",
    "eda_data_1[\"Year_x\"].value_counts().sort_index()"
   ]
  },
  {
   "cell_type": "code",
   "execution_count": 40,
   "id": "2302d872",
   "metadata": {},
   "outputs": [
    {
     "data": {
      "image/png": "[encoded data removed]",
      "text/plain": [
       "<Figure size 1200x500 with 1 Axes>"
      ]
     },
     "metadata": {},
     "output_type": "display_data"
    }
   ],
   "source": [
    "# Plotting Number of Accidents over the years\n",
    "\n",
    "# Getting yearly count\n",
    "yearly_count = eda_data_1['Date'].dt.year.value_counts().sort_index(ascending=False)\n",
    "\n",
    "# prepare plot\n",
    "sns.set_style('white')\n",
    "fig, ax = plt.subplots(figsize=(12,5))\n",
    "\n",
    "# plot\n",
    "ax.bar(yearly_count.index, yearly_count.values, color='skyblue')\n",
    "ax.plot(yearly_count, linestyle=':', color='black')\n",
    "ax.set_title('\\nTotal Number of Accidents per Year\\n', fontsize=14, fontweight='bold')\n",
    "ax.set(ylabel='\\nNumber of Accidents')\n",
    "ax.set(xlabel='\\nYears')\n",
    "# remove all spines\n",
    "sns.despine(ax=ax, top=True, right=True, left=True, bottom=True);"
   ]
  },
  {
   "cell_type": "markdown",
   "id": "00c73807",
   "metadata": {},
   "source": [
    "## Average Number of Accidents by Weekday"
   ]
  },
  {
   "cell_type": "code",
   "execution_count": 41,
   "id": "ae25cbce",
   "metadata": {},
   "outputs": [
    {
     "data": {
      "text/plain": [
       "Friday       209748\n",
       "Thursday     190949\n",
       "Wednesday    190026\n",
       "Tuesday      188091\n",
       "Monday       178259\n",
       "Saturday     167453\n",
       "Sunday       138672\n",
       "Name: Day_of_Week, dtype: int64"
      ]
     },
     "execution_count": 41,
     "metadata": {},
     "output_type": "execute_result"
    }
   ],
   "source": [
    "# Total number of accidents by day of the week\n",
    "eda_data_1[\"Day_of_Week\"].value_counts()"
   ]
  },
  {
   "cell_type": "code",
   "execution_count": 42,
   "id": "fc78a3a2",
   "metadata": {},
   "outputs": [
    {
     "name": "stdout",
     "output_type": "stream",
     "text": [
      "<class 'pandas.core.frame.DataFrame'>\n",
      "Int64Index: 1263198 entries, 2 to 2058407\n",
      "Data columns (total 37 columns):\n",
      " #   Column                            Non-Null Count    Dtype         \n",
      "---  ------                            --------------    -----         \n",
      " 0   Accident_Severity                 1263198 non-null  object        \n",
      " 1   Date                              1263198 non-null  datetime64[ns]\n",
      " 2   Day_of_Week                       1263198 non-null  object        \n",
      " 3   Junction_Detail                   1263198 non-null  object        \n",
      " 4   Latitude                          1263198 non-null  float64       \n",
      " 5   Light_Conditions                  1263198 non-null  object        \n",
      " 6   Local_Authority_(Highway)         1263198 non-null  object        \n",
      " 7   Location_Northing_OSGR            1263198 non-null  float64       \n",
      " 8   Longitude                         1263198 non-null  float64       \n",
      " 9   Number_of_Casualties              1263198 non-null  int64         \n",
      " 10  Number_of_Vehicles                1263198 non-null  int64         \n",
      " 11  Road_Surface_Conditions           1263198 non-null  object        \n",
      " 12  Road_Type                         1263198 non-null  object        \n",
      " 13  Speed_limit                       1263198 non-null  float64       \n",
      " 14  Urban_or_Rural_Area               1263198 non-null  object        \n",
      " 15  Weather_Conditions                1263198 non-null  object        \n",
      " 16  Year_x                            1263198 non-null  int64         \n",
      " 17  Age_of_Vehicle                    1263198 non-null  float64       \n",
      " 18  Driver_Home_Area_Type             1263198 non-null  object        \n",
      " 19  Engine_Capacity_.CC.              1263198 non-null  float64       \n",
      " 20  Junction_Location                 1263198 non-null  object        \n",
      " 21  make                              1263198 non-null  object        \n",
      " 22  Propulsion_Code                   1263198 non-null  object        \n",
      " 23  Sex_of_Driver                     1263198 non-null  object        \n",
      " 24  Towing_and_Articulation           1263198 non-null  object        \n",
      " 25  Vehicle_Leaving_Carriageway       1263198 non-null  object        \n",
      " 26  Vehicle_Location.Restricted_Lane  1263198 non-null  float64       \n",
      " 27  Vehicle_Manoeuvre                 1263198 non-null  object        \n",
      " 28  Vehicle_Type                      1263198 non-null  object        \n",
      " 29  X1st_Point_of_Impact              1263198 non-null  object        \n",
      " 30  Target_Severe_Indicator           1263198 non-null  float64       \n",
      " 31  Hour                              1263198 non-null  int32         \n",
      " 32  Daytime                           1263198 non-null  object        \n",
      " 33  Was_Vehicle_Left_Hand_Drive_test  1263198 non-null  float64       \n",
      " 34  Ped_Cross_Human                   1263198 non-null  object        \n",
      " 35  Ped_Cross_Physical                1263198 non-null  object        \n",
      " 36  Age_Band_of_Driver_order          1263198 non-null  float64       \n",
      "dtypes: datetime64[ns](1), float64(10), int32(1), int64(3), object(22)\n",
      "memory usage: 361.4+ MB\n"
     ]
    }
   ],
   "source": [
    "eda_data_1.info()"
   ]
  },
  {
   "cell_type": "code",
   "execution_count": 43,
   "id": "bbd6ad02",
   "metadata": {},
   "outputs": [],
   "source": [
    "import pandas as pd"
   ]
  },
  {
   "cell_type": "code",
   "execution_count": 44,
   "id": "c29bb476",
   "metadata": {},
   "outputs": [
    {
     "data": {
      "text/html": [
       "<div>\n",
       "<style scoped>\n",
       "    .dataframe tbody tr th:only-of-type {\n",
       "        vertical-align: middle;\n",
       "    }\n",
       "\n",
       "    .dataframe tbody tr th {\n",
       "        vertical-align: top;\n",
       "    }\n",
       "\n",
       "    .dataframe thead th {\n",
       "        text-align: right;\n",
       "    }\n",
       "</style>\n",
       "<table border=\"1\" class=\"dataframe\">\n",
       "  <thead>\n",
       "    <tr style=\"text-align: right;\">\n",
       "      <th></th>\n",
       "      <th>Average_Accidents</th>\n",
       "    </tr>\n",
       "    <tr>\n",
       "      <th>Weekday</th>\n",
       "      <th></th>\n",
       "    </tr>\n",
       "  </thead>\n",
       "  <tbody>\n",
       "    <tr>\n",
       "      <th>Friday</th>\n",
       "      <td>335.060703</td>\n",
       "    </tr>\n",
       "    <tr>\n",
       "      <th>Monday</th>\n",
       "      <td>284.758786</td>\n",
       "    </tr>\n",
       "    <tr>\n",
       "      <th>Saturday</th>\n",
       "      <td>267.070175</td>\n",
       "    </tr>\n",
       "    <tr>\n",
       "      <th>Sunday</th>\n",
       "      <td>221.520767</td>\n",
       "    </tr>\n",
       "    <tr>\n",
       "      <th>Thursday</th>\n",
       "      <td>305.030351</td>\n",
       "    </tr>\n",
       "    <tr>\n",
       "      <th>Tuesday</th>\n",
       "      <td>300.464856</td>\n",
       "    </tr>\n",
       "    <tr>\n",
       "      <th>Wednesday</th>\n",
       "      <td>303.555911</td>\n",
       "    </tr>\n",
       "  </tbody>\n",
       "</table>\n",
       "</div>"
      ],
      "text/plain": [
       "           Average_Accidents\n",
       "Weekday                     \n",
       "Friday            335.060703\n",
       "Monday            284.758786\n",
       "Saturday          267.070175\n",
       "Sunday            221.520767\n",
       "Thursday          305.030351\n",
       "Tuesday           300.464856\n",
       "Wednesday         303.555911"
      ]
     },
     "execution_count": 44,
     "metadata": {},
     "output_type": "execute_result"
    }
   ],
   "source": [
    "# Count accidents for each day from 2005 to 2016\n",
    "weekday_counts = eda_data_1.set_index('Date').resample('D').size().reset_index(name='Count')\n",
    "\n",
    "# Extracting weekday names\n",
    "weekday_counts['Weekday'] = weekday_counts['Date'].dt.day_name()\n",
    "\n",
    "# Calculating average accidents per weekday\n",
    "weekday_averages = weekday_counts.groupby('Weekday')['Count'].mean().reset_index()\n",
    "weekday_averages.columns = ['Weekday', 'Average_Accidents']\n",
    "\n",
    "# Setting 'Weekday' as index for better visualization\n",
    "weekday_averages.set_index('Weekday', inplace=True)\n",
    "\n",
    "# Displaying the result\n",
    "weekday_averages"
   ]
  },
  {
   "cell_type": "code",
   "execution_count": 45,
   "id": "e556dbd9",
   "metadata": {},
   "outputs": [],
   "source": [
    "import seaborn as sns\n",
    "import matplotlib.pyplot as plt"
   ]
  },
  {
   "cell_type": "code",
   "execution_count": 46,
   "id": "b4e880be",
   "metadata": {},
   "outputs": [
    {
     "data": {
      "text/plain": [
       "<AxesSubplot:ylabel='Weekday'>"
      ]
     },
     "execution_count": 46,
     "metadata": {},
     "output_type": "execute_result"
    },
    {
     "data": {
      "text/plain": [
       "Text(0.5, 1.0, '\\nAverage Number of Accidents by Weekday\\n')"
      ]
     },
     "execution_count": 46,
     "metadata": {},
     "output_type": "execute_result"
    },
    {
     "data": {
      "text/plain": [
       "[Text(0.5, 0, '\\nAverage Number of Accidents'), Text(0, 0.5, '')]"
      ]
     },
     "execution_count": 46,
     "metadata": {},
     "output_type": "execute_result"
    },
    {
     "data": {
      "text/plain": [
       "<matplotlib.legend.Legend at 0x2211b0967f0>"
      ]
     },
     "execution_count": 46,
     "metadata": {},
     "output_type": "execute_result"
    },
    {
     "data": {
      "image/png": "[encoded data removed]",
      "text/plain": [
       "<Figure size 1000x500 with 1 Axes>"
      ]
     },
     "metadata": {},
     "output_type": "display_data"
    }
   ],
   "source": [
    "# Reorder the weekdays starting with Monday (backwards due to printing behavior)\n",
    "days = ['Sunday', 'Saturday', 'Friday', 'Thursday', 'Wednesday', 'Tuesday', 'Monday']\n",
    "\n",
    "# Prepare the plot\n",
    "sns.set_style('white')\n",
    "fig, ax = plt.subplots(figsize=(10, 5))\n",
    "\n",
    "# Define colors for the bars\n",
    "colors = ['lightsteelblue'] * len(days)  # All bars will be lightsteelblue\n",
    "\n",
    "# Plot the data\n",
    "weekday_averages.reindex(days).plot(kind='barh', ax=ax, color=colors)\n",
    "\n",
    "# Set the title and labels\n",
    "ax.set_title('\\nAverage Number of Accidents by Weekday\\n', fontsize=14, fontweight='bold')\n",
    "ax.set(xlabel='\\nAverage Number of Accidents', ylabel='')\n",
    "\n",
    "# Remove the legend (if you don't have multiple datasets to display)\n",
    "ax.legend([])\n",
    "\n",
    "# Remove all spines for a cleaner look\n",
    "sns.despine(ax=ax, top=True, right=True, left=True, bottom=True)\n",
    "\n",
    "# Show the plot\n",
    "plt.show()"
   ]
  },
  {
   "cell_type": "markdown",
   "id": "2a8c708e",
   "metadata": {},
   "source": [
    "Number of Accidents by Day and Year"
   ]
  },
  {
   "cell_type": "code",
   "execution_count": 47,
   "id": "2fa8798b",
   "metadata": {},
   "outputs": [
    {
     "data": {
      "text/html": [
       "<div>\n",
       "<style scoped>\n",
       "    .dataframe tbody tr th:only-of-type {\n",
       "        vertical-align: middle;\n",
       "    }\n",
       "\n",
       "    .dataframe tbody tr th {\n",
       "        vertical-align: top;\n",
       "    }\n",
       "\n",
       "    .dataframe thead th {\n",
       "        text-align: right;\n",
       "    }\n",
       "</style>\n",
       "<table border=\"1\" class=\"dataframe\">\n",
       "  <thead>\n",
       "    <tr style=\"text-align: right;\">\n",
       "      <th>Weekday</th>\n",
       "      <th>Sunday</th>\n",
       "      <th>Saturday</th>\n",
       "      <th>Friday</th>\n",
       "      <th>Thursday</th>\n",
       "      <th>Wednesday</th>\n",
       "      <th>Tuesday</th>\n",
       "      <th>Monday</th>\n",
       "    </tr>\n",
       "    <tr>\n",
       "      <th>Year</th>\n",
       "      <th></th>\n",
       "      <th></th>\n",
       "      <th></th>\n",
       "      <th></th>\n",
       "      <th></th>\n",
       "      <th></th>\n",
       "      <th></th>\n",
       "    </tr>\n",
       "  </thead>\n",
       "  <tbody>\n",
       "    <tr>\n",
       "      <th>2005</th>\n",
       "      <td>6191</td>\n",
       "      <td>7518</td>\n",
       "      <td>9224</td>\n",
       "      <td>8396</td>\n",
       "      <td>8434</td>\n",
       "      <td>8218</td>\n",
       "      <td>7763</td>\n",
       "    </tr>\n",
       "    <tr>\n",
       "      <th>2006</th>\n",
       "      <td>6625</td>\n",
       "      <td>7951</td>\n",
       "      <td>10258</td>\n",
       "      <td>8841</td>\n",
       "      <td>9104</td>\n",
       "      <td>8742</td>\n",
       "      <td>8116</td>\n",
       "    </tr>\n",
       "    <tr>\n",
       "      <th>2007</th>\n",
       "      <td>8133</td>\n",
       "      <td>9544</td>\n",
       "      <td>11716</td>\n",
       "      <td>10476</td>\n",
       "      <td>10578</td>\n",
       "      <td>10516</td>\n",
       "      <td>10194</td>\n",
       "    </tr>\n",
       "    <tr>\n",
       "      <th>2008</th>\n",
       "      <td>7561</td>\n",
       "      <td>9101</td>\n",
       "      <td>11154</td>\n",
       "      <td>10074</td>\n",
       "      <td>10518</td>\n",
       "      <td>10421</td>\n",
       "      <td>9693</td>\n",
       "    </tr>\n",
       "    <tr>\n",
       "      <th>2009</th>\n",
       "      <td>13122</td>\n",
       "      <td>16173</td>\n",
       "      <td>19608</td>\n",
       "      <td>17629</td>\n",
       "      <td>17749</td>\n",
       "      <td>17793</td>\n",
       "      <td>16229</td>\n",
       "    </tr>\n",
       "    <tr>\n",
       "      <th>2010</th>\n",
       "      <td>12902</td>\n",
       "      <td>16233</td>\n",
       "      <td>19988</td>\n",
       "      <td>17660</td>\n",
       "      <td>17630</td>\n",
       "      <td>17778</td>\n",
       "      <td>17007</td>\n",
       "    </tr>\n",
       "    <tr>\n",
       "      <th>2011</th>\n",
       "      <td>13251</td>\n",
       "      <td>16223</td>\n",
       "      <td>20430</td>\n",
       "      <td>18982</td>\n",
       "      <td>18487</td>\n",
       "      <td>17633</td>\n",
       "      <td>16970</td>\n",
       "    </tr>\n",
       "    <tr>\n",
       "      <th>2012</th>\n",
       "      <td>12936</td>\n",
       "      <td>15550</td>\n",
       "      <td>19402</td>\n",
       "      <td>18226</td>\n",
       "      <td>18126</td>\n",
       "      <td>17577</td>\n",
       "      <td>16902</td>\n",
       "    </tr>\n",
       "    <tr>\n",
       "      <th>2013</th>\n",
       "      <td>12624</td>\n",
       "      <td>15547</td>\n",
       "      <td>19942</td>\n",
       "      <td>18181</td>\n",
       "      <td>17345</td>\n",
       "      <td>17946</td>\n",
       "      <td>16644</td>\n",
       "    </tr>\n",
       "    <tr>\n",
       "      <th>2014</th>\n",
       "      <td>13884</td>\n",
       "      <td>16544</td>\n",
       "      <td>21116</td>\n",
       "      <td>18862</td>\n",
       "      <td>18943</td>\n",
       "      <td>19175</td>\n",
       "      <td>18129</td>\n",
       "    </tr>\n",
       "    <tr>\n",
       "      <th>2015</th>\n",
       "      <td>14928</td>\n",
       "      <td>17706</td>\n",
       "      <td>21920</td>\n",
       "      <td>20860</td>\n",
       "      <td>20480</td>\n",
       "      <td>20385</td>\n",
       "      <td>19589</td>\n",
       "    </tr>\n",
       "    <tr>\n",
       "      <th>2016</th>\n",
       "      <td>16515</td>\n",
       "      <td>19363</td>\n",
       "      <td>24990</td>\n",
       "      <td>22762</td>\n",
       "      <td>22632</td>\n",
       "      <td>21907</td>\n",
       "      <td>21023</td>\n",
       "    </tr>\n",
       "  </tbody>\n",
       "</table>\n",
       "</div>"
      ],
      "text/plain": [
       "Weekday  Sunday  Saturday  Friday  Thursday  Wednesday  Tuesday  Monday\n",
       "Year                                                                   \n",
       "2005       6191      7518    9224      8396       8434     8218    7763\n",
       "2006       6625      7951   10258      8841       9104     8742    8116\n",
       "2007       8133      9544   11716     10476      10578    10516   10194\n",
       "2008       7561      9101   11154     10074      10518    10421    9693\n",
       "2009      13122     16173   19608     17629      17749    17793   16229\n",
       "2010      12902     16233   19988     17660      17630    17778   17007\n",
       "2011      13251     16223   20430     18982      18487    17633   16970\n",
       "2012      12936     15550   19402     18226      18126    17577   16902\n",
       "2013      12624     15547   19942     18181      17345    17946   16644\n",
       "2014      13884     16544   21116     18862      18943    19175   18129\n",
       "2015      14928     17706   21920     20860      20480    20385   19589\n",
       "2016      16515     19363   24990     22762      22632    21907   21023"
      ]
     },
     "execution_count": 47,
     "metadata": {},
     "output_type": "execute_result"
    }
   ],
   "source": [
    "# Getting weekday and year\n",
    "weekday = eda_data_1['Date'].dt.day_name()  # Use day_name() instead of weekday_name\n",
    "year = eda_data_1['Date'].dt.year\n",
    "\n",
    "# Grouping data by year and weekday\n",
    "accident_table = eda_data_1.groupby([year, weekday]).size()\n",
    "\n",
    "# Restructuring the data\n",
    "accident_table = accident_table.rename_axis(['Year', 'Weekday'])\\\n",
    "                                 .unstack('Weekday')\\\n",
    "                                 .reindex(columns=days)  # Ensure 'days' is defined as your desired order of weekdays\n",
    "\n",
    "accident_table\n"
   ]
  },
  {
   "cell_type": "code",
   "execution_count": 48,
   "id": "9c83b314",
   "metadata": {},
   "outputs": [
    {
     "data": {
      "image/png": "[encoded data removed]",
      "text/plain": [
       "<Figure size 1000x600 with 2 Axes>"
      ]
     },
     "metadata": {},
     "output_type": "display_data"
    }
   ],
   "source": [
    "# Plotting dataframe\n",
    "plt.figure(figsize=(10,6))\n",
    "sns.heatmap(accident_table, cmap='Reds')\n",
    "plt.title('\\nAccidents by Year and Weekday\\n', fontsize=14, fontweight='bold')\n",
    "plt.xlabel('')\n",
    "plt.ylabel('');"
   ]
  },
  {
   "cell_type": "code",
   "execution_count": 49,
   "id": "5f8ca069",
   "metadata": {},
   "outputs": [
    {
     "name": "stdout",
     "output_type": "stream",
     "text": [
      "Accident_Severity  Fatal  Serious  Slight\n",
      "Week                                     \n",
      "2005-01-02             3       25     117\n",
      "2005-01-09            11       80     709\n",
      "2005-01-16            12      142     932\n",
      "2005-01-23            20      110     969\n",
      "2005-01-30             7      107     908\n"
     ]
    }
   ],
   "source": [
    "import pandas as pd\n",
    "\n",
    "# Create a subset of the DataFrame\n",
    "sub_df = eda_data_1[['Date', 'Accident_Severity']]\n",
    "\n",
    "# Group by week and severity\n",
    "count_of_fatalities = sub_df.set_index('Date').groupby([pd.Grouper(freq='W'), 'Accident_Severity']).size()\n",
    "\n",
    "# Build a nice table\n",
    "fatalities_table = (\n",
    "    count_of_fatalities\n",
    "    .rename_axis(['Week', 'Accident_Severity'])\n",
    "    .unstack('Accident_Severity', fill_value=0)  # Handle missing values by filling with 0\n",
    "    .rename(columns={1: 'fatal', 2: 'serious', 3: 'slight'})\n",
    ")\n",
    "\n",
    "# Display the first few rows of the table\n",
    "print(fatalities_table.head())\n"
   ]
  },
  {
   "cell_type": "code",
   "execution_count": 50,
   "id": "a7baba24",
   "metadata": {},
   "outputs": [
    {
     "data": {
      "text/html": [
       "<div>\n",
       "<style scoped>\n",
       "    .dataframe tbody tr th:only-of-type {\n",
       "        vertical-align: middle;\n",
       "    }\n",
       "\n",
       "    .dataframe tbody tr th {\n",
       "        vertical-align: top;\n",
       "    }\n",
       "\n",
       "    .dataframe thead th {\n",
       "        text-align: right;\n",
       "    }\n",
       "</style>\n",
       "<table border=\"1\" class=\"dataframe\">\n",
       "  <thead>\n",
       "    <tr style=\"text-align: right;\">\n",
       "      <th>Accident_Severity</th>\n",
       "      <th>Fatal</th>\n",
       "      <th>Serious</th>\n",
       "      <th>Slight</th>\n",
       "      <th>sum</th>\n",
       "      <th>Fatal_percentage</th>\n",
       "      <th>Serious_percentage</th>\n",
       "      <th>Slight_percentage</th>\n",
       "      <th>sum_percentage</th>\n",
       "    </tr>\n",
       "    <tr>\n",
       "      <th>Week</th>\n",
       "      <th></th>\n",
       "      <th></th>\n",
       "      <th></th>\n",
       "      <th></th>\n",
       "      <th></th>\n",
       "      <th></th>\n",
       "      <th></th>\n",
       "      <th></th>\n",
       "    </tr>\n",
       "  </thead>\n",
       "  <tbody>\n",
       "    <tr>\n",
       "      <th>2005-01-02</th>\n",
       "      <td>3</td>\n",
       "      <td>25</td>\n",
       "      <td>117</td>\n",
       "      <td>145</td>\n",
       "      <td>0.020690</td>\n",
       "      <td>0.172414</td>\n",
       "      <td>0.806897</td>\n",
       "      <td>1.0</td>\n",
       "    </tr>\n",
       "    <tr>\n",
       "      <th>2005-01-09</th>\n",
       "      <td>11</td>\n",
       "      <td>80</td>\n",
       "      <td>709</td>\n",
       "      <td>800</td>\n",
       "      <td>0.013750</td>\n",
       "      <td>0.100000</td>\n",
       "      <td>0.886250</td>\n",
       "      <td>1.0</td>\n",
       "    </tr>\n",
       "    <tr>\n",
       "      <th>2005-01-16</th>\n",
       "      <td>12</td>\n",
       "      <td>142</td>\n",
       "      <td>932</td>\n",
       "      <td>1086</td>\n",
       "      <td>0.011050</td>\n",
       "      <td>0.130755</td>\n",
       "      <td>0.858195</td>\n",
       "      <td>1.0</td>\n",
       "    </tr>\n",
       "    <tr>\n",
       "      <th>2005-01-23</th>\n",
       "      <td>20</td>\n",
       "      <td>110</td>\n",
       "      <td>969</td>\n",
       "      <td>1099</td>\n",
       "      <td>0.018198</td>\n",
       "      <td>0.100091</td>\n",
       "      <td>0.881711</td>\n",
       "      <td>1.0</td>\n",
       "    </tr>\n",
       "    <tr>\n",
       "      <th>2005-01-30</th>\n",
       "      <td>7</td>\n",
       "      <td>107</td>\n",
       "      <td>908</td>\n",
       "      <td>1022</td>\n",
       "      <td>0.006849</td>\n",
       "      <td>0.104697</td>\n",
       "      <td>0.888454</td>\n",
       "      <td>1.0</td>\n",
       "    </tr>\n",
       "  </tbody>\n",
       "</table>\n",
       "</div>"
      ],
      "text/plain": [
       "Accident_Severity  Fatal  Serious  Slight   sum  Fatal_percentage  \\\n",
       "Week                                                                \n",
       "2005-01-02             3       25     117   145          0.020690   \n",
       "2005-01-09            11       80     709   800          0.013750   \n",
       "2005-01-16            12      142     932  1086          0.011050   \n",
       "2005-01-23            20      110     969  1099          0.018198   \n",
       "2005-01-30             7      107     908  1022          0.006849   \n",
       "\n",
       "Accident_Severity  Serious_percentage  Slight_percentage  sum_percentage  \n",
       "Week                                                                      \n",
       "2005-01-02                   0.172414           0.806897             1.0  \n",
       "2005-01-09                   0.100000           0.886250             1.0  \n",
       "2005-01-16                   0.130755           0.858195             1.0  \n",
       "2005-01-23                   0.100091           0.881711             1.0  \n",
       "2005-01-30                   0.104697           0.888454             1.0  "
      ]
     },
     "execution_count": 50,
     "metadata": {},
     "output_type": "execute_result"
    }
   ],
   "source": [
    "fatalities_table['sum'] = fatalities_table.sum(axis=1)\n",
    "fatalities_table = fatalities_table.join(fatalities_table.div(fatalities_table['sum'], axis=0), rsuffix='_percentage')\n",
    "fatalities_table.head()"
   ]
  },
  {
   "cell_type": "code",
   "execution_count": 51,
   "id": "d5669ed5",
   "metadata": {},
   "outputs": [
    {
     "data": {
      "image/png": "[encoded data removed]",
      "text/plain": [
       "<Figure size 1400x600 with 1 Axes>"
      ]
     },
     "metadata": {},
     "output_type": "display_data"
    }
   ],
   "source": [
    "# prepare data\n",
    "sub_df = fatalities_table[['Fatal_percentage', 'Serious_percentage', 'Slight_percentage']]\n",
    "\n",
    "# prepare plot\n",
    "sns.set_style('white')\n",
    "fig, ax = plt.subplots(figsize=(14,6))\n",
    "colors=['black', 'navy', 'lightsteelblue']\n",
    "\n",
    "# plot\n",
    "sub_df.plot(color=colors, ax=ax)\n",
    "ax.set_title('\\nProportion of Accident Severities\\n', fontsize=14, fontweight='bold')\n",
    "ax.set(ylabel='Share of All Accidents\\n', xlabel='Year')\n",
    "ax.legend(labels=['Fatal Accidents', 'Serious Accidents', 'Slight Accidents'], \n",
    "          bbox_to_anchor=(1.3, 1.1), frameon=False)\n",
    "\n",
    "# remove all spines\n",
    "sns.despine(top=True, right=True, left=True, bottom=False);"
   ]
  },
  {
   "cell_type": "markdown",
   "id": "e13ff132",
   "metadata": {},
   "source": [
    "Accident Distribution per Day"
   ]
  },
  {
   "cell_type": "code",
   "execution_count": 52,
   "id": "867504c4",
   "metadata": {},
   "outputs": [
    {
     "data": {
      "image/png": "[encoded data removed]",
      "text/plain": [
       "<Figure size 1000x600 with 1 Axes>"
      ]
     },
     "metadata": {},
     "output_type": "display_data"
    }
   ],
   "source": [
    "# prepare plot\n",
    "sns.set_style('white')\n",
    "fig, ax = plt.subplots(figsize=(10,6))\n",
    "\n",
    "# plot\n",
    "eda_data_1.Hour.hist(bins=24, ax=ax, color='lightsteelblue')\n",
    "ax.set_title('\\nAccidents by Time of Day\\n', fontsize=14, fontweight='bold')\n",
    "ax.set(xlabel='Hour of the Day', ylabel='Number of Accidents')\n",
    "\n",
    "# remove all spines\n",
    "sns.despine(top=True, right=True, left=True, bottom=True);"
   ]
  },
  {
   "cell_type": "markdown",
   "id": "944147d6",
   "metadata": {},
   "source": [
    "Count of accidents by 'Daytime' categories"
   ]
  },
  {
   "cell_type": "code",
   "execution_count": 53,
   "id": "3caa0c62",
   "metadata": {},
   "outputs": [
    {
     "data": {
      "image/png": "[encoded data removed]",
      "text/plain": [
       "<Figure size 1000x500 with 1 Axes>"
      ]
     },
     "metadata": {},
     "output_type": "display_data"
    }
   ],
   "source": [
    "# prepare dataframe\n",
    "order = ['night (23-5)', 'evening (19-23)', 'afternoon rush (15-19)', 'office hours (10-15)', 'morning rush (5-10)']\n",
    "df_sub = eda_data_1.groupby('Daytime').size().reindex(order)\n",
    "\n",
    "# prepare barplot\n",
    "fig, ax = plt.subplots(figsize=(10, 5))\n",
    "colors = ['lightsteelblue', 'lightsteelblue', 'navy', 'lightsteelblue', 'lightsteelblue']\n",
    "\n",
    "# plot\n",
    "df_sub.plot(kind='barh', ax=ax, color=colors)\n",
    "ax.set_title('\\nAccidents by Daytime Categories\\n', fontsize=14, fontweight='bold')\n",
    "ax.set(xlabel='\\nNumber of Accidents', ylabel='')\n",
    "\n",
    "# remove all spines\n",
    "sns.despine(top=True, right=True, left=True, bottom=True);"
   ]
  },
  {
   "cell_type": "markdown",
   "id": "9f09a1e6",
   "metadata": {},
   "source": [
    "Percentage Distributiong of Accident Severity"
   ]
  },
  {
   "cell_type": "code",
   "execution_count": 54,
   "id": "2c28daf9",
   "metadata": {},
   "outputs": [
    {
     "data": {
      "image/png": "[encoded data removed]",
      "text/plain": [
       "<Figure size 800x800 with 1 Axes>"
      ]
     },
     "metadata": {},
     "output_type": "display_data"
    }
   ],
   "source": [
    "# assign the data\n",
    "fatal   = eda_data_1.Accident_Severity.value_counts()['Fatal']\n",
    "serious = eda_data_1.Accident_Severity.value_counts()['Serious']\n",
    "slight  = eda_data_1.Accident_Severity.value_counts()['Slight']\n",
    "\n",
    "names = ['Fatal Accidents','Serious Accidents', 'Slight Accidents']\n",
    "size  = [fatal, serious, slight]\n",
    "#explode = (0.2, 0, 0)\n",
    "\n",
    "# create a pie chart\n",
    "plt.pie(x=size, labels=names, colors=['red', 'darkorange', 'silver'], \n",
    "        autopct='%1.2f%%', pctdistance=0.6, textprops=dict(fontweight='bold'),\n",
    "        wedgeprops={'linewidth':7, 'edgecolor':'white'})\n",
    "\n",
    "# create circle for the center of the plot to make the pie look like a donut\n",
    "my_circle = plt.Circle((0,0), 0.6, color='white')\n",
    "\n",
    "# plot the donut chart\n",
    "fig = plt.gcf()\n",
    "fig.set_size_inches(8,8)\n",
    "fig.gca().add_artist(my_circle)\n",
    "plt.title('\\nAccident Severity: Proportion in % (2005-2016)', fontsize=14, fontweight='bold')\n",
    "plt.show();"
   ]
  },
  {
   "cell_type": "markdown",
   "id": "7a6b659e",
   "metadata": {},
   "source": [
    "Share of accident sevirity by Daytime"
   ]
  },
  {
   "cell_type": "code",
   "execution_count": 55,
   "id": "c5f005bb",
   "metadata": {},
   "outputs": [
    {
     "data": {
      "text/html": [
       "<div>\n",
       "<style scoped>\n",
       "    .dataframe tbody tr th:only-of-type {\n",
       "        vertical-align: middle;\n",
       "    }\n",
       "\n",
       "    .dataframe tbody tr th {\n",
       "        vertical-align: top;\n",
       "    }\n",
       "\n",
       "    .dataframe thead th {\n",
       "        text-align: right;\n",
       "    }\n",
       "</style>\n",
       "<table border=\"1\" class=\"dataframe\">\n",
       "  <thead>\n",
       "    <tr style=\"text-align: right;\">\n",
       "      <th>Accident_Severity</th>\n",
       "      <th>Fatal</th>\n",
       "      <th>Serious</th>\n",
       "      <th>Slight</th>\n",
       "    </tr>\n",
       "    <tr>\n",
       "      <th>Daytime</th>\n",
       "      <th></th>\n",
       "      <th></th>\n",
       "      <th></th>\n",
       "    </tr>\n",
       "  </thead>\n",
       "  <tbody>\n",
       "    <tr>\n",
       "      <th>afternoon rush (15-19)</th>\n",
       "      <td>4327</td>\n",
       "      <td>53335</td>\n",
       "      <td>357017</td>\n",
       "    </tr>\n",
       "    <tr>\n",
       "      <th>evening (19-23)</th>\n",
       "      <td>2949</td>\n",
       "      <td>25268</td>\n",
       "      <td>145989</td>\n",
       "    </tr>\n",
       "    <tr>\n",
       "      <th>morning rush (5-10)</th>\n",
       "      <td>2608</td>\n",
       "      <td>28437</td>\n",
       "      <td>213010</td>\n",
       "    </tr>\n",
       "    <tr>\n",
       "      <th>night (23-5)</th>\n",
       "      <td>2056</td>\n",
       "      <td>11526</td>\n",
       "      <td>53312</td>\n",
       "    </tr>\n",
       "    <tr>\n",
       "      <th>office hours (10-15)</th>\n",
       "      <td>4088</td>\n",
       "      <td>43886</td>\n",
       "      <td>315390</td>\n",
       "    </tr>\n",
       "  </tbody>\n",
       "</table>\n",
       "</div>"
      ],
      "text/plain": [
       "Accident_Severity       Fatal  Serious  Slight\n",
       "Daytime                                       \n",
       "afternoon rush (15-19)   4327    53335  357017\n",
       "evening (19-23)          2949    25268  145989\n",
       "morning rush (5-10)      2608    28437  213010\n",
       "night (23-5)             2056    11526   53312\n",
       "office hours (10-15)     4088    43886  315390"
      ]
     },
     "execution_count": 55,
     "metadata": {},
     "output_type": "execute_result"
    }
   ],
   "source": [
    "# prepare dataframe with simple counts\n",
    "counts = eda_data_1.groupby(['Daytime', 'Accident_Severity']).size()\n",
    "\n",
    "counts = counts.rename_axis(['Daytime', 'Accident_Severity'])\\\n",
    "                                .unstack('Accident_Severity')\\\n",
    "                                .rename({1:'fatal', 2:'serious', 3:'slight'}, axis='columns')\n",
    "counts"
   ]
  },
  {
   "cell_type": "code",
   "execution_count": 56,
   "id": "2f68d786",
   "metadata": {},
   "outputs": [
    {
     "data": {
      "text/html": [
       "<div>\n",
       "<style scoped>\n",
       "    .dataframe tbody tr th:only-of-type {\n",
       "        vertical-align: middle;\n",
       "    }\n",
       "\n",
       "    .dataframe tbody tr th {\n",
       "        vertical-align: top;\n",
       "    }\n",
       "\n",
       "    .dataframe thead th {\n",
       "        text-align: right;\n",
       "    }\n",
       "</style>\n",
       "<table border=\"1\" class=\"dataframe\">\n",
       "  <thead>\n",
       "    <tr style=\"text-align: right;\">\n",
       "      <th>Accident_Severity</th>\n",
       "      <th>Fatal in %</th>\n",
       "      <th>Serious in %</th>\n",
       "      <th>Slight in %</th>\n",
       "    </tr>\n",
       "    <tr>\n",
       "      <th>Daytime</th>\n",
       "      <th></th>\n",
       "      <th></th>\n",
       "      <th></th>\n",
       "    </tr>\n",
       "  </thead>\n",
       "  <tbody>\n",
       "    <tr>\n",
       "      <th>afternoon rush (15-19)</th>\n",
       "      <td>0.010435</td>\n",
       "      <td>0.128618</td>\n",
       "      <td>0.860948</td>\n",
       "    </tr>\n",
       "    <tr>\n",
       "      <th>evening (19-23)</th>\n",
       "      <td>0.016928</td>\n",
       "      <td>0.145047</td>\n",
       "      <td>0.838025</td>\n",
       "    </tr>\n",
       "    <tr>\n",
       "      <th>morning rush (5-10)</th>\n",
       "      <td>0.010686</td>\n",
       "      <td>0.116519</td>\n",
       "      <td>0.872795</td>\n",
       "    </tr>\n",
       "    <tr>\n",
       "      <th>night (23-5)</th>\n",
       "      <td>0.030735</td>\n",
       "      <td>0.172302</td>\n",
       "      <td>0.796962</td>\n",
       "    </tr>\n",
       "    <tr>\n",
       "      <th>office hours (10-15)</th>\n",
       "      <td>0.011250</td>\n",
       "      <td>0.120777</td>\n",
       "      <td>0.867973</td>\n",
       "    </tr>\n",
       "  </tbody>\n",
       "</table>\n",
       "</div>"
      ],
      "text/plain": [
       "Accident_Severity       Fatal in %  Serious in %  Slight in %\n",
       "Daytime                                                      \n",
       "afternoon rush (15-19)    0.010435      0.128618     0.860948\n",
       "evening (19-23)           0.016928      0.145047     0.838025\n",
       "morning rush (5-10)       0.010686      0.116519     0.872795\n",
       "night (23-5)              0.030735      0.172302     0.796962\n",
       "office hours (10-15)      0.011250      0.120777     0.867973"
      ]
     },
     "execution_count": 56,
     "metadata": {},
     "output_type": "execute_result"
    }
   ],
   "source": [
    "# prepare dataframe with shares\n",
    "counts['sum'] = counts.sum(axis=1)\n",
    "counts = counts.join(counts.div(counts['sum'], axis=0), rsuffix=' in %')\n",
    "counts_share = counts.drop(columns=['Fatal', 'Serious', 'Slight', 'sum', 'sum in %'], axis=1)\n",
    "counts_share"
   ]
  },
  {
   "cell_type": "code",
   "execution_count": 57,
   "id": "525af0e5",
   "metadata": {},
   "outputs": [
    {
     "data": {
      "image/png": "[encoded data removed]",
      "text/plain": [
       "<Figure size 1000x500 with 1 Axes>"
      ]
     },
     "metadata": {},
     "output_type": "display_data"
    }
   ],
   "source": [
    "# prepare barplot\n",
    "fig, ax = plt.subplots(figsize=(10, 5))\n",
    "\n",
    "# plot\n",
    "counts_share.reindex(order).plot(kind='barh', ax=ax, stacked=True, cmap='cividis')\n",
    "ax.set_title('\\nAccident Severity by Daytime Categories\\n', fontsize=14, fontweight='bold')\n",
    "ax.set(xlabel='Percent Accident Severity', ylabel='')\n",
    "ax.legend(bbox_to_anchor=(1.25, 0.98), frameon=False)\n",
    "\n",
    "# remove all spines\n",
    "sns.despine(top=True, right=True, left=True, bottom=True);"
   ]
  },
  {
   "cell_type": "markdown",
   "id": "fa759533",
   "metadata": {},
   "source": [
    "Reason for Accidents"
   ]
  },
  {
   "cell_type": "code",
   "execution_count": 58,
   "id": "387d2f70",
   "metadata": {},
   "outputs": [
    {
     "data": {
      "text/plain": [
       "Going ahead other                      569265\n",
       "Turning right                          138103\n",
       "Slowing or stopping                    107939\n",
       "Waiting to go - held up                101278\n",
       "Going ahead right-hand bend             55638\n",
       "Moving off                              50303\n",
       "Going ahead left-hand bend              48479\n",
       "Turning left                            39743\n",
       "Parked                                  30489\n",
       "Waiting to turn right                   24703\n",
       "Overtaking moving vehicle - offside     23738\n",
       "Reversing                               15082\n",
       "Overtaking static vehicle - offside     14702\n",
       "U-turn                                  10761\n",
       "Changing lane to right                   9946\n",
       "Changing lane to left                    9124\n",
       "Waiting to turn left                     8277\n",
       "Overtaking - nearside                    5628\n",
       "Name: Vehicle_Manoeuvre, dtype: int64"
      ]
     },
     "execution_count": 58,
     "metadata": {},
     "output_type": "execute_result"
    }
   ],
   "source": [
    "vehicle_ManoeuvreDF=eda_data_1[\"Vehicle_Manoeuvre\"].value_counts()\n",
    "vehicle_ManoeuvreDF"
   ]
  },
  {
   "cell_type": "code",
   "execution_count": 59,
   "id": "2540b7b4",
   "metadata": {},
   "outputs": [
    {
     "name": "stdout",
     "output_type": "stream",
     "text": [
      "<class 'pandas.core.series.Series'>\n"
     ]
    }
   ],
   "source": [
    "print(type(vehicle_ManoeuvreDF))"
   ]
  },
  {
   "cell_type": "code",
   "execution_count": 60,
   "id": "8b2f39b4",
   "metadata": {},
   "outputs": [],
   "source": [
    "from pandas import Series, DataFrame\n",
    "df=Series.to_frame(vehicle_ManoeuvreDF)"
   ]
  },
  {
   "cell_type": "code",
   "execution_count": 61,
   "id": "22f31fda",
   "metadata": {},
   "outputs": [],
   "source": [
    "df.columns = ['Count']"
   ]
  },
  {
   "cell_type": "code",
   "execution_count": 62,
   "id": "a9685bbf",
   "metadata": {},
   "outputs": [],
   "source": [
    "df.reset_index(level=0, inplace=True)"
   ]
  },
  {
   "cell_type": "code",
   "execution_count": 63,
   "id": "82f24dbd",
   "metadata": {},
   "outputs": [
    {
     "data": {
      "text/plain": [
       "['index', 'Count']"
      ]
     },
     "execution_count": 63,
     "metadata": {},
     "output_type": "execute_result"
    }
   ],
   "source": [
    "list(df.columns.values)"
   ]
  },
  {
   "cell_type": "code",
   "execution_count": 64,
   "id": "ec9c1ac6",
   "metadata": {},
   "outputs": [
    {
     "data": {
      "text/html": [
       "<div>\n",
       "<style scoped>\n",
       "    .dataframe tbody tr th:only-of-type {\n",
       "        vertical-align: middle;\n",
       "    }\n",
       "\n",
       "    .dataframe tbody tr th {\n",
       "        vertical-align: top;\n",
       "    }\n",
       "\n",
       "    .dataframe thead th {\n",
       "        text-align: right;\n",
       "    }\n",
       "</style>\n",
       "<table border=\"1\" class=\"dataframe\">\n",
       "  <thead>\n",
       "    <tr style=\"text-align: right;\">\n",
       "      <th></th>\n",
       "      <th>index</th>\n",
       "      <th>Count</th>\n",
       "    </tr>\n",
       "  </thead>\n",
       "  <tbody>\n",
       "    <tr>\n",
       "      <th>0</th>\n",
       "      <td>Going ahead other</td>\n",
       "      <td>569265</td>\n",
       "    </tr>\n",
       "    <tr>\n",
       "      <th>1</th>\n",
       "      <td>Turning right</td>\n",
       "      <td>138103</td>\n",
       "    </tr>\n",
       "    <tr>\n",
       "      <th>2</th>\n",
       "      <td>Slowing or stopping</td>\n",
       "      <td>107939</td>\n",
       "    </tr>\n",
       "    <tr>\n",
       "      <th>3</th>\n",
       "      <td>Waiting to go - held up</td>\n",
       "      <td>101278</td>\n",
       "    </tr>\n",
       "    <tr>\n",
       "      <th>4</th>\n",
       "      <td>Going ahead right-hand bend</td>\n",
       "      <td>55638</td>\n",
       "    </tr>\n",
       "    <tr>\n",
       "      <th>5</th>\n",
       "      <td>Moving off</td>\n",
       "      <td>50303</td>\n",
       "    </tr>\n",
       "    <tr>\n",
       "      <th>6</th>\n",
       "      <td>Going ahead left-hand bend</td>\n",
       "      <td>48479</td>\n",
       "    </tr>\n",
       "    <tr>\n",
       "      <th>7</th>\n",
       "      <td>Turning left</td>\n",
       "      <td>39743</td>\n",
       "    </tr>\n",
       "    <tr>\n",
       "      <th>8</th>\n",
       "      <td>Parked</td>\n",
       "      <td>30489</td>\n",
       "    </tr>\n",
       "    <tr>\n",
       "      <th>9</th>\n",
       "      <td>Waiting to turn right</td>\n",
       "      <td>24703</td>\n",
       "    </tr>\n",
       "    <tr>\n",
       "      <th>10</th>\n",
       "      <td>Overtaking moving vehicle - offside</td>\n",
       "      <td>23738</td>\n",
       "    </tr>\n",
       "    <tr>\n",
       "      <th>11</th>\n",
       "      <td>Reversing</td>\n",
       "      <td>15082</td>\n",
       "    </tr>\n",
       "    <tr>\n",
       "      <th>12</th>\n",
       "      <td>Overtaking static vehicle - offside</td>\n",
       "      <td>14702</td>\n",
       "    </tr>\n",
       "    <tr>\n",
       "      <th>13</th>\n",
       "      <td>U-turn</td>\n",
       "      <td>10761</td>\n",
       "    </tr>\n",
       "    <tr>\n",
       "      <th>14</th>\n",
       "      <td>Changing lane to right</td>\n",
       "      <td>9946</td>\n",
       "    </tr>\n",
       "    <tr>\n",
       "      <th>15</th>\n",
       "      <td>Changing lane to left</td>\n",
       "      <td>9124</td>\n",
       "    </tr>\n",
       "    <tr>\n",
       "      <th>16</th>\n",
       "      <td>Waiting to turn left</td>\n",
       "      <td>8277</td>\n",
       "    </tr>\n",
       "    <tr>\n",
       "      <th>17</th>\n",
       "      <td>Overtaking - nearside</td>\n",
       "      <td>5628</td>\n",
       "    </tr>\n",
       "  </tbody>\n",
       "</table>\n",
       "</div>"
      ],
      "text/plain": [
       "                                  index   Count\n",
       "0                     Going ahead other  569265\n",
       "1                         Turning right  138103\n",
       "2                   Slowing or stopping  107939\n",
       "3               Waiting to go - held up  101278\n",
       "4           Going ahead right-hand bend   55638\n",
       "5                            Moving off   50303\n",
       "6            Going ahead left-hand bend   48479\n",
       "7                          Turning left   39743\n",
       "8                                Parked   30489\n",
       "9                 Waiting to turn right   24703\n",
       "10  Overtaking moving vehicle - offside   23738\n",
       "11                            Reversing   15082\n",
       "12  Overtaking static vehicle - offside   14702\n",
       "13                               U-turn   10761\n",
       "14               Changing lane to right    9946\n",
       "15                Changing lane to left    9124\n",
       "16                 Waiting to turn left    8277\n",
       "17                Overtaking - nearside    5628"
      ]
     },
     "execution_count": 64,
     "metadata": {},
     "output_type": "execute_result"
    }
   ],
   "source": [
    "df"
   ]
  },
  {
   "cell_type": "code",
   "execution_count": 65,
   "id": "fe6ee17c",
   "metadata": {},
   "outputs": [],
   "source": [
    "df.columns = ['Vehicle_Manoeuvre', 'Count'] "
   ]
  },
  {
   "cell_type": "code",
   "execution_count": 66,
   "id": "9c525f24",
   "metadata": {},
   "outputs": [],
   "source": [
    "manoeuvre = df['Vehicle_Manoeuvre'].tolist()\n",
    "count_manoeuvre = df['Count'].tolist()"
   ]
  },
  {
   "cell_type": "code",
   "execution_count": 67,
   "id": "a70954da",
   "metadata": {},
   "outputs": [
    {
     "data": {
      "text/html": [
       "        <script type=\"text/javascript\">\n",
       "        window.PlotlyConfig = {MathJaxConfig: 'local'};\n",
       "        if (window.MathJax && window.MathJax.Hub && window.MathJax.Hub.Config) {window.MathJax.Hub.Config({SVG: {font: \"STIX-Web\"}});}\n",
       "        if (typeof require !== 'undefined') {\n",
       "        require.undef(\"plotly\");\n",
       "        requirejs.config({\n",
       "            paths: {\n",
       "                'plotly': ['https://cdn.plot.ly/plotly-2.12.1.min']\n",
       "            }\n",
       "        });\n",
       "        require(['plotly'], function(Plotly) {\n",
       "            window._Plotly = Plotly;\n",
       "        });\n",
       "        }\n",
       "        </script>\n",
       "        "
      ]
     },
     "metadata": {},
     "output_type": "display_data"
    }
   ],
   "source": [
    "import plotly.graph_objs as go\n",
    "from plotly.offline import init_notebook_mode, iplot\n",
    "init_notebook_mode(connected=True)"
   ]
  },
  {
   "cell_type": "code",
   "execution_count": 68,
   "id": "af70b5f9",
   "metadata": {},
   "outputs": [
    {
     "data": {
      "application/vnd.plotly.v1+json": {
       "config": {
        "linkText": "Export to plot.ly",
        "plotlyServerURL": "https://plot.ly",
        "showLink": false
       },
       "data": [
        {
         "labels": [
          "Going ahead other",
          "Turning right",
          "Slowing or stopping",
          "Waiting to go - held up",
          "Going ahead right-hand bend",
          "Moving off",
          "Going ahead left-hand bend",
          "Turning left",
          "Parked",
          "Waiting to turn right",
          "Overtaking moving vehicle - offside",
          "Reversing",
          "Overtaking static vehicle - offside",
          "U-turn",
          "Changing lane to right",
          "Changing lane to left",
          "Waiting to turn left",
          "Overtaking - nearside"
         ],
         "marker": {
          "colors": [
           "#25e475",
           "#ee1c96"
          ]
         },
         "type": "pie",
         "values": [
          569265,
          138103,
          107939,
          101278,
          55638,
          50303,
          48479,
          39743,
          30489,
          24703,
          23738,
          15082,
          14702,
          10761,
          9946,
          9124,
          8277,
          5628
         ]
        }
       ],
       "layout": {
        "height": 500,
        "template": {
         "data": {
          "bar": [
           {
            "error_x": {
             "color": "#2a3f5f"
            },
            "error_y": {
             "color": "#2a3f5f"
            },
            "marker": {
             "line": {
              "color": "#E5ECF6",
              "width": 0.5
             },
             "pattern": {
              "fillmode": "overlay",
              "size": 10,
              "solidity": 0.2
             }
            },
            "type": "bar"
           }
          ],
          "barpolar": [
           {
            "marker": {
             "line": {
              "color": "#E5ECF6",
              "width": 0.5
             },
             "pattern": {
              "fillmode": "overlay",
              "size": 10,
              "solidity": 0.2
             }
            },
            "type": "barpolar"
           }
          ],
          "carpet": [
           {
            "aaxis": {
             "endlinecolor": "#2a3f5f",
             "gridcolor": "white",
             "linecolor": "white",
             "minorgridcolor": "white",
             "startlinecolor": "#2a3f5f"
            },
            "baxis": {
             "endlinecolor": "#2a3f5f",
             "gridcolor": "white",
             "linecolor": "white",
             "minorgridcolor": "white",
             "startlinecolor": "#2a3f5f"
            },
            "type": "carpet"
           }
          ],
          "choropleth": [
           {
            "colorbar": {
             "outlinewidth": 0,
             "ticks": ""
            },
            "type": "choropleth"
           }
          ],
          "contour": [
           {
            "colorbar": {
             "outlinewidth": 0,
             "ticks": ""
            },
            "colorscale": [
             [
              0,
              "#0d0887"
             ],
             [
              0.1111111111111111,
              "#46039f"
             ],
             [
              0.2222222222222222,
              "#7201a8"
             ],
             [
              0.3333333333333333,
              "#9c179e"
             ],
             [
              0.4444444444444444,
              "#bd3786"
             ],
             [
              0.5555555555555556,
              "#d8576b"
             ],
             [
              0.6666666666666666,
              "#ed7953"
             ],
             [
              0.7777777777777778,
              "#fb9f3a"
             ],
             [
              0.8888888888888888,
              "#fdca26"
             ],
             [
              1,
              "#f0f921"
             ]
            ],
            "type": "contour"
           }
          ],
          "contourcarpet": [
           {
            "colorbar": {
             "outlinewidth": 0,
             "ticks": ""
            },
            "type": "contourcarpet"
           }
          ],
          "heatmap": [
           {
            "colorbar": {
             "outlinewidth": 0,
             "ticks": ""
            },
            "colorscale": [
             [
              0,
              "#0d0887"
             ],
             [
              0.1111111111111111,
              "#46039f"
             ],
             [
              0.2222222222222222,
              "#7201a8"
             ],
             [
              0.3333333333333333,
              "#9c179e"
             ],
             [
              0.4444444444444444,
              "#bd3786"
             ],
             [
              0.5555555555555556,
              "#d8576b"
             ],
             [
              0.6666666666666666,
              "#ed7953"
             ],
             [
              0.7777777777777778,
              "#fb9f3a"
             ],
             [
              0.8888888888888888,
              "#fdca26"
             ],
             [
              1,
              "#f0f921"
             ]
            ],
            "type": "heatmap"
           }
          ],
          "heatmapgl": [
           {
            "colorbar": {
             "outlinewidth": 0,
             "ticks": ""
            },
            "colorscale": [
             [
              0,
              "#0d0887"
             ],
             [
              0.1111111111111111,
              "#46039f"
             ],
             [
              0.2222222222222222,
              "#7201a8"
             ],
             [
              0.3333333333333333,
              "#9c179e"
             ],
             [
              0.4444444444444444,
              "#bd3786"
             ],
             [
              0.5555555555555556,
              "#d8576b"
             ],
             [
              0.6666666666666666,
              "#ed7953"
             ],
             [
              0.7777777777777778,
              "#fb9f3a"
             ],
             [
              0.8888888888888888,
              "#fdca26"
             ],
             [
              1,
              "#f0f921"
             ]
            ],
            "type": "heatmapgl"
           }
          ],
          "histogram": [
           {
            "marker": {
             "pattern": {
              "fillmode": "overlay",
              "size": 10,
              "solidity": 0.2
             }
            },
            "type": "histogram"
           }
          ],
          "histogram2d": [
           {
            "colorbar": {
             "outlinewidth": 0,
             "ticks": ""
            },
            "colorscale": [
             [
              0,
              "#0d0887"
             ],
             [
              0.1111111111111111,
              "#46039f"
             ],
             [
              0.2222222222222222,
              "#7201a8"
             ],
             [
              0.3333333333333333,
              "#9c179e"
             ],
             [
              0.4444444444444444,
              "#bd3786"
             ],
             [
              0.5555555555555556,
              "#d8576b"
             ],
             [
              0.6666666666666666,
              "#ed7953"
             ],
             [
              0.7777777777777778,
              "#fb9f3a"
             ],
             [
              0.8888888888888888,
              "#fdca26"
             ],
             [
              1,
              "#f0f921"
             ]
            ],
            "type": "histogram2d"
           }
          ],
          "histogram2dcontour": [
           {
            "colorbar": {
             "outlinewidth": 0,
             "ticks": ""
            },
            "colorscale": [
             [
              0,
              "#0d0887"
             ],
             [
              0.1111111111111111,
              "#46039f"
             ],
             [
              0.2222222222222222,
              "#7201a8"
             ],
             [
              0.3333333333333333,
              "#9c179e"
             ],
             [
              0.4444444444444444,
              "#bd3786"
             ],
             [
              0.5555555555555556,
              "#d8576b"
             ],
             [
              0.6666666666666666,
              "#ed7953"
             ],
             [
              0.7777777777777778,
              "#fb9f3a"
             ],
             [
              0.8888888888888888,
              "#fdca26"
             ],
             [
              1,
              "#f0f921"
             ]
            ],
            "type": "histogram2dcontour"
           }
          ],
          "mesh3d": [
           {
            "colorbar": {
             "outlinewidth": 0,
             "ticks": ""
            },
            "type": "mesh3d"
           }
          ],
          "parcoords": [
           {
            "line": {
             "colorbar": {
              "outlinewidth": 0,
              "ticks": ""
             }
            },
            "type": "parcoords"
           }
          ],
          "pie": [
           {
            "automargin": true,
            "type": "pie"
           }
          ],
          "scatter": [
           {
            "fillpattern": {
             "fillmode": "overlay",
             "size": 10,
             "solidity": 0.2
            },
            "type": "scatter"
           }
          ],
          "scatter3d": [
           {
            "line": {
             "colorbar": {
              "outlinewidth": 0,
              "ticks": ""
             }
            },
            "marker": {
             "colorbar": {
              "outlinewidth": 0,
              "ticks": ""
             }
            },
            "type": "scatter3d"
           }
          ],
          "scattercarpet": [
           {
            "marker": {
             "colorbar": {
              "outlinewidth": 0,
              "ticks": ""
             }
            },
            "type": "scattercarpet"
           }
          ],
          "scattergeo": [
           {
            "marker": {
             "colorbar": {
              "outlinewidth": 0,
              "ticks": ""
             }
            },
            "type": "scattergeo"
           }
          ],
          "scattergl": [
           {
            "marker": {
             "colorbar": {
              "outlinewidth": 0,
              "ticks": ""
             }
            },
            "type": "scattergl"
           }
          ],
          "scattermapbox": [
           {
            "marker": {
             "colorbar": {
              "outlinewidth": 0,
              "ticks": ""
             }
            },
            "type": "scattermapbox"
           }
          ],
          "scatterpolar": [
           {
            "marker": {
             "colorbar": {
              "outlinewidth": 0,
              "ticks": ""
             }
            },
            "type": "scatterpolar"
           }
          ],
          "scatterpolargl": [
           {
            "marker": {
             "colorbar": {
              "outlinewidth": 0,
              "ticks": ""
             }
            },
            "type": "scatterpolargl"
           }
          ],
          "scatterternary": [
           {
            "marker": {
             "colorbar": {
              "outlinewidth": 0,
              "ticks": ""
             }
            },
            "type": "scatterternary"
           }
          ],
          "surface": [
           {
            "colorbar": {
             "outlinewidth": 0,
             "ticks": ""
            },
            "colorscale": [
             [
              0,
              "#0d0887"
             ],
             [
              0.1111111111111111,
              "#46039f"
             ],
             [
              0.2222222222222222,
              "#7201a8"
             ],
             [
              0.3333333333333333,
              "#9c179e"
             ],
             [
              0.4444444444444444,
              "#bd3786"
             ],
             [
              0.5555555555555556,
              "#d8576b"
             ],
             [
              0.6666666666666666,
              "#ed7953"
             ],
             [
              0.7777777777777778,
              "#fb9f3a"
             ],
             [
              0.8888888888888888,
              "#fdca26"
             ],
             [
              1,
              "#f0f921"
             ]
            ],
            "type": "surface"
           }
          ],
          "table": [
           {
            "cells": {
             "fill": {
              "color": "#EBF0F8"
             },
             "line": {
              "color": "white"
             }
            },
            "header": {
             "fill": {
              "color": "#C8D4E3"
             },
             "line": {
              "color": "white"
             }
            },
            "type": "table"
           }
          ]
         },
         "layout": {
          "annotationdefaults": {
           "arrowcolor": "#2a3f5f",
           "arrowhead": 0,
           "arrowwidth": 1
          },
          "autotypenumbers": "strict",
          "coloraxis": {
           "colorbar": {
            "outlinewidth": 0,
            "ticks": ""
           }
          },
          "colorscale": {
           "diverging": [
            [
             0,
             "#8e0152"
            ],
            [
             0.1,
             "#c51b7d"
            ],
            [
             0.2,
             "#de77ae"
            ],
            [
             0.3,
             "#f1b6da"
            ],
            [
             0.4,
             "#fde0ef"
            ],
            [
             0.5,
             "#f7f7f7"
            ],
            [
             0.6,
             "#e6f5d0"
            ],
            [
             0.7,
             "#b8e186"
            ],
            [
             0.8,
             "#7fbc41"
            ],
            [
             0.9,
             "#4d9221"
            ],
            [
             1,
             "#276419"
            ]
           ],
           "sequential": [
            [
             0,
             "#0d0887"
            ],
            [
             0.1111111111111111,
             "#46039f"
            ],
            [
             0.2222222222222222,
             "#7201a8"
            ],
            [
             0.3333333333333333,
             "#9c179e"
            ],
            [
             0.4444444444444444,
             "#bd3786"
            ],
            [
             0.5555555555555556,
             "#d8576b"
            ],
            [
             0.6666666666666666,
             "#ed7953"
            ],
            [
             0.7777777777777778,
             "#fb9f3a"
            ],
            [
             0.8888888888888888,
             "#fdca26"
            ],
            [
             1,
             "#f0f921"
            ]
           ],
           "sequentialminus": [
            [
             0,
             "#0d0887"
            ],
            [
             0.1111111111111111,
             "#46039f"
            ],
            [
             0.2222222222222222,
             "#7201a8"
            ],
            [
             0.3333333333333333,
             "#9c179e"
            ],
            [
             0.4444444444444444,
             "#bd3786"
            ],
            [
             0.5555555555555556,
             "#d8576b"
            ],
            [
             0.6666666666666666,
             "#ed7953"
            ],
            [
             0.7777777777777778,
             "#fb9f3a"
            ],
            [
             0.8888888888888888,
             "#fdca26"
            ],
            [
             1,
             "#f0f921"
            ]
           ]
          },
          "colorway": [
           "#636efa",
           "#EF553B",
           "#00cc96",
           "#ab63fa",
           "#FFA15A",
           "#19d3f3",
           "#FF6692",
           "#B6E880",
           "#FF97FF",
           "#FECB52"
          ],
          "font": {
           "color": "#2a3f5f"
          },
          "geo": {
           "bgcolor": "white",
           "lakecolor": "white",
           "landcolor": "#E5ECF6",
           "showlakes": true,
           "showland": true,
           "subunitcolor": "white"
          },
          "hoverlabel": {
           "align": "left"
          },
          "hovermode": "closest",
          "mapbox": {
           "style": "light"
          },
          "paper_bgcolor": "white",
          "plot_bgcolor": "#E5ECF6",
          "polar": {
           "angularaxis": {
            "gridcolor": "white",
            "linecolor": "white",
            "ticks": ""
           },
           "bgcolor": "#E5ECF6",
           "radialaxis": {
            "gridcolor": "white",
            "linecolor": "white",
            "ticks": ""
           }
          },
          "scene": {
           "xaxis": {
            "backgroundcolor": "#E5ECF6",
            "gridcolor": "white",
            "gridwidth": 2,
            "linecolor": "white",
            "showbackground": true,
            "ticks": "",
            "zerolinecolor": "white"
           },
           "yaxis": {
            "backgroundcolor": "#E5ECF6",
            "gridcolor": "white",
            "gridwidth": 2,
            "linecolor": "white",
            "showbackground": true,
            "ticks": "",
            "zerolinecolor": "white"
           },
           "zaxis": {
            "backgroundcolor": "#E5ECF6",
            "gridcolor": "white",
            "gridwidth": 2,
            "linecolor": "white",
            "showbackground": true,
            "ticks": "",
            "zerolinecolor": "white"
           }
          },
          "shapedefaults": {
           "line": {
            "color": "#2a3f5f"
           }
          },
          "ternary": {
           "aaxis": {
            "gridcolor": "white",
            "linecolor": "white",
            "ticks": ""
           },
           "baxis": {
            "gridcolor": "white",
            "linecolor": "white",
            "ticks": ""
           },
           "bgcolor": "#E5ECF6",
           "caxis": {
            "gridcolor": "white",
            "linecolor": "white",
            "ticks": ""
           }
          },
          "title": {
           "x": 0.05
          },
          "xaxis": {
           "automargin": true,
           "gridcolor": "white",
           "linecolor": "white",
           "ticks": "",
           "title": {
            "standoff": 15
           },
           "zerolinecolor": "white",
           "zerolinewidth": 2
          },
          "yaxis": {
           "automargin": true,
           "gridcolor": "white",
           "linecolor": "white",
           "ticks": "",
           "title": {
            "standoff": 15
           },
           "zerolinecolor": "white",
           "zerolinewidth": 2
          }
         }
        },
        "title": {
         "text": "Vehicle manoeuvre at the time of accident"
        },
        "width": 800
       }
      },
      "text/html": [
       "<div>                            <div id=\"bd7fa8a4-9197-4b3a-8009-ede758305dd8\" class=\"plotly-graph-div\" style=\"height:500px; width:800px;\"></div>            <script type=\"text/javascript\">                require([\"plotly\"], function(Plotly) {                    window.PLOTLYENV=window.PLOTLYENV || {};                                    if (document.getElementById(\"bd7fa8a4-9197-4b3a-8009-ede758305dd8\")) {                    Plotly.newPlot(                        \"bd7fa8a4-9197-4b3a-8009-ede758305dd8\",                        [{\"labels\":[\"Going ahead other\",\"Turning right\",\"Slowing or stopping\",\"Waiting to go - held up\",\"Going ahead right-hand bend\",\"Moving off\",\"Going ahead left-hand bend\",\"Turning left\",\"Parked\",\"Waiting to turn right\",\"Overtaking moving vehicle - offside\",\"Reversing\",\"Overtaking static vehicle - offside\",\"U-turn\",\"Changing lane to right\",\"Changing lane to left\",\"Waiting to turn left\",\"Overtaking - nearside\"],\"marker\":{\"colors\":[\"#25e475\",\"#ee1c96\"]},\"values\":[569265,138103,107939,101278,55638,50303,48479,39743,30489,24703,23738,15082,14702,10761,9946,9124,8277,5628],\"type\":\"pie\"}],                        {\"height\":500,\"template\":{\"data\":{\"barpolar\":[{\"marker\":{\"line\":{\"color\":\"#E5ECF6\",\"width\":0.5},\"pattern\":{\"fillmode\":\"overlay\",\"size\":10,\"solidity\":0.2}},\"type\":\"barpolar\"}],\"bar\":[{\"error_x\":{\"color\":\"#2a3f5f\"},\"error_y\":{\"color\":\"#2a3f5f\"},\"marker\":{\"line\":{\"color\":\"#E5ECF6\",\"width\":0.5},\"pattern\":{\"fillmode\":\"overlay\",\"size\":10,\"solidity\":0.2}},\"type\":\"bar\"}],\"carpet\":[{\"aaxis\":{\"endlinecolor\":\"#2a3f5f\",\"gridcolor\":\"white\",\"linecolor\":\"white\",\"minorgridcolor\":\"white\",\"startlinecolor\":\"#2a3f5f\"},\"baxis\":{\"endlinecolor\":\"#2a3f5f\",\"gridcolor\":\"white\",\"linecolor\":\"white\",\"minorgridcolor\":\"white\",\"startlinecolor\":\"#2a3f5f\"},\"type\":\"carpet\"}],\"choropleth\":[{\"colorbar\":{\"outlinewidth\":0,\"ticks\":\"\"},\"type\":\"choropleth\"}],\"contourcarpet\":[{\"colorbar\":{\"outlinewidth\":0,\"ticks\":\"\"},\"type\":\"contourcarpet\"}],\"contour\":[{\"colorbar\":{\"outlinewidth\":0,\"ticks\":\"\"},\"colorscale\":[[0.0,\"#0d0887\"],[0.1111111111111111,\"#46039f\"],[0.2222222222222222,\"#7201a8\"],[0.3333333333333333,\"#9c179e\"],[0.4444444444444444,\"#bd3786\"],[0.5555555555555556,\"#d8576b\"],[0.6666666666666666,\"#ed7953\"],[0.7777777777777778,\"#fb9f3a\"],[0.8888888888888888,\"#fdca26\"],[1.0,\"#f0f921\"]],\"type\":\"contour\"}],\"heatmapgl\":[{\"colorbar\":{\"outlinewidth\":0,\"ticks\":\"\"},\"colorscale\":[[0.0,\"#0d0887\"],[0.1111111111111111,\"#46039f\"],[0.2222222222222222,\"#7201a8\"],[0.3333333333333333,\"#9c179e\"],[0.4444444444444444,\"#bd3786\"],[0.5555555555555556,\"#d8576b\"],[0.6666666666666666,\"#ed7953\"],[0.7777777777777778,\"#fb9f3a\"],[0.8888888888888888,\"#fdca26\"],[1.0,\"#f0f921\"]],\"type\":\"heatmapgl\"}],\"heatmap\":[{\"colorbar\":{\"outlinewidth\":0,\"ticks\":\"\"},\"colorscale\":[[0.0,\"#0d0887\"],[0.1111111111111111,\"#46039f\"],[0.2222222222222222,\"#7201a8\"],[0.3333333333333333,\"#9c179e\"],[0.4444444444444444,\"#bd3786\"],[0.5555555555555556,\"#d8576b\"],[0.6666666666666666,\"#ed7953\"],[0.7777777777777778,\"#fb9f3a\"],[0.8888888888888888,\"#fdca26\"],[1.0,\"#f0f921\"]],\"type\":\"heatmap\"}],\"histogram2dcontour\":[{\"colorbar\":{\"outlinewidth\":0,\"ticks\":\"\"},\"colorscale\":[[0.0,\"#0d0887\"],[0.1111111111111111,\"#46039f\"],[0.2222222222222222,\"#7201a8\"],[0.3333333333333333,\"#9c179e\"],[0.4444444444444444,\"#bd3786\"],[0.5555555555555556,\"#d8576b\"],[0.6666666666666666,\"#ed7953\"],[0.7777777777777778,\"#fb9f3a\"],[0.8888888888888888,\"#fdca26\"],[1.0,\"#f0f921\"]],\"type\":\"histogram2dcontour\"}],\"histogram2d\":[{\"colorbar\":{\"outlinewidth\":0,\"ticks\":\"\"},\"colorscale\":[[0.0,\"#0d0887\"],[0.1111111111111111,\"#46039f\"],[0.2222222222222222,\"#7201a8\"],[0.3333333333333333,\"#9c179e\"],[0.4444444444444444,\"#bd3786\"],[0.5555555555555556,\"#d8576b\"],[0.6666666666666666,\"#ed7953\"],[0.7777777777777778,\"#fb9f3a\"],[0.8888888888888888,\"#fdca26\"],[1.0,\"#f0f921\"]],\"type\":\"histogram2d\"}],\"histogram\":[{\"marker\":{\"pattern\":{\"fillmode\":\"overlay\",\"size\":10,\"solidity\":0.2}},\"type\":\"histogram\"}],\"mesh3d\":[{\"colorbar\":{\"outlinewidth\":0,\"ticks\":\"\"},\"type\":\"mesh3d\"}],\"parcoords\":[{\"line\":{\"colorbar\":{\"outlinewidth\":0,\"ticks\":\"\"}},\"type\":\"parcoords\"}],\"pie\":[{\"automargin\":true,\"type\":\"pie\"}],\"scatter3d\":[{\"line\":{\"colorbar\":{\"outlinewidth\":0,\"ticks\":\"\"}},\"marker\":{\"colorbar\":{\"outlinewidth\":0,\"ticks\":\"\"}},\"type\":\"scatter3d\"}],\"scattercarpet\":[{\"marker\":{\"colorbar\":{\"outlinewidth\":0,\"ticks\":\"\"}},\"type\":\"scattercarpet\"}],\"scattergeo\":[{\"marker\":{\"colorbar\":{\"outlinewidth\":0,\"ticks\":\"\"}},\"type\":\"scattergeo\"}],\"scattergl\":[{\"marker\":{\"colorbar\":{\"outlinewidth\":0,\"ticks\":\"\"}},\"type\":\"scattergl\"}],\"scattermapbox\":[{\"marker\":{\"colorbar\":{\"outlinewidth\":0,\"ticks\":\"\"}},\"type\":\"scattermapbox\"}],\"scatterpolargl\":[{\"marker\":{\"colorbar\":{\"outlinewidth\":0,\"ticks\":\"\"}},\"type\":\"scatterpolargl\"}],\"scatterpolar\":[{\"marker\":{\"colorbar\":{\"outlinewidth\":0,\"ticks\":\"\"}},\"type\":\"scatterpolar\"}],\"scatter\":[{\"fillpattern\":{\"fillmode\":\"overlay\",\"size\":10,\"solidity\":0.2},\"type\":\"scatter\"}],\"scatterternary\":[{\"marker\":{\"colorbar\":{\"outlinewidth\":0,\"ticks\":\"\"}},\"type\":\"scatterternary\"}],\"surface\":[{\"colorbar\":{\"outlinewidth\":0,\"ticks\":\"\"},\"colorscale\":[[0.0,\"#0d0887\"],[0.1111111111111111,\"#46039f\"],[0.2222222222222222,\"#7201a8\"],[0.3333333333333333,\"#9c179e\"],[0.4444444444444444,\"#bd3786\"],[0.5555555555555556,\"#d8576b\"],[0.6666666666666666,\"#ed7953\"],[0.7777777777777778,\"#fb9f3a\"],[0.8888888888888888,\"#fdca26\"],[1.0,\"#f0f921\"]],\"type\":\"surface\"}],\"table\":[{\"cells\":{\"fill\":{\"color\":\"#EBF0F8\"},\"line\":{\"color\":\"white\"}},\"header\":{\"fill\":{\"color\":\"#C8D4E3\"},\"line\":{\"color\":\"white\"}},\"type\":\"table\"}]},\"layout\":{\"annotationdefaults\":{\"arrowcolor\":\"#2a3f5f\",\"arrowhead\":0,\"arrowwidth\":1},\"autotypenumbers\":\"strict\",\"coloraxis\":{\"colorbar\":{\"outlinewidth\":0,\"ticks\":\"\"}},\"colorscale\":{\"diverging\":[[0,\"#8e0152\"],[0.1,\"#c51b7d\"],[0.2,\"#de77ae\"],[0.3,\"#f1b6da\"],[0.4,\"#fde0ef\"],[0.5,\"#f7f7f7\"],[0.6,\"#e6f5d0\"],[0.7,\"#b8e186\"],[0.8,\"#7fbc41\"],[0.9,\"#4d9221\"],[1,\"#276419\"]],\"sequential\":[[0.0,\"#0d0887\"],[0.1111111111111111,\"#46039f\"],[0.2222222222222222,\"#7201a8\"],[0.3333333333333333,\"#9c179e\"],[0.4444444444444444,\"#bd3786\"],[0.5555555555555556,\"#d8576b\"],[0.6666666666666666,\"#ed7953\"],[0.7777777777777778,\"#fb9f3a\"],[0.8888888888888888,\"#fdca26\"],[1.0,\"#f0f921\"]],\"sequentialminus\":[[0.0,\"#0d0887\"],[0.1111111111111111,\"#46039f\"],[0.2222222222222222,\"#7201a8\"],[0.3333333333333333,\"#9c179e\"],[0.4444444444444444,\"#bd3786\"],[0.5555555555555556,\"#d8576b\"],[0.6666666666666666,\"#ed7953\"],[0.7777777777777778,\"#fb9f3a\"],[0.8888888888888888,\"#fdca26\"],[1.0,\"#f0f921\"]]},\"colorway\":[\"#636efa\",\"#EF553B\",\"#00cc96\",\"#ab63fa\",\"#FFA15A\",\"#19d3f3\",\"#FF6692\",\"#B6E880\",\"#FF97FF\",\"#FECB52\"],\"font\":{\"color\":\"#2a3f5f\"},\"geo\":{\"bgcolor\":\"white\",\"lakecolor\":\"white\",\"landcolor\":\"#E5ECF6\",\"showlakes\":true,\"showland\":true,\"subunitcolor\":\"white\"},\"hoverlabel\":{\"align\":\"left\"},\"hovermode\":\"closest\",\"mapbox\":{\"style\":\"light\"},\"paper_bgcolor\":\"white\",\"plot_bgcolor\":\"#E5ECF6\",\"polar\":{\"angularaxis\":{\"gridcolor\":\"white\",\"linecolor\":\"white\",\"ticks\":\"\"},\"bgcolor\":\"#E5ECF6\",\"radialaxis\":{\"gridcolor\":\"white\",\"linecolor\":\"white\",\"ticks\":\"\"}},\"scene\":{\"xaxis\":{\"backgroundcolor\":\"#E5ECF6\",\"gridcolor\":\"white\",\"gridwidth\":2,\"linecolor\":\"white\",\"showbackground\":true,\"ticks\":\"\",\"zerolinecolor\":\"white\"},\"yaxis\":{\"backgroundcolor\":\"#E5ECF6\",\"gridcolor\":\"white\",\"gridwidth\":2,\"linecolor\":\"white\",\"showbackground\":true,\"ticks\":\"\",\"zerolinecolor\":\"white\"},\"zaxis\":{\"backgroundcolor\":\"#E5ECF6\",\"gridcolor\":\"white\",\"gridwidth\":2,\"linecolor\":\"white\",\"showbackground\":true,\"ticks\":\"\",\"zerolinecolor\":\"white\"}},\"shapedefaults\":{\"line\":{\"color\":\"#2a3f5f\"}},\"ternary\":{\"aaxis\":{\"gridcolor\":\"white\",\"linecolor\":\"white\",\"ticks\":\"\"},\"baxis\":{\"gridcolor\":\"white\",\"linecolor\":\"white\",\"ticks\":\"\"},\"bgcolor\":\"#E5ECF6\",\"caxis\":{\"gridcolor\":\"white\",\"linecolor\":\"white\",\"ticks\":\"\"}},\"title\":{\"x\":0.05},\"xaxis\":{\"automargin\":true,\"gridcolor\":\"white\",\"linecolor\":\"white\",\"ticks\":\"\",\"title\":{\"standoff\":15},\"zerolinecolor\":\"white\",\"zerolinewidth\":2},\"yaxis\":{\"automargin\":true,\"gridcolor\":\"white\",\"linecolor\":\"white\",\"ticks\":\"\",\"title\":{\"standoff\":15},\"zerolinecolor\":\"white\",\"zerolinewidth\":2}}},\"title\":{\"text\":\"Vehicle manoeuvre at the time of accident\"},\"width\":800},                        {\"responsive\": true}                    ).then(function(){\n",
       "                            \n",
       "var gd = document.getElementById('bd7fa8a4-9197-4b3a-8009-ede758305dd8');\n",
       "var x = new MutationObserver(function (mutations, observer) {{\n",
       "        var display = window.getComputedStyle(gd).display;\n",
       "        if (!display || display === 'none') {{\n",
       "            console.log([gd, 'removed!']);\n",
       "            Plotly.purge(gd);\n",
       "            observer.disconnect();\n",
       "        }}\n",
       "}});\n",
       "\n",
       "// Listen for the removal of the full notebook cells\n",
       "var notebookContainer = gd.closest('#notebook-container');\n",
       "if (notebookContainer) {{\n",
       "    x.observe(notebookContainer, {childList: true});\n",
       "}}\n",
       "\n",
       "// Listen for the clearing of the current output cell\n",
       "var outputEl = gd.closest('.output');\n",
       "if (outputEl) {{\n",
       "    x.observe(outputEl, {childList: true});\n",
       "}}\n",
       "\n",
       "                        })                };                });            </script>        </div>"
      ]
     },
     "metadata": {},
     "output_type": "display_data"
    }
   ],
   "source": [
    "pie_visual = go.Pie(labels=manoeuvre, values=count_manoeuvre, marker=dict(colors=['#25e475', '#ee1c96',]))\n",
    "\n",
    "layout = go.Layout(title='Vehicle manoeuvre at the time of accident', width=800, height=500)\n",
    "fig = go.Figure(data=[pie_visual], layout=layout)\n",
    "iplot(fig)"
   ]
  },
  {
   "cell_type": "markdown",
   "id": "dca691e0",
   "metadata": {},
   "source": [
    "Average number of casualities by Daytime"
   ]
  },
  {
   "cell_type": "markdown",
   "id": "272b0e25",
   "metadata": {},
   "source": []
  },
  {
   "cell_type": "code",
   "execution_count": 77,
   "id": "65bc7d70",
   "metadata": {},
   "outputs": [],
   "source": [
    "# Create a dictionary of Daytime groups\n",
    "daytime_groups = {1: 'Morning (5-10)', \n",
    "                  2: 'Office Hours (10-15)', \n",
    "                  3: 'Afternoon Rush (15-19)', \n",
    "                  4: 'Evening (19-23)', \n",
    "                  5: 'Night(23-5)'}"
   ]
  },
  {
   "cell_type": "code",
   "execution_count": 78,
   "id": "a4c7b649",
   "metadata": {},
   "outputs": [],
   "source": [
    "labels = tuple(daytime_groups.values())"
   ]
  },
  {
   "cell_type": "code",
   "execution_count": 79,
   "id": "2583276a",
   "metadata": {},
   "outputs": [
    {
     "data": {
      "image/png": "[encoded data removed]",
      "text/plain": [
       "<Figure size 1200x400 with 1 Axes>"
      ]
     },
     "metadata": {},
     "output_type": "display_data"
    }
   ],
   "source": [
    "# plot average no. of casualties by daytime\n",
    "eda_data_1.groupby('Daytime')['Number_of_Casualties'].mean().plot(kind='bar', color='slategrey', \n",
    "                                                                 figsize=(12,4), grid=False)\n",
    "plt.xticks(np.arange(5), labels, rotation='horizontal')\n",
    "plt.ylim((1,1.5))\n",
    "plt.xlabel(''), plt.ylabel('Average Number of Casualties\\n')\n",
    "plt.title('\\nAverage Number of Casualties by Daytime\\n', fontweight='bold')\n",
    "sns.despine(top=True, right=True, left=True, bottom=True);"
   ]
  },
  {
   "cell_type": "markdown",
   "id": "db56c000",
   "metadata": {},
   "source": [
    "Average number of casualities by speed limit"
   ]
  },
  {
   "cell_type": "code",
   "execution_count": 80,
   "id": "062d1c63",
   "metadata": {},
   "outputs": [
    {
     "data": {
      "text/plain": [
       "Speed_limit\n",
       "10.0    1.000000\n",
       "15.0    1.166667\n",
       "20.0    1.253619\n",
       "30.0    1.375799\n",
       "40.0    1.566691\n",
       "50.0    1.658012\n",
       "60.0    1.661399\n",
       "70.0    1.822820\n",
       "Name: Number_of_Casualties, dtype: float64"
      ]
     },
     "execution_count": 80,
     "metadata": {},
     "output_type": "execute_result"
    }
   ],
   "source": [
    "eda_data_1.groupby('Speed_limit')['Number_of_Casualties'].mean()"
   ]
  },
  {
   "cell_type": "code",
   "execution_count": 81,
   "id": "09318346",
   "metadata": {},
   "outputs": [
    {
     "data": {
      "image/png": "[encoded data removed]",
      "text/plain": [
       "<Figure size 1500x400 with 1 Axes>"
      ]
     },
     "metadata": {},
     "output_type": "display_data"
    }
   ],
   "source": [
    "# check speed limit\n",
    "eda_data_1.groupby('Speed_limit')['Number_of_Casualties'].mean().plot(kind='bar', color='slategrey', \n",
    "                                                              figsize=(15,4), grid=False)\n",
    "plt.xticks(np.arange(8), \n",
    "           ['10mph', '15mph', '20mph', '30mph', '40mph', '50mph', '60mph', '70mph'], \n",
    "           rotation='horizontal')\n",
    "plt.ylim((0.6,2.0))\n",
    "plt.xlabel(''), plt.ylabel('Average Number of Casualties\\n')\n",
    "plt.title('\\nAverage Number of Casualties by Speed Limit\\n', fontweight='bold')\n",
    "sns.despine(top=True, right=True, left=True, bottom=True);"
   ]
  },
  {
   "cell_type": "code",
   "execution_count": null,
   "id": "8e18ad04",
   "metadata": {},
   "outputs": [],
   "source": []
  },
  {
   "cell_type": "code",
   "execution_count": null,
   "id": "81955829",
   "metadata": {},
   "outputs": [],
   "source": []
  },
  {
   "cell_type": "markdown",
   "id": "f66d188c",
   "metadata": {},
   "source": []
  }
 ],
 "metadata": {
  "kernelspec": {
   "display_name": "Python 3 (ipykernel)",
   "language": "python",
   "name": "python3"
  },
  "language_info": {
   "codemirror_mode": {
    "name": "ipython",
    "version": 3
   },
   "file_extension": ".py",
   "mimetype": "text/x-python",
   "name": "python",
   "nbconvert_exporter": "python",
   "pygments_lexer": "ipython3",
   "version": "3.9.13"
  }
 },
 "nbformat": 4,
 "nbformat_minor": 5
}
